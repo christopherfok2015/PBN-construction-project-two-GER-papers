{
 "cells": [
  {
   "cell_type": "markdown",
   "id": "31c1c4b9-6ee1-4e95-b855-bc97b6c39564",
   "metadata": {},
   "source": [
    "# Greedy Entry Removal Algorithm (GER)"
   ]
  },
  {
   "cell_type": "code",
   "execution_count": 1,
   "id": "68196842-700c-4ca3-add3-df088b382380",
   "metadata": {},
   "outputs": [],
   "source": [
    "import numpy as np"
   ]
  },
  {
   "cell_type": "markdown",
   "id": "0d0fc13c-f8d8-4211-ab4a-6b5b4472a576",
   "metadata": {},
   "source": [
    "### The Entry Selection Procedure for the GER algorithm"
   ]
  },
  {
   "cell_type": "markdown",
   "id": "96a46b9e-97fd-4d2d-9178-db8a5d4e9f35",
   "metadata": {},
   "source": [
    "Step 1, 2, ..., n are the step labels in the Microsoft Word document \"construct simpler versions of the GER algorithm (2023-2-5).docx\"."
   ]
  },
  {
   "cell_type": "code",
   "execution_count": 7,
   "id": "c36ca0c0-0365-49a4-a805-332e816857dd",
   "metadata": {},
   "outputs": [],
   "source": [
    " def GER_entry_choosing_procedure(residue_matrix_R, score_parameter_z):\n",
    "    R_row_num = residue_matrix_R.shape[0]\n",
    "    R_col_num = residue_matrix_R.shape[1]\n",
    "    chosen_entry_pos_each_col = np.array([[-R_row_num - 1] * R_col_num])\n",
    "    \n",
    "    # Step 1\n",
    "    max_entry_M = np.amax(residue_matrix_R)\n",
    "    \n",
    "    # Step 2\n",
    "    # the col dimension should be max_entry_M + 1 because index starts at 0 but not 1.\n",
    "    occurrence_count_Li = np.zeros((R_col_num, 1 + max_entry_M), dtype=int)\n",
    "    occurrence_indication_Ki = np.zeros((R_col_num, 1 + max_entry_M), dtype=int)\n",
    "    \n",
    "    for col_counter in range(R_col_num):\n",
    "        for row_counter in range(R_row_num):\n",
    "            entry_val_a = residue_matrix_R[row_counter, col_counter]\n",
    "            if entry_val_a > 0:\n",
    "                occurrence_indication_Ki[col_counter, entry_val_a] = 1\n",
    "                occurrence_count_Li[col_counter, entry_val_a] += 1\n",
    "    \n",
    "    # Step 3\n",
    "    max_entry_each_col_Mi = np.amax(residue_matrix_R, axis=0)\n",
    "    upper_bound_B = np.amin(max_entry_each_col_Mi)\n",
    "    \n",
    "    # Step 4\n",
    "    occurrence_all_columns_K = np.sum(occurrence_indication_Ki, axis=0)\n",
    "    \n",
    "    # Step 5\n",
    "    first_B_vals_of_K = occurrence_all_columns_K[0:upper_bound_B + 1] # the value at index 0 should be ignored.\n",
    "    most_occurred_entries_v = find_most_occurred_entries(first_B_vals_of_K, upper_bound_B)\n",
    "    # most_occurred_entries_v is a list.\n",
    "    \n",
    "    # Step 6\n",
    "    chosen_entry_pos_each_col_for_each_v = {}\n",
    "    indicator_array_for_selected_columns_for_each_v = {}\n",
    "    occurrence_count_Li_for_each_v = {}\n",
    "    occurrence_indication_Ki_for_each_v = {}\n",
    "    cumulative_occurrence_indication_Ktoj_cumu_for_each_v = {}\n",
    "    selection_score_u_for_each_v = {}\n",
    "    \n",
    "    for v in most_occurred_entries_v:\n",
    "        chosen_entry_pos_each_col_for_each_v[v] = np.array([[-R_row_num - 1] * R_col_num])\n",
    "        indicator_array_for_selected_columns_for_each_v[v] = np.zeros(R_col_num, dtype=int)\n",
    "        occurrence_count_Li_for_each_v[v] = occurrence_count_Li.copy()\n",
    "        occurrence_indication_Ki_for_each_v[v] = occurrence_indication_Ki.copy()\n",
    "        cumulative_occurrence_indication_Ktoj_cumu_for_each_v[v] = np.zeros(1 + max_entry_M)\n",
    "    \n",
    "    for v in most_occurred_entries_v:\n",
    "        for col_counter_i in range(R_col_num):\n",
    "            if occurrence_indication_Ki_for_each_v[v][col_counter_i, v] == 1:\n",
    "                q = find_the_position_of_val_in_specific_col(residue_matrix_R, R_row_num, col_counter_i, v)\n",
    "                chosen_entry_pos_each_col_for_each_v[v][0, col_counter_i] = q\n",
    "                indicator_array_for_selected_columns_for_each_v[v][col_counter_i] = 1\n",
    "                \n",
    "                occurrence_count_Li_for_each_v[v][col_counter_i, v] -= 1\n",
    "                if occurrence_count_Li_for_each_v[v][col_counter_i, v] == 0:\n",
    "                    occurrence_indication_Ki_for_each_v[v][col_counter_i, v] = 0\n",
    "                cumulative_occurrence_indication_Ktoj_cumu_for_each_v[v] += \\\n",
    "                occurrence_indication_Ki_for_each_v[v][col_counter_i, :]\n",
    "    \n",
    "        for col_counter_i in range(R_col_num):\n",
    "            if indicator_array_for_selected_columns_for_each_v[v][col_counter_i] == 0:\n",
    "                list_of_candidate_entry_vals = \\\n",
    "                all_entry_vals_greater_than_val(residue_matrix_R, R_row_num, col_counter_i, v)\n",
    "                \n",
    "                occurrences_in_cumulative_Ktoj_cumu = {}\n",
    "                for val in list_of_candidate_entry_vals:\n",
    "                    occurrences_in_cumulative_Ktoj_cumu[val] = \\\n",
    "                    cumulative_occurrence_indication_Ktoj_cumu_for_each_v[v][val - v]\n",
    "            \n",
    "                greatest_occurrence = -1\n",
    "                entry_with_greatest_occurrence = -1\n",
    "            \n",
    "                for val in list_of_candidate_entry_vals:\n",
    "                    if greatest_occurrence < occurrences_in_cumulative_Ktoj_cumu[val]:\n",
    "                        greatest_occurrence = occurrences_in_cumulative_Ktoj_cumu[val]\n",
    "                        entry_with_greatest_occurrence = val\n",
    "                \n",
    "                chosen_entry_pos_each_col_for_each_v[v][0, col_counter_i] = \\\n",
    "                find_the_position_of_val_in_specific_col(residue_matrix_R, R_row_num, \n",
    "                                                         col_counter_i, entry_with_greatest_occurrence)\n",
    "                \n",
    "                indicator_array_for_selected_columns_for_each_v[v][col_counter_i] = 1\n",
    "                \n",
    "                occurrence_count_Li_for_each_v[v][col_counter_i, entry_with_greatest_occurrence] -= 1\n",
    "                if occurrence_count_Li_for_each_v[v][col_counter_i, entry_with_greatest_occurrence] == 0:\n",
    "                    occurrence_indication_Ki_for_each_v[v][col_counter_i, entry_with_greatest_occurrence] = 0\n",
    "                \n",
    "                occurrence_count_Li_for_each_v[v][col_counter_i, entry_with_greatest_occurrence - v] += 1\n",
    "                if occurrence_count_Li_for_each_v[v][col_counter_i, entry_with_greatest_occurrence - v] == 1:\n",
    "                    occurrence_indication_Ki_for_each_v[v][col_counter_i, \n",
    "                                                           entry_with_greatest_occurrence - v] = 1\n",
    "                \n",
    "                cumulative_occurrence_indication_Ktoj_cumu_for_each_v[v] += \\\n",
    "                occurrence_indication_Ki_for_each_v[v][col_counter_i, :]\n",
    "        \n",
    "        selection_score_u_for_each_v[v] = \\\n",
    "        compute_selection_score(cumulative_occurrence_indication_Ktoj_cumu_for_each_v[v], \n",
    "                                max_entry_M, score_parameter_z)\n",
    "    \n",
    "    # step 7\n",
    "    most_favourable_v_star = \\\n",
    "    choose_most_favourable_v_star(most_occurred_entries_v, selection_score_u_for_each_v)\n",
    "    \n",
    "    chosen_entry_xi = most_favourable_v_star\n",
    "    chosen_entry_pos_each_col = chosen_entry_pos_each_col_for_each_v[most_favourable_v_star]\n",
    "                \n",
    "    return chosen_entry_xi, chosen_entry_pos_each_col\n",
    "    # chosen_entry_xi is of type int; chosen_entry_pos_each_col is a 1-by-PBN_col_num 2D numpy ndarray."
   ]
  },
  {
   "cell_type": "markdown",
   "id": "9a9ce8a9-8562-455a-82a7-2dbffe93bde9",
   "metadata": {},
   "source": [
    "#### [1] The following function is utilised in step 5 of GER_entry_choosing_procedure."
   ]
  },
  {
   "cell_type": "code",
   "execution_count": 2,
   "id": "5e803e28-d20e-4bbd-aab6-bc3f13fb6d8e",
   "metadata": {},
   "outputs": [],
   "source": [
    "# The input first_B_vals_of_K of this function is a 1D numpy array of size\n",
    "# (upper_bound_B + 1), and the entry at index zero of this array is to be ignored.\n",
    "# The output of this function is a list.\n",
    "def find_most_occurred_entries(first_B_vals_of_K, upper_bound_B):\n",
    "    most_occurred_entries_v = []\n",
    "    greatest_occurrence = -1\n",
    "    \n",
    "    for v in range(1, upper_bound_B + 1):\n",
    "        if first_B_vals_of_K[v] > greatest_occurrence:\n",
    "            greatest_occurrence = first_B_vals_of_K[v]\n",
    "            most_occurred_entries_v = [v]\n",
    "        elif first_B_vals_of_K[v] == greatest_occurrence:\n",
    "            most_occurred_entries_v.append(v)\n",
    "    \n",
    "    return most_occurred_entries_v"
   ]
  },
  {
   "cell_type": "markdown",
   "id": "dd0b5ccd-db6c-40c6-bc64-1ff604967952",
   "metadata": {},
   "source": [
    "Test the function find_most_occurred_entries:"
   ]
  },
  {
   "cell_type": "code",
   "execution_count": 17,
   "id": "b23675b2-b7a2-46c3-b0b7-b1fa47d62a87",
   "metadata": {},
   "outputs": [
    {
     "data": {
      "text/plain": [
       "[6, 10]"
      ]
     },
     "execution_count": 17,
     "metadata": {},
     "output_type": "execute_result"
    }
   ],
   "source": [
    "test_ndarray_1 = [0, 0, 0, 2, 0, 0, 3, 1, 0, 1, 3]\n",
    "test_B_1 = 10\n",
    "\n",
    "find_most_occurred_entries(test_ndarray_1, test_B_1)"
   ]
  },
  {
   "cell_type": "code",
   "execution_count": 18,
   "id": "59eab3a2-7403-427e-b4e9-4ab30bdb8bd4",
   "metadata": {},
   "outputs": [
    {
     "data": {
      "text/plain": [
       "[6, 8]"
      ]
     },
     "execution_count": 18,
     "metadata": {},
     "output_type": "execute_result"
    }
   ],
   "source": [
    "test_ndarray_2 = [0, 1, 0, 1, 1, 0, 2, 0, 2]\n",
    "test_B_2 = 8\n",
    "\n",
    "find_most_occurred_entries(test_ndarray_2, test_B_2)"
   ]
  },
  {
   "cell_type": "code",
   "execution_count": 19,
   "id": "ce64eeb8-2020-4ba1-9509-389d47e17afa",
   "metadata": {},
   "outputs": [
    {
     "data": {
      "text/plain": [
       "[3, 5, 7, 9]"
      ]
     },
     "execution_count": 19,
     "metadata": {},
     "output_type": "execute_result"
    }
   ],
   "source": [
    "test_ndarray_3 = [0, 0, 0, 1, 0, 1, 0, 1, 0, 1]\n",
    "test_B_3 = 9\n",
    "\n",
    "find_most_occurred_entries(test_ndarray_3, test_B_3)"
   ]
  },
  {
   "cell_type": "markdown",
   "id": "83fbb698-769b-49c0-828f-8057e2ecd34f",
   "metadata": {},
   "source": [
    "#### [2] The following function is utilised in step 6 of GER_entry_choosing_procedure to find the position of a specific value in a particular column of the residue matrix.\n",
    "\n",
    "Description of the arguments:\n",
    "\n",
    "residue_matrix_R: the residue matrix to be searched (2D numpy ndarray).\n",
    "\n",
    "R_row_num: the number of rows in residue_matrix_R.\n",
    "\n",
    "col: the index of the column to be searched.\n",
    "\n",
    "val: the value to be searched.\n",
    "\n",
    "It is assumed that val must be present in that specific column of residue_matrix_R."
   ]
  },
  {
   "cell_type": "code",
   "execution_count": 3,
   "id": "dc6c8a37-ba97-41e3-90e8-dc1ad484fbc0",
   "metadata": {},
   "outputs": [],
   "source": [
    "def find_the_position_of_val_in_specific_col(residue_matrix_R, R_row_num, col, val):\n",
    "    for row_counter in range(R_row_num):\n",
    "        if val == residue_matrix_R[row_counter, col]:\n",
    "            return row_counter"
   ]
  },
  {
   "cell_type": "markdown",
   "id": "43f4234d-a14f-4f78-9b04-d57cf311377a",
   "metadata": {},
   "source": [
    "#### [3] The following function is utilised in step 6 of GER_entry_choosing_procedure to find all the entries in a specific column that are greater than a specified value.\n",
    "\n",
    "Description of the arguments:\n",
    "\n",
    "residue_matrix_R: the residue matrix to be searched (2D numpy ndarray).\n",
    "\n",
    "R_row_num: the number of rows in residue_matrix_R.\n",
    "\n",
    "col: the index of the column to be searched.\n",
    "\n",
    "val: the specified value.\n",
    "\n",
    "It is assumed that val is not present in that specific column of residue_matrix_R."
   ]
  },
  {
   "cell_type": "code",
   "execution_count": 4,
   "id": "ae6238ab-0957-43d3-970c-8843364e7789",
   "metadata": {},
   "outputs": [],
   "source": [
    "def all_entry_vals_greater_than_val(residue_matrix_R, R_row_num, col, val):\n",
    "    output_list_of_entry_vals = []\n",
    "    \n",
    "    for row_counter in range(R_row_num):\n",
    "        if residue_matrix_R[row_counter, col] > val:\n",
    "            output_list_of_entry_vals.append(residue_matrix_R[row_counter, col])\n",
    "    \n",
    "    return output_list_of_entry_vals"
   ]
  },
  {
   "cell_type": "markdown",
   "id": "0a51b492-b336-4274-8f09-e0dda97e0df9",
   "metadata": {},
   "source": [
    "Test the function all_entry_vals_greater_than_val:"
   ]
  },
  {
   "cell_type": "code",
   "execution_count": 47,
   "id": "43030d72-45cf-44d8-a4e1-56ff332a4fa9",
   "metadata": {},
   "outputs": [
    {
     "data": {
      "text/plain": [
       "[38]"
      ]
     },
     "execution_count": 47,
     "metadata": {},
     "output_type": "execute_result"
    }
   ],
   "source": [
    "test_array = np.array([[38, 22], [7, 5], [26, 8], [9, 30]])\n",
    "test_val = 30\n",
    "all_entry_vals_greater_than_val(test_array, 4, 0, test_val)"
   ]
  },
  {
   "cell_type": "markdown",
   "id": "7a9164d8-baf6-4d62-8827-564a9f9d0c23",
   "metadata": {},
   "source": [
    "#### [4] The following function is used in step 6 of GER_entry_choosing_procedure to compute the selection score."
   ]
  },
  {
   "cell_type": "code",
   "execution_count": 5,
   "id": "6db90e9f-4dbd-41c1-9f2f-40dd180418df",
   "metadata": {},
   "outputs": [],
   "source": [
    "# cumulative_occurrence_array is an array of size (1 + max_entry_M). The entry\n",
    "# at index 0 is useless and should never be used.\n",
    "def compute_selection_score(cumulative_occurrence_array, max_entry_M, score_parameter_z):\n",
    "    selection_score = 0\n",
    "    \n",
    "    for v in range(1, max_entry_M + 1):\n",
    "        if cumulative_occurrence_array[v] > 0:\n",
    "            selection_score += score_parameter_z ** cumulative_occurrence_array[v]\n",
    "    \n",
    "    return selection_score"
   ]
  },
  {
   "cell_type": "markdown",
   "id": "f810915b-e7ed-4ab5-bd09-5f67b6694e94",
   "metadata": {},
   "source": [
    "Test the function compute_selection_score."
   ]
  },
  {
   "cell_type": "code",
   "execution_count": 50,
   "id": "6d09e109-61cd-431d-a26e-8b4cba6f94bb",
   "metadata": {},
   "outputs": [
    {
     "data": {
      "text/plain": [
       "11120"
      ]
     },
     "execution_count": 50,
     "metadata": {},
     "output_type": "execute_result"
    }
   ],
   "source": [
    "test_array = np.array([0, 0, 0, 1, 0, 1, 2, 3, 4, 0])\n",
    "test_max_entry = 9\n",
    "test_score_parameter = 10\n",
    "\n",
    "compute_selection_score(test_array, test_max_entry, test_score_parameter)"
   ]
  },
  {
   "cell_type": "markdown",
   "id": "93620d44-9240-4be2-b7a1-b3147ae24d42",
   "metadata": {},
   "source": [
    "#### [5] The following function is used in step 7 of the GER_entry_choosing_procedure.\n",
    "\n",
    "Description of the input parameters:\n",
    "\n",
    "1. most_occurred_entries_v: a list\n",
    "2. selection_score_u_for_each_v: a dictionary with keys from most_occurred_entries_v. The value of each key is an int.\n"
   ]
  },
  {
   "cell_type": "code",
   "execution_count": 6,
   "id": "69de7de6-bb4e-4473-b667-196943216422",
   "metadata": {},
   "outputs": [],
   "source": [
    "def choose_most_favourable_v_star(most_occurred_entries_v, selection_score_u_for_each_v):\n",
    "    list_of_entries_with_max_score = []\n",
    "    max_score_found_so_far = -1\n",
    "    \n",
    "    for v in most_occurred_entries_v:\n",
    "        if max_score_found_so_far < selection_score_u_for_each_v[v]:\n",
    "            max_score_found_so_far = selection_score_u_for_each_v[v]\n",
    "            list_of_entries_with_max_score = [v]\n",
    "        elif max_score_found_so_far == selection_score_u_for_each_v[v]:\n",
    "            list_of_entries_with_max_score.append(v)\n",
    "    \n",
    "    return max(list_of_entries_with_max_score)"
   ]
  },
  {
   "cell_type": "markdown",
   "id": "3a53c8cf-8242-4338-ad88-43261bcc4993",
   "metadata": {},
   "source": [
    "Test the function choose_most_favourable_v_star:"
   ]
  },
  {
   "cell_type": "code",
   "execution_count": 55,
   "id": "4ff2383f-8b77-48e2-94e2-c06ccca7f8a5",
   "metadata": {},
   "outputs": [
    {
     "data": {
      "text/plain": [
       "88"
      ]
     },
     "execution_count": 55,
     "metadata": {},
     "output_type": "execute_result"
    }
   ],
   "source": [
    "test_entries_list = [8, 54, 36, 77, 88]\n",
    "test_dictionary = {36: 100, 54: 25, 8: 99, 77: 100, 88: 100}\n",
    "choose_most_favourable_v_star(test_entries_list, test_dictionary)"
   ]
  },
  {
   "cell_type": "markdown",
   "id": "72fc1259-601e-4190-8947-e02d6e345c49",
   "metadata": {},
   "source": [
    "### Test the function GER_entry_choosing_procedure"
   ]
  },
  {
   "cell_type": "code",
   "execution_count": 59,
   "id": "7740e0a7-7385-42d1-9b97-ec94a2d1d52e",
   "metadata": {},
   "outputs": [
    {
     "data": {
      "text/plain": [
       "(2, array([[0, 0]]))"
      ]
     },
     "execution_count": 59,
     "metadata": {},
     "output_type": "execute_result"
    }
   ],
   "source": [
    "test1 = np.array([[2, 9], \n",
    "                  [8, 1]])\n",
    "GER_entry_choosing_procedure(test1, 10)"
   ]
  },
  {
   "cell_type": "code",
   "execution_count": 60,
   "id": "d95be7f5-e8b6-4611-910c-c28fc53d5253",
   "metadata": {},
   "outputs": [
    {
     "data": {
      "text/plain": [
       "(5, array([[2, 2, 2, 1]]))"
      ]
     },
     "execution_count": 60,
     "metadata": {},
     "output_type": "execute_result"
    }
   ],
   "source": [
    "test2 = np.array([[12, 45, 75,  3], \n",
    "                  [45,  4,  3, 61], \n",
    "                  [ 5,  5,  5, 67]])\n",
    "GER_entry_choosing_procedure(test2, 10)"
   ]
  },
  {
   "cell_type": "code",
   "execution_count": 61,
   "id": "266599f1-c5e5-43bb-b42f-3abd688c396d",
   "metadata": {},
   "outputs": [
    {
     "data": {
      "text/plain": [
       "(2, array([[1, 2, 1, 2]]))"
      ]
     },
     "execution_count": 61,
     "metadata": {},
     "output_type": "execute_result"
    }
   ],
   "source": [
    "test3 = np.array([[1, 5, 6,  0], \n",
    "                  [4, 0, 2,  0], \n",
    "                  [5, 2, 0, 10], \n",
    "                  [0, 3, 2,  0]])\n",
    "GER_entry_choosing_procedure(test3, 10)"
   ]
  },
  {
   "cell_type": "markdown",
   "id": "87d7a67e-ddab-4631-a4af-b2c20aa2eebc",
   "metadata": {},
   "source": [
    "### The GER function"
   ]
  },
  {
   "cell_type": "code",
   "execution_count": 8,
   "id": "035c6087-9263-44f9-b477-92d5d944caf7",
   "metadata": {},
   "outputs": [],
   "source": [
    "def GER(PBN_matrix_P, score_parameter_z):  # input: 2^n-by-2^n ndarray consisting of integers.\n",
    "    PBN_row_num = PBN_matrix_P.shape[0]\n",
    "    PBN_col_num = PBN_matrix_P.shape[1]\n",
    "    coefficient_list_xi = []  # the coefficients of BN matrices to be output\n",
    "    # the BN matrices to be output\n",
    "    BN_matrices_list_Ai = np.array([[-1] * PBN_col_num])  # the first row of BN_matrices_list_Ai will be\n",
    "                                                          # replaced in the first iteration of pseudocode\n",
    "                                                          # steps 1 to 4.\n",
    "                                                          \n",
    "    residue_matrix_R = PBN_matrix_P.copy()\n",
    "    k = 1  # counts the number of iterations of pseudocode Steps 1 to 4\n",
    "    chosen_entry_xi, chosen_entry_pos_each_col = \\\n",
    "    GER_entry_choosing_procedure(residue_matrix_R, score_parameter_z)\n",
    "    # chosen_entry_xi is of type int; chosen_entry_pos_each_col is a 1-by-PBN_col_num 2D numpy ndarray.\n",
    "    \n",
    "    coefficient_list_xi.append(chosen_entry_xi)\n",
    "    BN_matrices_list_Ai = chosen_entry_pos_each_col\n",
    "    \n",
    "    for col_counter in range(PBN_col_num):\n",
    "        row_to_deduct = chosen_entry_pos_each_col[0, col_counter]\n",
    "        residue_matrix_R[row_to_deduct, col_counter] -= chosen_entry_xi\n",
    "    \n",
    "    zero_PBN_matrix = np.zeros((PBN_row_num, PBN_col_num), dtype=int)\n",
    "    \n",
    "    while (not np.array_equal(residue_matrix_R, zero_PBN_matrix)):\n",
    "        k += 1\n",
    "        chosen_entry_xi, chosen_entry_pos_each_col = \\\n",
    "        GER_entry_choosing_procedure(residue_matrix_R,  score_parameter_z)\n",
    "        # chosen_entry_xi is of type int; chosen_entry_pos_each_col is a 1-by-PBN_col_num 2D numpy ndarray.\n",
    "    \n",
    "        coefficient_list_xi.append(chosen_entry_xi)\n",
    "        BN_matrices_list_Ai = np.append(BN_matrices_list_Ai, chosen_entry_pos_each_col, axis=0)\n",
    "        \n",
    "        for col_counter in range(PBN_col_num):\n",
    "            row_to_deduct = chosen_entry_pos_each_col[0, col_counter]\n",
    "            residue_matrix_R[row_to_deduct, col_counter] -= chosen_entry_xi\n",
    "    \n",
    "    return k, coefficient_list_xi, BN_matrices_list_Ai"
   ]
  },
  {
   "cell_type": "markdown",
   "id": "0221e56d-0d05-4a0a-a8e4-b267ac60dbf2",
   "metadata": {},
   "source": [
    "### Outputs of GER on different small PBN matrices"
   ]
  },
  {
   "cell_type": "markdown",
   "id": "f7e22164-f539-47cd-b357-f9bebfd75cd3",
   "metadata": {},
   "source": [
    "#### The following function is used to permute the entries in each column of the three PBN matrices used to break SER 2."
   ]
  },
  {
   "cell_type": "code",
   "execution_count": null,
   "id": "5face6cb-38e6-4bc1-9cf2-ed6798cc9acc",
   "metadata": {},
   "outputs": [],
   "source": [
    "def permute_entries_in_each_col(input_PBN_matrix):\n",
    "    num_of_rows, num_of_cols = input_PBN_matrix.shape\n",
    "    permuted_PBN_matrix = np.zeros(input_PBN_matrix.shape, dtype=int)\n",
    "    \n",
    "    for col_counter in range(num_of_cols):\n",
    "        rearranged_row_indices = np.random.permutation(num_of_rows)\n",
    "        for row_counter in range(num_of_rows):\n",
    "            permuted_PBN_matrix[row_counter, col_counter] = \\\n",
    "            input_PBN_matrix[rearranged_row_indices[row_counter], col_counter]\n",
    "    \n",
    "    return permuted_PBN_matrix"
   ]
  },
  {
   "cell_type": "markdown",
   "id": "d0683fa3-43f3-4807-9d82-4c1205e6b38b",
   "metadata": {},
   "source": [
    "#### The following function is used to permute the columns of the three PBN matrices used to break SER 2."
   ]
  },
  {
   "cell_type": "code",
   "execution_count": null,
   "id": "8510140a-0af8-46e0-b2ba-611663f30dd3",
   "metadata": {},
   "outputs": [],
   "source": [
    "def permute_the_cols(input_PBN_matrix):\n",
    "    num_of_rows, num_of_cols = input_PBN_matrix.shape\n",
    "    permuted_PBN_matrix = np.zeros(input_PBN_matrix.shape, dtype=int)\n",
    "    rearranged_col_indices = np.random.permutation(num_of_cols)\n",
    "    \n",
    "    for col_counter in range(num_of_cols):\n",
    "        permuted_PBN_matrix[:, col_counter] = input_PBN_matrix[:, rearranged_col_indices[col_counter]]\n",
    "    \n",
    "    return permuted_PBN_matrix"
   ]
  },
  {
   "cell_type": "markdown",
   "id": "6e8aa38b-eec2-4a92-8201-a774a78f93f6",
   "metadata": {},
   "source": [
    "#### [1] PBN Matrix from Default Data"
   ]
  },
  {
   "cell_type": "code",
   "execution_count": 11,
   "id": "8c0afb99-7a6d-4299-a272-89f70e6cc26d",
   "metadata": {},
   "outputs": [
    {
     "data": {
      "text/plain": [
       "(11,\n",
       " [25, 8, 6, 6, 25, 2, 13, 7, 4, 3, 1],\n",
       " array([[0, 4, 2, 2, 2, 7, 4, 5],\n",
       "        [4, 2, 0, 4, 3, 1, 4, 5],\n",
       "        [4, 4, 2, 4, 4, 7, 2, 4],\n",
       "        [0, 5, 2, 4, 4, 4, 2, 5],\n",
       "        [0, 5, 6, 7, 5, 5, 2, 7],\n",
       "        [5, 1, 0, 4, 3, 7, 2, 7],\n",
       "        [5, 1, 5, 4, 3, 6, 2, 7],\n",
       "        [5, 6, 5, 4, 3, 4, 2, 7],\n",
       "        [5, 6, 6, 4, 3, 0, 2, 7],\n",
       "        [5, 6, 2, 4, 3, 5, 2, 7],\n",
       "        [0, 6, 6, 4, 3, 5, 2, 7]]))"
      ]
     },
     "execution_count": 11,
     "metadata": {},
     "output_type": "execute_result"
    }
   ],
   "source": [
    "test_PBN_matrix_3 = np.array([[57,  0, 10,  0,  0,  4,  0,  0], \n",
    "                              [ 0, 15,  0,  0,  0,  8,  0,  0], \n",
    "                              [ 0,  8, 40, 25, 25,  0, 67,  0], \n",
    "                              [ 0,  0,  0,  0, 38,  0,  0,  0],\n",
    "                              [14, 31,  0, 50, 12, 13, 33,  6],\n",
    "                              [29, 31, 20,  0, 25, 29,  0, 39],\n",
    "                              [ 0, 15, 30,  0,  0, 13,  0,  0],\n",
    "                              [ 0,  0,  0, 25,  0, 33,  0, 55]])\n",
    "GER(test_PBN_matrix_3, 2)"
   ]
  },
  {
   "cell_type": "markdown",
   "id": "66b0e4ba-f382-499d-814f-de1b66e4a6b9",
   "metadata": {},
   "source": [
    "#### [2] Nursing Home PBN Matrix"
   ]
  },
  {
   "cell_type": "code",
   "execution_count": 69,
   "id": "51c0c993-6036-404f-b0a0-bd53023822bd",
   "metadata": {},
   "outputs": [
    {
     "data": {
      "text/plain": [
       "(7,\n",
       " [1, 1, 3, 2, 1, 1, 1],\n",
       " array([[ 2,  1,  1,  0,  8,  5,  4,  0,  1,  9,  4,  0,  0, 13,  0,  4],\n",
       "        [ 2,  2,  4,  5,  0,  4,  4,  0,  2,  9,  4,  0,  0, 12,  0,  8],\n",
       "        [ 1,  0,  0,  4,  0,  4,  0,  0,  0,  4,  0,  4,  0,  4,  4,  1],\n",
       "        [ 1,  0,  0,  4,  4,  0,  0,  4,  0,  0,  9,  0,  0,  0,  8, 12],\n",
       "        [ 1,  0,  0,  4,  0,  0,  0,  4,  0,  0, 12,  8,  0, 12,  4, 12],\n",
       "        [ 1,  3,  0,  4,  0,  0,  0,  4,  8,  0, 12,  8,  0, 12, 12, 12],\n",
       "        [ 1,  4,  0,  4,  0,  0,  0,  4,  9,  0, 12,  8,  0, 12, 12, 12]]))"
      ]
     },
     "execution_count": 69,
     "metadata": {},
     "output_type": "execute_result"
    }
   ],
   "source": [
    "test_PBN_matrix_4 = np.array([[0, 6, 8, 1, 7, 5, 8, 5, 6, 5, 3, 4, 10, 2, 2, 0], \n",
    "                              [8, 1, 1, 0, 0, 0, 0, 0, 1, 0, 0, 0,  0, 0, 0, 3], \n",
    "                              [2, 1, 0, 0, 0, 0, 0, 0, 1, 0, 0, 0,  0, 0, 0, 0], \n",
    "                              [0, 1, 0, 0, 0, 0, 0, 0, 0, 0, 0, 0,  0, 0, 0, 0],\n",
    "                              [0, 1, 1, 8, 2, 4, 2, 5, 0, 3, 2, 3,  0, 3, 4, 1],\n",
    "                              [0, 0, 0, 1, 0, 1, 0, 0, 0, 0, 0, 0,  0, 0, 0, 0],\n",
    "                              [0, 0, 0, 0, 0, 0, 0, 0, 0, 0, 0, 0,  0, 0, 0, 0],\n",
    "                              [0, 0, 0, 0, 0, 0, 0, 0, 0, 0, 0, 0,  0, 0, 0, 0],\n",
    "                              [0, 0, 0, 0, 1, 0, 0, 0, 1, 0, 0, 3,  0, 0, 2, 1],\n",
    "                              [0, 0, 0, 0, 0, 0, 0, 0, 1, 2, 2, 0,  0, 0, 0, 0],\n",
    "                              [0, 0, 0, 0, 0, 0, 0, 0, 0, 0, 0, 0,  0, 0, 0, 0],\n",
    "                              [0, 0, 0, 0, 0, 0, 0, 0, 0, 0, 0, 0,  0, 0, 0, 0],\n",
    "                              [0, 0, 0, 0, 0, 0, 0, 0, 0, 0, 3, 0,  0, 4, 2, 5],\n",
    "                              [0, 0, 0, 0, 0, 0, 0, 0, 0, 0, 0, 0,  0, 1, 0, 0],\n",
    "                              [0, 0, 0, 0, 0, 0, 0, 0, 0, 0, 0, 0,  0, 0, 0, 0],\n",
    "                              [0, 0, 0, 0, 0, 0, 0, 0, 0, 0, 0, 0,  0, 0, 0, 0]\n",
    "                             ])\n",
    "GER(test_PBN_matrix_4, 10)"
   ]
  },
  {
   "cell_type": "markdown",
   "id": "8878ae04-5e59-4c21-a349-726ea9b5333b",
   "metadata": {},
   "source": [
    "#### [3] First PBN matrix to break SER 2"
   ]
  },
  {
   "cell_type": "markdown",
   "id": "9869e947-10e9-4302-aeaf-d8c200fa8a1a",
   "metadata": {},
   "source": [
    "Remark: the sum of the entries in each column of this matrix equals 110."
   ]
  },
  {
   "cell_type": "markdown",
   "id": "7bbccd6b-2915-47fb-be10-0ed45217842d",
   "metadata": {},
   "source": [
    "##### Execute GER before permuting the PBN matrix."
   ]
  },
  {
   "cell_type": "code",
   "execution_count": 10,
   "id": "7f9713cd-405a-497a-bdab-116d63a76365",
   "metadata": {},
   "outputs": [
    {
     "data": {
      "text/plain": [
       "array([[10, 10, 10, 10, 10, 22, 22, 22],\n",
       "       [12, 12, 12, 12, 12,  0,  0,  0],\n",
       "       [34, 34, 15, 15, 15, 15, 15, 34],\n",
       "       [ 0,  0, 19, 19, 19, 19, 19,  0],\n",
       "       [24, 54, 54, 54, 54, 24, 24, 24],\n",
       "       [30,  0,  0,  0,  0, 30, 30, 30],\n",
       "       [ 0,  0,  0,  0,  0,  0,  0,  0],\n",
       "       [ 0,  0,  0,  0,  0,  0,  0,  0]])"
      ]
     },
     "execution_count": 10,
     "metadata": {},
     "output_type": "execute_result"
    }
   ],
   "source": [
    "x1 = 10\n",
    "x2 = 12\n",
    "x3 = 15\n",
    "x4 = 19\n",
    "x5 = 24\n",
    "x6 = 30\n",
    "\n",
    "test_PBN_matrix_5 = np.array([[   x1,    x1,    x1,    x1,    x1, x1+x2, x1+x2, x1+x2], \n",
    "                              [   x2,    x2,    x2,    x2,    x2,     0,     0,     0], \n",
    "                              [x3+x4, x3+x4,    x3,    x3,    x3,    x3,    x3, x3+x4], \n",
    "                              [    0,     0,    x4,    x4,    x4,    x4,    x4,     0],\n",
    "                              [   x5, x5+x6, x5+x6, x5+x6, x5+x6,    x5,    x5,    x5],\n",
    "                              [   x6,     0,     0,     0,     0,    x6,    x6,    x6],\n",
    "                              [    0,     0,     0,     0,     0,     0,     0,     0],\n",
    "                              [    0,     0,     0,     0,     0,     0,     0,     0]])\n",
    "test_PBN_matrix_5"
   ]
  },
  {
   "cell_type": "code",
   "execution_count": 11,
   "id": "849647b0-ef12-4388-8a8c-d4cf3f0f1830",
   "metadata": {},
   "outputs": [
    {
     "data": {
      "text/plain": [
       "(6,\n",
       " [19, 15, 12, 10, 30, 24],\n",
       " array([[2, 2, 3, 3, 3, 3, 3, 2],\n",
       "        [2, 2, 2, 2, 2, 2, 2, 2],\n",
       "        [1, 1, 1, 1, 1, 0, 0, 0],\n",
       "        [0, 0, 0, 0, 0, 0, 0, 0],\n",
       "        [5, 4, 4, 4, 4, 5, 5, 5],\n",
       "        [4, 4, 4, 4, 4, 4, 4, 4]]))"
      ]
     },
     "execution_count": 11,
     "metadata": {},
     "output_type": "execute_result"
    }
   ],
   "source": [
    "GER(test_PBN_matrix_5, 10)"
   ]
  },
  {
   "cell_type": "markdown",
   "id": "d43bed2b-f16a-46f2-98eb-678883712de8",
   "metadata": {},
   "source": [
    "##### Let's permute the entries in the PBN matrix."
   ]
  },
  {
   "cell_type": "code",
   "execution_count": 12,
   "id": "9a9b084b-58ed-4f6e-b79b-460015b7c151",
   "metadata": {},
   "outputs": [],
   "source": [
    "# test_PBN_matrix_5_permuted = permute_the_cols(permute_entries_in_each_col(test_PBN_matrix_5))\n",
    "test_PBN_matrix_5_permuted = np.array([[12, 30, 22, 10, 10, 15, 54, 34],\n",
    "                                       [10, 24, 19, 54, 30,  0,  0,  0],\n",
    "                                       [54, 15,  0, 12, 12,  0,  0, 30],\n",
    "                                       [ 0,  0, 24, 15, 24, 19, 10,  0],\n",
    "                                       [ 0,  0,  0,  0, 34, 10, 12,  0],\n",
    "                                       [19,  0, 15,  0,  0, 12,  0, 22],\n",
    "                                       [15, 19,  0, 19,  0, 54,  0, 24],\n",
    "                                       [ 0, 22, 30,  0,  0,  0, 34,  0]])"
   ]
  },
  {
   "cell_type": "markdown",
   "id": "4ef9e896-be56-47d8-b5f5-6813a477b7f1",
   "metadata": {},
   "source": [
    "##### Execute GER on the permuted PBN matrix."
   ]
  },
  {
   "cell_type": "code",
   "execution_count": 14,
   "id": "ff2172a2-3904-4be2-a998-c60ddbbba476",
   "metadata": {},
   "outputs": [
    {
     "data": {
      "text/plain": [
       "(6,\n",
       " [19, 15, 12, 10, 30, 24],\n",
       " array([[5, 6, 1, 6, 4, 3, 7, 0],\n",
       "        [6, 2, 5, 3, 4, 0, 7, 0],\n",
       "        [0, 7, 0, 2, 2, 5, 4, 5],\n",
       "        [1, 7, 0, 0, 0, 4, 3, 5],\n",
       "        [2, 0, 7, 1, 1, 6, 0, 2],\n",
       "        [2, 1, 3, 1, 3, 6, 0, 6]]))"
      ]
     },
     "execution_count": 14,
     "metadata": {},
     "output_type": "execute_result"
    }
   ],
   "source": [
    "GER(test_PBN_matrix_5_permuted, 10)"
   ]
  },
  {
   "cell_type": "markdown",
   "id": "13474793-dc90-4190-85c1-bc5651247e51",
   "metadata": {},
   "source": [
    "#### [4] Second PBN matrix to break SER 2"
   ]
  },
  {
   "cell_type": "markdown",
   "id": "92e73526-41a5-4e8e-9d6d-c2881ab124a3",
   "metadata": {},
   "source": [
    "Remark: the sum of the entries in each column of this matrix equals 110."
   ]
  },
  {
   "cell_type": "markdown",
   "id": "ba3d7282-e458-4741-8364-8d1156e6ce4c",
   "metadata": {},
   "source": [
    "##### Execute GER before permuting the PBN matrix."
   ]
  },
  {
   "cell_type": "code",
   "execution_count": 15,
   "id": "0a6238d3-76c5-4d1f-b3d0-010b1939349b",
   "metadata": {},
   "outputs": [
    {
     "data": {
      "text/plain": [
       "array([[10, 10, 22, 22, 22, 25, 25, 25],\n",
       "       [12, 12, 15, 15, 15, 12, 12, 12],\n",
       "       [15, 15,  0,  0,  0,  0,  0,  0],\n",
       "       [49, 49, 49, 43, 43, 43, 19, 19],\n",
       "       [24, 24, 24, 30, 30, 30, 24, 24],\n",
       "       [ 0,  0,  0,  0,  0,  0, 30, 30],\n",
       "       [ 0,  0,  0,  0,  0,  0,  0,  0],\n",
       "       [ 0,  0,  0,  0,  0,  0,  0,  0]])"
      ]
     },
     "execution_count": 15,
     "metadata": {},
     "output_type": "execute_result"
    }
   ],
   "source": [
    "x1 = 10\n",
    "x2 = 12\n",
    "x3 = 15\n",
    "x4 = 19\n",
    "x5 = 24\n",
    "x6 = 30\n",
    "\n",
    "test_PBN_matrix_6 = np.array([[   x1,    x1, x1+x2, x1+x2, x1+x2, x1+x3, x1+x3, x1+x3], \n",
    "                              [   x2,    x2,    x3,    x3,    x3,    x2,    x2,    x2], \n",
    "                              [   x3,    x3,     0,     0,     0,     0,     0,     0], \n",
    "                              [x4+x6, x4+x6, x4+x6, x4+x5, x4+x5, x4+x5,    x4,    x4],\n",
    "                              [   x5,    x5,    x5,    x6,    x6,    x6,    x5,    x5],\n",
    "                              [    0,     0,     0,     0,     0,     0,    x6,    x6],\n",
    "                              [    0,     0,     0,     0,     0,     0,     0,     0],\n",
    "                              [    0,     0,     0,     0,     0,     0,     0,     0]])\n",
    "test_PBN_matrix_6"
   ]
  },
  {
   "cell_type": "code",
   "execution_count": 16,
   "id": "840ff2db-3a81-4de4-9aae-8c20389da6ec",
   "metadata": {},
   "outputs": [
    {
     "data": {
      "text/plain": [
       "(6,\n",
       " [30, 24, 19, 15, 12, 10],\n",
       " array([[3, 3, 3, 4, 4, 4, 5, 5],\n",
       "        [4, 4, 4, 3, 3, 3, 4, 4],\n",
       "        [3, 3, 3, 3, 3, 3, 3, 3],\n",
       "        [2, 2, 1, 1, 1, 0, 0, 0],\n",
       "        [1, 1, 0, 0, 0, 1, 1, 1],\n",
       "        [0, 0, 0, 0, 0, 0, 0, 0]]))"
      ]
     },
     "execution_count": 16,
     "metadata": {},
     "output_type": "execute_result"
    }
   ],
   "source": [
    "GER(test_PBN_matrix_6, 10)"
   ]
  },
  {
   "cell_type": "markdown",
   "id": "9c5c1bd2-4ff6-4837-b6c2-b391ba416047",
   "metadata": {},
   "source": [
    "##### Let's permute the entries in the PBN matrix."
   ]
  },
  {
   "cell_type": "code",
   "execution_count": 17,
   "id": "babc9fa6-aebf-40da-933d-efe01d018632",
   "metadata": {},
   "outputs": [],
   "source": [
    "# test_PBN_matrix_6_permuted = permute_the_cols(permute_entries_in_each_col(test_PBN_matrix_6))\n",
    "test_PBN_matrix_6_permuted = np.array([[ 0,  0,  0, 49,  0, 43,  0, 49],\n",
    "                                       [ 0, 30, 12,  0, 30,  0, 25,  0],\n",
    "                                       [25,  0,  0, 15,  0, 22, 12, 15],\n",
    "                                       [ 0,  0, 10, 24, 19,  0, 30,  0],\n",
    "                                       [30, 43, 15,  0, 24, 15,  0,  0],\n",
    "                                       [43,  0, 49,  0,  0,  0, 19, 24],\n",
    "                                       [ 0, 22,  0, 22, 12, 30,  0, 12],\n",
    "                                       [12, 15, 24,  0, 25,  0, 24, 10]])"
   ]
  },
  {
   "cell_type": "markdown",
   "id": "4b4ec554-65a5-40ee-a878-a736f9ff3fdb",
   "metadata": {},
   "source": [
    "##### Execute GER on the permuted PBN matrix."
   ]
  },
  {
   "cell_type": "code",
   "execution_count": 19,
   "id": "daabe9bb-685a-4ddd-b2e3-215a621783d8",
   "metadata": {},
   "outputs": [
    {
     "data": {
      "text/plain": [
       "(6,\n",
       " [30, 24, 19, 15, 12, 10],\n",
       " array([[4, 1, 5, 0, 1, 6, 3, 0],\n",
       "        [5, 4, 7, 3, 4, 0, 7, 5],\n",
       "        [5, 4, 5, 0, 3, 0, 5, 0],\n",
       "        [2, 7, 4, 2, 7, 4, 1, 2],\n",
       "        [7, 6, 1, 6, 6, 2, 2, 6],\n",
       "        [2, 6, 3, 6, 7, 2, 1, 7]]))"
      ]
     },
     "execution_count": 19,
     "metadata": {},
     "output_type": "execute_result"
    }
   ],
   "source": [
    "GER(test_PBN_matrix_6_permuted, 10)"
   ]
  },
  {
   "cell_type": "markdown",
   "id": "1645e468-7ab4-4764-80dc-b999f2900ff8",
   "metadata": {},
   "source": [
    "#### [5] Third PBN matrix to break SER 2"
   ]
  },
  {
   "cell_type": "markdown",
   "id": "fe1b0021-6dc4-4dc7-8d7e-d93ea89d3fb5",
   "metadata": {},
   "source": [
    "Remark: the sum of the entries in each column of this matrix equals 265."
   ]
  },
  {
   "cell_type": "markdown",
   "id": "2759538c-67c5-46ab-9a2a-68b9d7bea3eb",
   "metadata": {},
   "source": [
    "##### Execute GER before permuting the PBN matrix."
   ]
  },
  {
   "cell_type": "code",
   "execution_count": 20,
   "id": "05a86db6-d258-4166-ba67-3839e89a0436",
   "metadata": {},
   "outputs": [
    {
     "data": {
      "text/plain": [
       "array([[ 37,  37,  37,  37,  63,  63,  63,  63,  54,  54,  54,  54,  46,\n",
       "         46,  46,  46],\n",
       "       [ 26,  26,  26,  26,  17,  17,  17,  17,  26,  26,  26,  26,  26,\n",
       "         26,  26,  26],\n",
       "       [ 17,  17,  17,  17,   9,   9,   9,   9,   9,   9,   9,   9,  17,\n",
       "         17,  17,  17],\n",
       "       [  9,   9,   9,   9,   0,   0,   0,   0,   0,   0,   0,   0,   0,\n",
       "          0,   0,   0],\n",
       "       [  0,   0,   0,   0,   0,   0,   0,   0,   0,   0,   0,   0,   0,\n",
       "          0,   0,   0],\n",
       "       [  0,   0,   0,   0,   0,   0,   0,   0,   0,   0,   0,   0,   0,\n",
       "          0,   0,   0],\n",
       "       [108, 108,  98,  88,  98,  88, 108,  59,  98,  88, 108,  59,  98,\n",
       "         88,  59,  59],\n",
       "       [  0,   0,  49,  49,  49,  49,   0,  49,  49,  49,   0,  49,  49,\n",
       "         49,  49,  49],\n",
       "       [ 39,  39,   0,  39,   0,  39,  39,  39,   0,  39,  39,  39,   0,\n",
       "         39,  39,  39],\n",
       "       [ 29,  29,  29,   0,  29,   0,  29,  29,  29,   0,  29,  29,  29,\n",
       "          0,  29,  29],\n",
       "       [  0,   0,   0,   0,   0,   0,   0,   0,   0,   0,   0,   0,   0,\n",
       "          0,   0,   0],\n",
       "       [  0,   0,   0,   0,   0,   0,   0,   0,   0,   0,   0,   0,   0,\n",
       "          0,   0,   0],\n",
       "       [  0,   0,   0,   0,   0,   0,   0,   0,   0,   0,   0,   0,   0,\n",
       "          0,   0,   0],\n",
       "       [  0,   0,   0,   0,   0,   0,   0,   0,   0,   0,   0,   0,   0,\n",
       "          0,   0,   0],\n",
       "       [  0,   0,   0,   0,   0,   0,   0,   0,   0,   0,   0,   0,   0,\n",
       "          0,   0,   0],\n",
       "       [  0,   0,   0,   0,   0,   0,   0,   0,   0,   0,   0,   0,   0,\n",
       "          0,   0,   0]])"
      ]
     },
     "execution_count": 20,
     "metadata": {},
     "output_type": "execute_result"
    }
   ],
   "source": [
    "x1 = 37\n",
    "x2 = 26\n",
    "x3 = 17\n",
    "x4 = 9\n",
    "x5 = 59\n",
    "x6 = 49\n",
    "x7 = 39\n",
    "x8 = 29\n",
    "\n",
    "test_PBN_matrix_7 = np.array([[   x1,    x1,    x1,    x1, x1+x2, x1+x2, x1+x2, x1+x2, x1+x3, x1+x3, x1+x3, x1+x3, x1+x4, x1+x4, x1+x4, x1+x4], \n",
    "                              [   x2,    x2,    x2,    x2,    x3,    x3,    x3,    x3,    x2,    x2,    x2,    x2,    x2,    x2,    x2,    x2], \n",
    "                              [   x3,    x3,    x3,    x3,    x4,    x4,    x4,    x4,    x4,    x4,    x4,    x4,    x3,    x3,    x3,    x3], \n",
    "                              [   x4,    x4,    x4,    x4,     0,     0,     0,     0,     0,     0,     0,     0,     0,     0,     0,     0],\n",
    "                              [    0,     0,     0,     0,     0,     0,     0,     0,     0,     0,     0,     0,     0,     0,     0,     0],\n",
    "                              [    0,     0,     0,     0,     0,     0,     0,     0,     0,     0,     0,     0,     0,     0,     0,     0],\n",
    "                              [x5+x6, x5+x6, x5+x7, x5+x8, x5+x7, x5+x8, x5+x6,    x5, x5+x7, x5+x8, x5+x6,    x5, x5+x7, x5+x8,    x5,    x5],\n",
    "                              [    0,     0,    x6,    x6,    x6,    x6,     0,    x6,    x6,    x6,     0,    x6,    x6,    x6,    x6,    x6],\n",
    "                              [   x7,    x7,     0,    x7,     0,    x7,    x7,    x7,     0,    x7,    x7,    x7,     0,    x7,    x7,    x7],\n",
    "                              [   x8,    x8,    x8,     0,    x8,     0,    x8,    x8,    x8,     0,    x8,    x8,    x8,     0,    x8,    x8],\n",
    "                              [    0,     0,     0,     0,     0,     0,     0,     0,     0,     0,     0,     0,     0,     0,     0,     0],\n",
    "                              [    0,     0,     0,     0,     0,     0,     0,     0,     0,     0,     0,     0,     0,     0,     0,     0],\n",
    "                              [    0,     0,     0,     0,     0,     0,     0,     0,     0,     0,     0,     0,     0,     0,     0,     0],\n",
    "                              [    0,     0,     0,     0,     0,     0,     0,     0,     0,     0,     0,     0,     0,     0,     0,     0],\n",
    "                              [    0,     0,     0,     0,     0,     0,     0,     0,     0,     0,     0,     0,     0,     0,     0,     0],\n",
    "                              [    0,     0,     0,     0,     0,     0,     0,     0,     0,     0,     0,     0,     0,     0,     0,     0],\n",
    "                             ])\n",
    "test_PBN_matrix_7"
   ]
  },
  {
   "cell_type": "code",
   "execution_count": 21,
   "id": "6355ddd5-6123-4658-8f5b-87e914cb10be",
   "metadata": {},
   "outputs": [
    {
     "data": {
      "text/plain": [
       "(8,\n",
       " [49, 39, 59, 29, 26, 17, 37, 9],\n",
       " array([[6, 6, 7, 7, 7, 7, 6, 7, 7, 7, 6, 7, 7, 7, 7, 7],\n",
       "        [8, 8, 6, 8, 6, 8, 8, 8, 6, 8, 8, 8, 6, 8, 8, 8],\n",
       "        [6, 6, 6, 6, 6, 6, 6, 6, 6, 6, 6, 6, 6, 6, 6, 6],\n",
       "        [9, 9, 9, 6, 9, 6, 9, 9, 9, 6, 9, 9, 9, 6, 9, 9],\n",
       "        [1, 1, 1, 1, 0, 0, 0, 0, 1, 1, 1, 1, 1, 1, 1, 1],\n",
       "        [2, 2, 2, 2, 1, 1, 1, 1, 0, 0, 0, 0, 2, 2, 2, 2],\n",
       "        [0, 0, 0, 0, 0, 0, 0, 0, 0, 0, 0, 0, 0, 0, 0, 0],\n",
       "        [3, 3, 3, 3, 2, 2, 2, 2, 2, 2, 2, 2, 0, 0, 0, 0]]))"
      ]
     },
     "execution_count": 21,
     "metadata": {},
     "output_type": "execute_result"
    }
   ],
   "source": [
    "GER(test_PBN_matrix_7, 10)"
   ]
  },
  {
   "cell_type": "markdown",
   "id": "90804756-e83f-4705-9211-4cf8e6553bc2",
   "metadata": {},
   "source": [
    "##### Let's permute the entries in the PBN matrix."
   ]
  },
  {
   "cell_type": "code",
   "execution_count": 22,
   "id": "b8672f2d-b5d0-4544-8c9c-19cf10b135b7",
   "metadata": {},
   "outputs": [],
   "source": [
    "# test_PBN_matrix_7_permuted = permute_the_cols(permute_entries_in_each_col(test_PBN_matrix_7))\n",
    "test_PBN_matrix_7_permuted = np.array([[ 26,   0,   0,   0,  59,   0,  49,   0,  29,   0,   0,   0,   0,   9,   0,  46],\n",
    "                                       [  0,   0,  39,  17,   0,   0,   0,  49,  49,   0,   0,   0,   0,  98,  54,  17],\n",
    "                                       [  0,   0,  26,  49,   0,   0,   0,   9,   0,   0,   0,  59,   9,   0,   0,   0],\n",
    "                                       [  0,   0,   0,   0,   0,   9,  54,   0,   0,   0,   0,   0,  39,   0,  49,  26],\n",
    "                                       [ 49,   0,   9,   0,   0,  29,   0,   0,   0,   0, 108,  63,   0,  17,  59,   0],\n",
    "                                       [  0,   0,   0,  26,   0,   0,   0,  17,  39,  29,   0,   0,   0,   0,   0,  88],\n",
    "                                       [ 17,  63,  88,   0,   0,   0,   0,  98,   0,   9,  37,   0,  88,   0,   0,  49],\n",
    "                                       [  0,   0,   0,   0,  49,   0,   0,   0,  17,  37,   9,  29,  63,  49,  39,   0],\n",
    "                                       [ 98,   0,   0,   0,  46, 108,  26,   0,   0,   0,   0,   9,   0,  63,   9,   0],\n",
    "                                       [  0,  29,   0,   0,  17,   0,  29,   0,  46,   0,  26,   0,   0,   0,  26,   0],\n",
    "                                       [ 29, 108,   0,  88,   0,  39,   0,   0,   0,   0,  39,   0,   0,  29,   0,   0],\n",
    "                                       [  0,  39,   0,  39,   0,   0,   0,   0,  26,  26,  29,  39,   0,   0,   0,   0],\n",
    "                                       [  0,   0,   0,   0,  29,   0,  98,  29,   0,  39,   0,   0,   0,   0,   0,   0],\n",
    "                                       [ 46,   0,  49,  37,  39,  26,   9,   0,   0, 108,  17,   0,  49,   0,  29,   0],\n",
    "                                       [  0,   9,  54,   9,   0,  54,   0,  37,   0,  17,   0,  49,  17,   0,   0,  39],\n",
    "                                       [  0,  17,   0,   0,  26,   0,   0,  26,  59,   0,   0,  17,   0,   0,   0,   0]])\n"
   ]
  },
  {
   "cell_type": "markdown",
   "id": "94f7660b-8be7-46be-9e4f-e34f99ca8770",
   "metadata": {},
   "source": [
    "##### Execute GER on the permuted PBN matrix."
   ]
  },
  {
   "cell_type": "code",
   "execution_count": 24,
   "id": "c092934d-a0b1-4717-a952-035a71bb3765",
   "metadata": {},
   "outputs": [
    {
     "data": {
      "text/plain": [
       "(8,\n",
       " [49, 39, 59, 29, 26, 17, 37, 9],\n",
       " array([[ 4, 10, 13,  2,  7,  8,  0,  1,  1, 13,  4, 14, 13,  7,  3,  6],\n",
       "        [ 8, 11,  1, 11, 13, 10, 12,  6,  5, 12, 10, 11,  3,  1,  7, 14],\n",
       "        [ 8, 10,  6, 10,  0,  8, 12,  6, 15, 13,  4,  2,  6,  1,  4,  5],\n",
       "        [10,  9,  6, 10, 12,  4,  9, 12,  0,  5, 11,  7,  6, 10, 13,  5],\n",
       "        [ 0,  6,  2,  5, 15, 13,  8, 15, 11, 11,  9,  4,  7,  8,  9,  3],\n",
       "        [ 6, 15, 14,  1,  9, 14,  3,  5,  7, 14, 13, 15, 14,  4,  1,  1],\n",
       "        [13,  6, 14, 13,  8, 14,  3, 14,  9,  7,  6,  4,  7,  8,  1,  0],\n",
       "        [13, 14,  4, 14,  8,  3, 13,  2,  9,  6,  7,  8,  2,  0,  8,  0]]))"
      ]
     },
     "execution_count": 24,
     "metadata": {},
     "output_type": "execute_result"
    }
   ],
   "source": [
    "GER(test_PBN_matrix_7_permuted, 10)"
   ]
  },
  {
   "cell_type": "markdown",
   "id": "47d500d7-d864-4bdd-9d8a-11662d9e9193",
   "metadata": {},
   "source": [
    "#### [6] Small Example PBN Matrix Mentioned in the GER paper Section 2.2"
   ]
  },
  {
   "cell_type": "code",
   "execution_count": 64,
   "id": "d573975a-8ea9-48f2-9298-090465d0e486",
   "metadata": {},
   "outputs": [
    {
     "data": {
      "text/plain": [
       "(4,\n",
       " [2, 5, 2, 1],\n",
       " array([[1, 2, 1, 2],\n",
       "        [2, 0, 0, 2],\n",
       "        [1, 3, 3, 2],\n",
       "        [0, 3, 0, 2]]))"
      ]
     },
     "execution_count": 64,
     "metadata": {},
     "output_type": "execute_result"
    }
   ],
   "source": [
    "test3 = np.array([[1, 5, 6,  0], \n",
    "                  [4, 0, 2,  0], \n",
    "                  [5, 2, 0, 10], \n",
    "                  [0, 3, 2,  0]])\n",
    "GER(test3, 10)"
   ]
  },
  {
   "cell_type": "markdown",
   "id": "b17e4d49-8b2b-412c-800b-61996fc6e670",
   "metadata": {},
   "source": [
    "# Testing GER on the three PBN matrices from the MOMP paper."
   ]
  },
  {
   "cell_type": "markdown",
   "id": "7056817c-2a38-4c4b-bbdc-d05629cf54f3",
   "metadata": {},
   "source": [
    "### 1. First PBN matrix $P_1$"
   ]
  },
  {
   "cell_type": "markdown",
   "id": "2e470df4-032f-40cd-997e-ce6917b899fb",
   "metadata": {},
   "source": [
    "It can be proved that GER finds the sparsest possible decomposition for $P_1$."
   ]
  },
  {
   "cell_type": "code",
   "execution_count": 11,
   "id": "fd7f2acd-0936-4441-bb36-fbb4ac7298dc",
   "metadata": {},
   "outputs": [
    {
     "data": {
      "text/plain": [
       "(5,\n",
       " [1, 2, 2, 4, 1],\n",
       " array([[0, 0, 2, 0],\n",
       "        [1, 0, 0, 2],\n",
       "        [3, 1, 1, 2],\n",
       "        [3, 3, 2, 3],\n",
       "        [3, 1, 2, 3]]))"
      ]
     },
     "execution_count": 11,
     "metadata": {},
     "output_type": "execute_result"
    }
   ],
   "source": [
    "MOMP_PBN_P1 = np.array([[1, 3, 2, 1], \n",
    "                        [2, 3, 2, 0], \n",
    "                        [0, 0, 6, 4], \n",
    "                        [7, 4, 0, 5]])\n",
    "GER(MOMP_PBN_P1, 10)"
   ]
  },
  {
   "cell_type": "markdown",
   "id": "4b6828ad-433c-41b1-bc56-d80717f5e311",
   "metadata": {},
   "source": [
    "### 2. Second PBN matrix $P_2$"
   ]
  },
  {
   "cell_type": "markdown",
   "id": "0fd209d9-f0b9-4875-b51e-a8ef5d058cc5",
   "metadata": {},
   "source": [
    "It can be proved that GER finds the sparsest possible decomposition for $P_2$."
   ]
  },
  {
   "cell_type": "code",
   "execution_count": 12,
   "id": "c4544c0b-7e5f-4eef-bc71-d58c84f552f0",
   "metadata": {},
   "outputs": [
    {
     "data": {
      "text/plain": [
       "(5,\n",
       " [1, 2, 2, 4, 1],\n",
       " array([[0, 0, 2, 0, 4, 4, 6, 4],\n",
       "        [1, 0, 0, 2, 5, 4, 4, 6],\n",
       "        [3, 1, 1, 2, 7, 5, 5, 6],\n",
       "        [3, 3, 2, 3, 7, 7, 6, 7],\n",
       "        [3, 1, 2, 3, 7, 5, 6, 7]]))"
      ]
     },
     "execution_count": 12,
     "metadata": {},
     "output_type": "execute_result"
    }
   ],
   "source": [
    "MOMP_PBN_P2 = np.array([[1, 3, 2, 1, 0, 0, 0, 0], \n",
    "                        [2, 3, 2, 0, 0, 0, 0, 0], \n",
    "                        [0, 0, 6, 4, 0, 0, 0, 0], \n",
    "                        [7, 4, 0, 5, 0, 0, 0, 0],\n",
    "                        [0, 0, 0, 0, 1, 3, 2, 1],\n",
    "                        [0, 0, 0, 0, 2, 3, 2, 0],\n",
    "                        [0, 0, 0, 0, 0, 0, 6, 4],\n",
    "                        [0, 0, 0, 0, 7, 4, 0, 5]])\n",
    "GER(MOMP_PBN_P2, 10)"
   ]
  },
  {
   "cell_type": "markdown",
   "id": "8fb28d0e-d414-4d74-9042-ee31e2be5cb3",
   "metadata": {},
   "source": [
    "### 3. Third PBN matrix $P_3$"
   ]
  },
  {
   "cell_type": "code",
   "execution_count": 13,
   "id": "99c3b172-e4a5-4137-b6b2-b2d85e0027b0",
   "metadata": {},
   "outputs": [
    {
     "data": {
      "text/plain": [
       "(11,\n",
       " [25, 8, 6, 4, 2, 25, 13, 4, 7, 5, 1],\n",
       " array([[0, 1, 2, 2, 2, 7, 1, 5],\n",
       "        [1, 2, 0, 1, 1, 3, 1, 5],\n",
       "        [1, 1, 2, 1, 6, 7, 2, 1],\n",
       "        [5, 3, 2, 1, 1, 0, 2, 5],\n",
       "        [0, 4, 0, 1, 6, 7, 2, 5],\n",
       "        [5, 5, 4, 7, 5, 5, 2, 7],\n",
       "        [0, 4, 5, 1, 6, 1, 2, 7],\n",
       "        [0, 3, 2, 1, 6, 5, 2, 7],\n",
       "        [0, 3, 5, 1, 6, 4, 2, 7],\n",
       "        [0, 5, 4, 1, 6, 4, 2, 7],\n",
       "        [0, 5, 2, 1, 6, 4, 2, 7]]))"
      ]
     },
     "execution_count": 13,
     "metadata": {},
     "output_type": "execute_result"
    }
   ],
   "source": [
    "MOMP_PBN_P3 = np.array([[57,  0, 10,  0,  0,  4,  0,  0], \n",
    "                        [14, 31,  0, 50, 12, 13, 33,  6], \n",
    "                        [ 0,  8, 40, 25, 25,  0, 67,  0], \n",
    "                        [ 0, 15,  0,  0,  0,  8,  0,  0],\n",
    "                        [ 0, 15, 30,  0,  0, 13,  0,  0],\n",
    "                        [29, 31, 20,  0, 25, 29,  0, 39],\n",
    "                        [ 0,  0,  0,  0, 38,  0,  0,  0],\n",
    "                        [ 0,  0,  0, 25,  0, 33,  0, 55]])\n",
    "GER(MOMP_PBN_P3, 2)"
   ]
  },
  {
   "cell_type": "markdown",
   "id": "aa10d1a6-5584-4cf0-b2ae-b26c35a252a1",
   "metadata": {},
   "source": [
    "# Testing GER on the PBN matrices from the projection-based gradient descent method (PBGDM) paper."
   ]
  },
  {
   "cell_type": "markdown",
   "id": "f99ff8f3-c590-496e-bc63-8540f2132981",
   "metadata": {},
   "source": [
    "### 1. First PBN matrix $P_1$"
   ]
  },
  {
   "cell_type": "markdown",
   "id": "6d0335fe-6890-4845-8349-0dc829cd4a6f",
   "metadata": {},
   "source": [
    "It can be proved that GER finds the sparsest possible decomposition for $P_1$."
   ]
  },
  {
   "cell_type": "code",
   "execution_count": 14,
   "id": "9d527833-3cdb-40c6-9c77-f53ee2cc1c27",
   "metadata": {},
   "outputs": [
    {
     "data": {
      "text/plain": [
       "(4,\n",
       " [5, 1, 2, 2],\n",
       " array([[3, 1, 0, 0],\n",
       "        [0, 0, 2, 0],\n",
       "        [3, 0, 2, 3],\n",
       "        [3, 1, 2, 3]]))"
      ]
     },
     "execution_count": 14,
     "metadata": {},
     "output_type": "execute_result"
    }
   ],
   "source": [
    "PBGDM_PBN_P1 = np.array([[1, 3, 5, 6], \n",
    "                         [0, 7, 0, 0], \n",
    "                         [0, 0, 5, 0], \n",
    "                         [9, 0, 0, 4]])\n",
    "GER(PBGDM_PBN_P1, 10)"
   ]
  },
  {
   "cell_type": "markdown",
   "id": "7a0cc11c-038d-4c94-afc9-a1e1c23a0f16",
   "metadata": {},
   "source": [
    "### 2. Second PBN matrix $P_3$"
   ]
  },
  {
   "cell_type": "markdown",
   "id": "07b0d0e1-32dc-48fb-b5ec-0694942e133c",
   "metadata": {},
   "source": [
    "It can be proved that GER finds the sparsest possible decomposition for $P_3$."
   ]
  },
  {
   "cell_type": "code",
   "execution_count": 16,
   "id": "ddd53fb1-93b1-4f29-baef-e35b75d0849b",
   "metadata": {},
   "outputs": [
    {
     "data": {
      "text/plain": [
       "(4,\n",
       " [3, 2, 3, 2],\n",
       " array([[0, 6, 6, 4, 2, 6, 4, 7],\n",
       "        [0, 6, 6, 0, 2, 6, 4, 7],\n",
       "        [0, 6, 6, 5, 2, 7, 5, 7],\n",
       "        [0, 6, 6, 1, 2, 7, 5, 7]]))"
      ]
     },
     "execution_count": 16,
     "metadata": {},
     "output_type": "execute_result"
    }
   ],
   "source": [
    "PBGDM_PBN_P3 = np.array([[10,  0,  0, 2,  0, 0, 0,  0], \n",
    "                         [ 0,  0,  0, 2,  0, 0, 0,  0], \n",
    "                         [ 0,  0,  0, 0, 10, 0, 0,  0], \n",
    "                         [ 0,  0,  0, 0,  0, 0, 0,  0],\n",
    "                         [ 0,  0,  0, 3,  0, 0, 5,  0],\n",
    "                         [ 0,  0,  0, 3,  0, 0, 5,  0],\n",
    "                         [ 0, 10, 10, 0,  0, 5, 0,  0],\n",
    "                         [ 0,  0,  0, 0,  0, 5, 0, 10]])\n",
    "GER(PBGDM_PBN_P3, 10)"
   ]
  },
  {
   "cell_type": "markdown",
   "id": "5372ff20-86b9-4b8d-9044-af824eebfd49",
   "metadata": {},
   "source": [
    "### 3. Third PBN matrix $P_4(d)$, where $d = 0.01, 0.02, 0.03, 0.04$."
   ]
  },
  {
   "cell_type": "markdown",
   "id": "a4663602-1e24-4eaf-b0e0-78e87ca46369",
   "metadata": {},
   "source": [
    "It can be proved that GER finds the sparsest possible decomposition for $P_4(0.01)$."
   ]
  },
  {
   "cell_type": "code",
   "execution_count": 30,
   "id": "de1ef015-228b-4f8d-be63-cd205a02bda5",
   "metadata": {},
   "outputs": [
    {
     "data": {
      "text/plain": [
       "(5,\n",
       " [1, 30, 19, 30, 20],\n",
       " array([[3, 3, 3, 0, 3, 6, 4, 3],\n",
       "        [0, 6, 6, 4, 2, 6, 4, 7],\n",
       "        [0, 6, 6, 0, 2, 6, 4, 7],\n",
       "        [0, 6, 6, 5, 2, 7, 5, 7],\n",
       "        [0, 6, 6, 1, 2, 7, 5, 7]]))"
      ]
     },
     "execution_count": 30,
     "metadata": {},
     "output_type": "execute_result"
    }
   ],
   "source": [
    "d = 1\n",
    "PBGDM_PBN_P4_d1 = np.array([[100 - d,       0,       0, 20,       0,  0,  0,       0], \n",
    "                            [      0,       0,       0, 20,       0,  0,  0,       0], \n",
    "                            [      0,       0,       0,  0, 100 - d,  0,  0,       0], \n",
    "                            [      d,       d,       d,  0,       d,  0,  0,       d],\n",
    "                            [      0,       0,       0, 30,       0,  0, 50,       0],\n",
    "                            [      0,       0,       0, 30,       0,  0, 50,       0],\n",
    "                            [      0, 100 - d, 100 - d,  0,       0, 50,  0,       0],\n",
    "                            [      0,       0,       0,  0,       0, 50,  0, 100 - d]])\n",
    "GER(PBGDM_PBN_P4_d1, 10)"
   ]
  },
  {
   "cell_type": "markdown",
   "id": "2146fb41-7f7f-4378-a1f2-95d08cf37e7a",
   "metadata": {},
   "source": [
    "It can be proved that GER finds the sparsest possible decomposition for $P_4(0.02)$."
   ]
  },
  {
   "cell_type": "code",
   "execution_count": 21,
   "id": "677356c4-8ccf-4f74-9993-5db92789ef0f",
   "metadata": {},
   "outputs": [
    {
     "data": {
      "text/plain": [
       "(5,\n",
       " [1, 15, 9, 15, 10],\n",
       " array([[3, 3, 3, 0, 3, 6, 4, 3],\n",
       "        [0, 6, 6, 4, 2, 6, 4, 7],\n",
       "        [0, 6, 6, 0, 2, 6, 4, 7],\n",
       "        [0, 6, 6, 5, 2, 7, 5, 7],\n",
       "        [0, 6, 6, 1, 2, 7, 5, 7]]))"
      ]
     },
     "execution_count": 21,
     "metadata": {},
     "output_type": "execute_result"
    }
   ],
   "source": [
    "d = 1\n",
    "PBGDM_PBN_P4_d2 = np.array([[50 - d,      0,      0, 10,      0,  0,  0,      0], \n",
    "                            [     0,      0,      0, 10,      0,  0,  0,      0], \n",
    "                            [     0,      0,      0,  0, 50 - d,  0,  0,      0], \n",
    "                            [     d,      d,      d,  0,      d,  0,  0,      d],\n",
    "                            [     0,      0,      0, 15,      0,  0, 25,      0],\n",
    "                            [     0,      0,      0, 15,      0,  0, 25,      0],\n",
    "                            [     0, 50 - d, 50 - d,  0,      0, 25,  0,      0],\n",
    "                            [     0,      0,      0,  0,      0, 25,  0, 50 - d]])\n",
    "GER(PBGDM_PBN_P4_d2, 10)"
   ]
  },
  {
   "cell_type": "markdown",
   "id": "4e6e5ad4-04e0-43c0-996a-4f40a90172c6",
   "metadata": {},
   "source": [
    "It can be proved that GER finds the sparsest possible decomposition for $P_4(0.03)$."
   ]
  },
  {
   "cell_type": "code",
   "execution_count": 20,
   "id": "7a06dc0a-c4ef-407d-8645-964eb7d9d500",
   "metadata": {},
   "outputs": [
    {
     "data": {
      "text/plain": [
       "(5,\n",
       " [3, 30, 17, 30, 20],\n",
       " array([[3, 3, 3, 0, 3, 6, 4, 3],\n",
       "        [0, 6, 6, 4, 2, 6, 4, 7],\n",
       "        [0, 6, 6, 0, 2, 6, 4, 7],\n",
       "        [0, 6, 6, 5, 2, 7, 5, 7],\n",
       "        [0, 6, 6, 1, 2, 7, 5, 7]]))"
      ]
     },
     "execution_count": 20,
     "metadata": {},
     "output_type": "execute_result"
    }
   ],
   "source": [
    "d = 3\n",
    "PBGDM_PBN_P4_d3 = np.array([[100 - d,       0,       0, 20,       0,  0,  0,       0], \n",
    "                            [      0,       0,       0, 20,       0,  0,  0,       0], \n",
    "                            [      0,       0,       0,  0, 100 - d,  0,  0,       0], \n",
    "                            [      d,       d,       d,  0,       d,  0,  0,       d],\n",
    "                            [      0,       0,       0, 30,       0,  0, 50,       0],\n",
    "                            [      0,       0,       0, 30,       0,  0, 50,       0],\n",
    "                            [      0, 100 - d, 100 - d,  0,       0, 50,  0,       0],\n",
    "                            [      0,       0,       0,  0,       0, 50,  0, 100 - d]])\n",
    "GER(PBGDM_PBN_P4_d3, 10)"
   ]
  },
  {
   "cell_type": "markdown",
   "id": "ec224e04-42f3-4396-b612-96bc862a94f4",
   "metadata": {},
   "source": [
    "It can be proved that GER finds the sparsest possible decomposition for $P_4(0.04)$."
   ]
  },
  {
   "cell_type": "code",
   "execution_count": 23,
   "id": "c2573a7f-b0ca-4c10-8a8f-c404bc93a165",
   "metadata": {},
   "outputs": [
    {
     "data": {
      "text/plain": [
       "(5,\n",
       " [2, 15, 8, 15, 10],\n",
       " array([[3, 3, 3, 0, 3, 6, 4, 3],\n",
       "        [0, 6, 6, 4, 2, 6, 4, 7],\n",
       "        [0, 6, 6, 0, 2, 6, 4, 7],\n",
       "        [0, 6, 6, 5, 2, 7, 5, 7],\n",
       "        [0, 6, 6, 1, 2, 7, 5, 7]]))"
      ]
     },
     "execution_count": 23,
     "metadata": {},
     "output_type": "execute_result"
    }
   ],
   "source": [
    "d = 2\n",
    "PBGDM_PBN_P4_d4 = np.array([[50 - d,      0,      0, 10,      0,  0,  0,      0], \n",
    "                            [     0,      0,      0, 10,      0,  0,  0,      0], \n",
    "                            [     0,      0,      0,  0, 50 - d,  0,  0,      0], \n",
    "                            [     d,      d,      d,  0,      d,  0,  0,      d],\n",
    "                            [     0,      0,      0, 15,      0,  0, 25,      0],\n",
    "                            [     0,      0,      0, 15,      0,  0, 25,      0],\n",
    "                            [     0, 50 - d, 50 - d,  0,      0, 25,  0,      0],\n",
    "                            [     0,      0,      0,  0,      0, 25,  0, 50 - d]])\n",
    "GER(PBGDM_PBN_P4_d4, 10)"
   ]
  },
  {
   "cell_type": "markdown",
   "id": "85a8444a-02ed-41a8-8627-692be9716aa1",
   "metadata": {},
   "source": [
    "### 4. Fourth PBN matrix $P_6(d)$, where $d = 0.01, 0.02, 0.03, 0.04$."
   ]
  },
  {
   "cell_type": "markdown",
   "id": "a30ac57e-9892-4399-b3be-d6cb237d43aa",
   "metadata": {},
   "source": [
    "It can be proved that GER finds the sparsest possible decomposition for $P_6(0.01)$."
   ]
  },
  {
   "cell_type": "code",
   "execution_count": 29,
   "id": "8bb4762e-ffa5-4cd7-9db2-6e74218d3e2f",
   "metadata": {},
   "outputs": [
    {
     "data": {
      "text/plain": [
       "(5,\n",
       " [1, 30, 19, 30, 20],\n",
       " array([[ 3,  3,  3,  0,  3,  6,  4,  3, 11, 11, 11,  8, 11, 14, 12, 11],\n",
       "        [ 0,  6,  6,  4,  2,  6,  4,  7,  8, 14, 14, 12, 10, 14, 12, 15],\n",
       "        [ 0,  6,  6,  0,  2,  6,  4,  7,  8, 14, 14,  8, 10, 14, 12, 15],\n",
       "        [ 0,  6,  6,  5,  2,  7,  5,  7,  8, 14, 14, 13, 10, 15, 13, 15],\n",
       "        [ 0,  6,  6,  1,  2,  7,  5,  7,  8, 14, 14,  9, 10, 15, 13, 15]]))"
      ]
     },
     "execution_count": 29,
     "metadata": {},
     "output_type": "execute_result"
    }
   ],
   "source": [
    "PBGDM_PBN_P6_d1 = np.zeros((16, 16), dtype=int)\n",
    "PBGDM_PBN_P6_d1[0:8, 0:8] = PBGDM_PBN_P4_d1\n",
    "PBGDM_PBN_P6_d1[8:16, 8:16] = PBGDM_PBN_P4_d1\n",
    "\n",
    "GER(PBGDM_PBN_P6_d1, 10)"
   ]
  },
  {
   "cell_type": "markdown",
   "id": "15a06bf9-9203-460b-b222-a0ecc734e00a",
   "metadata": {},
   "source": [
    "It can be proved that GER finds the sparsest possible decomposition for $P_6(0.02)$."
   ]
  },
  {
   "cell_type": "code",
   "execution_count": 32,
   "id": "6fdf8786-8cce-4ba9-b0f6-5f2b5b0a0592",
   "metadata": {},
   "outputs": [
    {
     "data": {
      "text/plain": [
       "(5,\n",
       " [1, 15, 9, 15, 10],\n",
       " array([[ 3,  3,  3,  0,  3,  6,  4,  3, 11, 11, 11,  8, 11, 14, 12, 11],\n",
       "        [ 0,  6,  6,  4,  2,  6,  4,  7,  8, 14, 14, 12, 10, 14, 12, 15],\n",
       "        [ 0,  6,  6,  0,  2,  6,  4,  7,  8, 14, 14,  8, 10, 14, 12, 15],\n",
       "        [ 0,  6,  6,  5,  2,  7,  5,  7,  8, 14, 14, 13, 10, 15, 13, 15],\n",
       "        [ 0,  6,  6,  1,  2,  7,  5,  7,  8, 14, 14,  9, 10, 15, 13, 15]]))"
      ]
     },
     "execution_count": 32,
     "metadata": {},
     "output_type": "execute_result"
    }
   ],
   "source": [
    "PBGDM_PBN_P6_d2 = np.zeros((16, 16), dtype=int)\n",
    "PBGDM_PBN_P6_d2[0:8, 0:8] = PBGDM_PBN_P4_d2\n",
    "PBGDM_PBN_P6_d2[8:16, 8:16] = PBGDM_PBN_P4_d2\n",
    "\n",
    "GER(PBGDM_PBN_P6_d2, 10)"
   ]
  },
  {
   "cell_type": "markdown",
   "id": "f7684d75-b967-4145-b089-6202f19dde17",
   "metadata": {},
   "source": [
    "It can be proved that GER finds the sparsest possible decomposition for $P_6(0.03)$."
   ]
  },
  {
   "cell_type": "code",
   "execution_count": 33,
   "id": "867a5772-1fdd-417e-b1ec-51a5ca6380b0",
   "metadata": {},
   "outputs": [
    {
     "data": {
      "text/plain": [
       "(5,\n",
       " [3, 30, 17, 30, 20],\n",
       " array([[ 3,  3,  3,  0,  3,  6,  4,  3, 11, 11, 11,  8, 11, 14, 12, 11],\n",
       "        [ 0,  6,  6,  4,  2,  6,  4,  7,  8, 14, 14, 12, 10, 14, 12, 15],\n",
       "        [ 0,  6,  6,  0,  2,  6,  4,  7,  8, 14, 14,  8, 10, 14, 12, 15],\n",
       "        [ 0,  6,  6,  5,  2,  7,  5,  7,  8, 14, 14, 13, 10, 15, 13, 15],\n",
       "        [ 0,  6,  6,  1,  2,  7,  5,  7,  8, 14, 14,  9, 10, 15, 13, 15]]))"
      ]
     },
     "execution_count": 33,
     "metadata": {},
     "output_type": "execute_result"
    }
   ],
   "source": [
    "PBGDM_PBN_P6_d3 = np.zeros((16, 16), dtype=int)\n",
    "PBGDM_PBN_P6_d3[0:8, 0:8] = PBGDM_PBN_P4_d3\n",
    "PBGDM_PBN_P6_d3[8:16, 8:16] = PBGDM_PBN_P4_d3\n",
    "\n",
    "GER(PBGDM_PBN_P6_d3, 10)"
   ]
  },
  {
   "cell_type": "markdown",
   "id": "ecc1779b-2a5b-4dd8-b4df-a736ca2b686e",
   "metadata": {},
   "source": [
    "It can be proved that GER finds the sparsest possible decomposition for $P_6(0.04)$."
   ]
  },
  {
   "cell_type": "code",
   "execution_count": 35,
   "id": "acfa7dfd-090b-4ac8-b55c-d211c2b104c6",
   "metadata": {},
   "outputs": [
    {
     "data": {
      "text/plain": [
       "(5,\n",
       " [2, 15, 8, 15, 10],\n",
       " array([[ 3,  3,  3,  0,  3,  6,  4,  3, 11, 11, 11,  8, 11, 14, 12, 11],\n",
       "        [ 0,  6,  6,  4,  2,  6,  4,  7,  8, 14, 14, 12, 10, 14, 12, 15],\n",
       "        [ 0,  6,  6,  0,  2,  6,  4,  7,  8, 14, 14,  8, 10, 14, 12, 15],\n",
       "        [ 0,  6,  6,  5,  2,  7,  5,  7,  8, 14, 14, 13, 10, 15, 13, 15],\n",
       "        [ 0,  6,  6,  1,  2,  7,  5,  7,  8, 14, 14,  9, 10, 15, 13, 15]]))"
      ]
     },
     "execution_count": 35,
     "metadata": {},
     "output_type": "execute_result"
    }
   ],
   "source": [
    "PBGDM_PBN_P6_d4 = np.zeros((16, 16), dtype=int)\n",
    "PBGDM_PBN_P6_d4[0:8, 0:8] = PBGDM_PBN_P4_d4\n",
    "PBGDM_PBN_P6_d4[8:16, 8:16] = PBGDM_PBN_P4_d4\n",
    "\n",
    "GER(PBGDM_PBN_P6_d4, 10)"
   ]
  }
 ],
 "metadata": {
  "kernelspec": {
   "display_name": "Python 3 (ipykernel)",
   "language": "python",
   "name": "python3"
  },
  "language_info": {
   "codemirror_mode": {
    "name": "ipython",
    "version": 3
   },
   "file_extension": ".py",
   "mimetype": "text/x-python",
   "name": "python",
   "nbconvert_exporter": "python",
   "pygments_lexer": "ipython3",
   "version": "3.9.12"
  }
 },
 "nbformat": 4,
 "nbformat_minor": 5
}
