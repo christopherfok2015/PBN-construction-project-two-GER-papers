{
 "cells": [
  {
   "cell_type": "markdown",
   "id": "4769f089-085e-49ec-ab9c-4f2d6306a2e7",
   "metadata": {},
   "source": [
    "# Simple Entry Removal Algorithm 1 (SER 1)"
   ]
  },
  {
   "cell_type": "code",
   "execution_count": 1,
   "id": "9a38818b-da7c-4f4f-a2a7-c8c40d96669d",
   "metadata": {},
   "outputs": [],
   "source": [
    "import numpy as np"
   ]
  },
  {
   "cell_type": "code",
   "execution_count": 2,
   "id": "2fd61a4c-01fb-487b-9506-44c8976a5298",
   "metadata": {},
   "outputs": [],
   "source": [
    "# This function is used in the SER 1 function.\n",
    "# residue_matrix_R is a np.ndarray.\n",
    "# PBN_row_num is the number of rows present in residue_matrix_R.\n",
    "# PBN_col_num is the number of columns present in residue_matrix_R.\n",
    "def find_smallest_nonzero_entry(residue_matrix_R, PBN_row_num, PBN_col_num):\n",
    "    row_counter = 0\n",
    "    col_counter = 0\n",
    "    while residue_matrix_R[row_counter, col_counter] == 0:\n",
    "        row_counter += 1\n",
    "    smallest_entry = residue_matrix_R[row_counter, col_counter]\n",
    "    smallest_entry_row_pos = row_counter\n",
    "    smallest_entry_col_pos = col_counter\n",
    "\n",
    "    del row_counter\n",
    "    del col_counter\n",
    "    for col_counter in range(PBN_col_num):\n",
    "        for row_counter in range(PBN_row_num):\n",
    "            current_entry = residue_matrix_R[row_counter, col_counter]\n",
    "            if (current_entry > 0) and (current_entry < smallest_entry):\n",
    "                smallest_entry = current_entry\n",
    "                smallest_entry_row_pos = row_counter\n",
    "                smallest_entry_col_pos = col_counter\n",
    "\n",
    "    return smallest_entry, smallest_entry_row_pos, smallest_entry_col_pos\n"
   ]
  },
  {
   "cell_type": "markdown",
   "id": "0f829162-00f3-48a3-b1b3-3f8b58f1b8bc",
   "metadata": {},
   "source": [
    "### The SER 1 function"
   ]
  },
  {
   "cell_type": "code",
   "execution_count": 3,
   "id": "2e79c6c1-2483-4b09-9c49-201e697c1c2f",
   "metadata": {},
   "outputs": [],
   "source": [
    "def SER_1(PBN_matrix_P):  # input: 2^n-by-2^n ndarray consisting of integers.\n",
    "    PBN_row_num = PBN_matrix_P.shape[0]\n",
    "    PBN_col_num = PBN_matrix_P.shape[1]\n",
    "    coefficient_list_xi = []  # the coefficients of BN matrices to be output\n",
    "    # the BN matrices to be output\n",
    "    BN_matrices_list_Ai = np.array([[-1] * PBN_col_num])  # the first row of BN_matrices_list_Ai will be\n",
    "                                                          # replaced in the first iteration of pseudocode\n",
    "                                                          # steps 1 to 4.\n",
    "                                                          \n",
    "    residue_matrix_R = PBN_matrix_P.copy()\n",
    "    k = 1  # counts the number of iterations of pseudocode Steps 1 to 4\n",
    "    chosen_entry_xi, xi_row_pos, xi_col_pos = find_smallest_nonzero_entry(residue_matrix_R, \n",
    "                                                                          PBN_row_num, PBN_col_num)\n",
    "    chosen_entry_pos_each_col = np.argmax(residue_matrix_R, axis=0, keepdims=True)\n",
    "    chosen_entry_pos_each_col[0, xi_col_pos] = xi_row_pos\n",
    "    \n",
    "    coefficient_list_xi.append(chosen_entry_xi)\n",
    "    BN_matrices_list_Ai = chosen_entry_pos_each_col\n",
    "    \n",
    "    for col_counter in range(PBN_col_num):\n",
    "        row_to_deduct = chosen_entry_pos_each_col[0, col_counter]\n",
    "        residue_matrix_R[row_to_deduct, col_counter] -= chosen_entry_xi\n",
    "    \n",
    "    zero_PBN_matrix = np.zeros((PBN_row_num, PBN_col_num), dtype=int)\n",
    "    \n",
    "    while (not np.array_equal(residue_matrix_R, zero_PBN_matrix)):\n",
    "        k += 1\n",
    "        chosen_entry_xi, xi_row_pos, xi_col_pos = find_smallest_nonzero_entry(residue_matrix_R, \n",
    "                                                                              PBN_row_num, PBN_col_num)\n",
    "        chosen_entry_pos_each_col = np.argmax(residue_matrix_R, axis=0, keepdims=True)\n",
    "        chosen_entry_pos_each_col[0, xi_col_pos] = xi_row_pos\n",
    "    \n",
    "        coefficient_list_xi.append(chosen_entry_xi)\n",
    "        BN_matrices_list_Ai = np.append(BN_matrices_list_Ai, chosen_entry_pos_each_col, axis=0)\n",
    "        \n",
    "        for col_counter in range(PBN_col_num):\n",
    "            row_to_deduct = chosen_entry_pos_each_col[0, col_counter]\n",
    "            residue_matrix_R[row_to_deduct, col_counter] -= chosen_entry_xi\n",
    "    \n",
    "    return k, coefficient_list_xi, BN_matrices_list_Ai"
   ]
  },
  {
   "cell_type": "markdown",
   "id": "98ecb686-516b-448d-a59b-3aeefa5b1c2d",
   "metadata": {},
   "source": [
    "### Outputs of SER 1 on different small PBN matrices"
   ]
  },
  {
   "cell_type": "markdown",
   "id": "7c692f06-3980-489f-9dff-baf6597c23bc",
   "metadata": {},
   "source": [
    "#### [1] PBN Matrix from Default Data"
   ]
  },
  {
   "cell_type": "code",
   "execution_count": 4,
   "id": "69ed17bf-a268-4602-94a7-4234c160ca40",
   "metadata": {},
   "outputs": [
    {
     "data": {
      "text/plain": [
       "(20,\n",
       " [4, 6, 8, 8, 10, 12, 7, 9, 6, 7, 4, 4, 4, 2, 4, 1, 1, 1, 1, 1],\n",
       " array([[0, 4, 2, 4, 3, 0, 2, 7],\n",
       "        [0, 5, 2, 4, 3, 7, 2, 4],\n",
       "        [0, 2, 2, 4, 3, 5, 2, 7],\n",
       "        [0, 4, 6, 4, 2, 1, 2, 7],\n",
       "        [0, 5, 0, 2, 5, 7, 2, 5],\n",
       "        [5, 4, 2, 7, 4, 5, 4, 7],\n",
       "        [0, 4, 6, 4, 3, 7, 2, 5],\n",
       "        [5, 1, 5, 4, 2, 5, 2, 7],\n",
       "        [0, 1, 6, 2, 5, 4, 4, 5],\n",
       "        [4, 5, 5, 7, 3, 4, 2, 5],\n",
       "        [0, 6, 5, 2, 5, 6, 4, 7],\n",
       "        [0, 6, 2, 4, 2, 7, 4, 7],\n",
       "        [5, 5, 6, 4, 3, 6, 2, 5],\n",
       "        [4, 6, 2, 7, 3, 7, 4, 7],\n",
       "        [5, 6, 6, 2, 5, 6, 4, 5],\n",
       "        [4, 6, 2, 7, 2, 7, 2, 7],\n",
       "        [4, 5, 6, 7, 2, 7, 2, 7],\n",
       "        [4, 5, 2, 2, 2, 7, 2, 7],\n",
       "        [4, 5, 2, 7, 2, 6, 2, 5],\n",
       "        [4, 5, 2, 7, 5, 7, 4, 7]], dtype=int64))"
      ]
     },
     "execution_count": 4,
     "metadata": {},
     "output_type": "execute_result"
    }
   ],
   "source": [
    "test_PBN_matrix_3 = np.array([[57,  0, 10,  0,  0,  4,  0,  0], \n",
    "                              [ 0, 15,  0,  0,  0,  8,  0,  0], \n",
    "                              [ 0,  8, 40, 25, 25,  0, 67,  0], \n",
    "                              [ 0,  0,  0,  0, 38,  0,  0,  0],\n",
    "                              [14, 31,  0, 50, 12, 13, 33,  6],\n",
    "                              [29, 31, 20,  0, 25, 29,  0, 39],\n",
    "                              [ 0, 15, 30,  0,  0, 13,  0,  0],\n",
    "                              [ 0,  0,  0, 25,  0, 33,  0, 55]])\n",
    "SER_1(test_PBN_matrix_3)"
   ]
  },
  {
   "cell_type": "markdown",
   "id": "7425bedd-18fb-472d-ae3b-1e315735c890",
   "metadata": {},
   "source": [
    "#### [2] Nursing Home PBN Matrix"
   ]
  },
  {
   "cell_type": "code",
   "execution_count": 5,
   "id": "92daef7a-4663-448a-ae3b-733cffde9fda",
   "metadata": {},
   "outputs": [
    {
     "data": {
      "text/plain": [
       "(10,\n",
       " [1, 1, 1, 1, 1, 1, 1, 1, 1, 1],\n",
       " array([[ 1,  1,  0,  4,  0,  0,  0,  0,  0,  0,  0,  0,  0, 12,  4, 12],\n",
       "        [ 1,  2,  0,  4,  0,  0,  0,  4,  0,  0, 12,  0,  0,  4,  4, 12],\n",
       "        [ 1,  3,  0,  4,  0,  4,  0,  0,  0,  0,  0,  4,  0, 12,  0,  1],\n",
       "        [ 1,  4,  0,  4,  0,  0,  0,  4,  0,  4,  4,  8,  0,  0,  4, 12],\n",
       "        [ 1,  0,  1,  4,  0,  4,  0,  0,  0,  0,  9,  0,  0,  4,  8,  1],\n",
       "        [ 1,  0,  4,  4,  0,  0,  0,  4,  0,  4, 12,  4,  0, 12, 12, 12],\n",
       "        [ 1,  0,  0,  0,  4,  4,  0,  0,  1,  9,  0,  8,  0,  0,  0,  1],\n",
       "        [ 1,  0,  0,  4,  0,  0,  4,  4,  2,  0,  4,  0,  0,  4,  4,  4],\n",
       "        [ 2,  0,  0,  4,  4,  4,  0,  0,  8,  4,  9,  4,  0, 12,  8,  8],\n",
       "        [ 2,  0,  0,  5,  8,  5,  4,  4,  9,  9, 12,  8,  0, 13, 12, 12]],\n",
       "       dtype=int64))"
      ]
     },
     "execution_count": 5,
     "metadata": {},
     "output_type": "execute_result"
    }
   ],
   "source": [
    "test_PBN_matrix_4 = np.array([[0, 6, 8, 1, 7, 5, 8, 5, 6, 5, 3, 4, 10, 2, 2, 0], \n",
    "                              [8, 1, 1, 0, 0, 0, 0, 0, 1, 0, 0, 0,  0, 0, 0, 3], \n",
    "                              [2, 1, 0, 0, 0, 0, 0, 0, 1, 0, 0, 0,  0, 0, 0, 0], \n",
    "                              [0, 1, 0, 0, 0, 0, 0, 0, 0, 0, 0, 0,  0, 0, 0, 0],\n",
    "                              [0, 1, 1, 8, 2, 4, 2, 5, 0, 3, 2, 3,  0, 3, 4, 1],\n",
    "                              [0, 0, 0, 1, 0, 1, 0, 0, 0, 0, 0, 0,  0, 0, 0, 0],\n",
    "                              [0, 0, 0, 0, 0, 0, 0, 0, 0, 0, 0, 0,  0, 0, 0, 0],\n",
    "                              [0, 0, 0, 0, 0, 0, 0, 0, 0, 0, 0, 0,  0, 0, 0, 0],\n",
    "                              [0, 0, 0, 0, 1, 0, 0, 0, 1, 0, 0, 3,  0, 0, 2, 1],\n",
    "                              [0, 0, 0, 0, 0, 0, 0, 0, 1, 2, 2, 0,  0, 0, 0, 0],\n",
    "                              [0, 0, 0, 0, 0, 0, 0, 0, 0, 0, 0, 0,  0, 0, 0, 0],\n",
    "                              [0, 0, 0, 0, 0, 0, 0, 0, 0, 0, 0, 0,  0, 0, 0, 0],\n",
    "                              [0, 0, 0, 0, 0, 0, 0, 0, 0, 0, 3, 0,  0, 4, 2, 5],\n",
    "                              [0, 0, 0, 0, 0, 0, 0, 0, 0, 0, 0, 0,  0, 1, 0, 0],\n",
    "                              [0, 0, 0, 0, 0, 0, 0, 0, 0, 0, 0, 0,  0, 0, 0, 0],\n",
    "                              [0, 0, 0, 0, 0, 0, 0, 0, 0, 0, 0, 0,  0, 0, 0, 0]\n",
    "                             ])\n",
    "SER_1(test_PBN_matrix_4)"
   ]
  },
  {
   "cell_type": "markdown",
   "id": "973136a8-1a4b-4d15-9d65-e0adb10676f1",
   "metadata": {},
   "source": [
    "#### [3] First Synthetic PBN Matrix"
   ]
  },
  {
   "cell_type": "code",
   "execution_count": 6,
   "id": "eadaba25-8123-46aa-965b-6fe4973fb53b",
   "metadata": {},
   "outputs": [],
   "source": [
    "test_PBN_matrix_5_permuted = np.array([[12, 30, 22, 10, 10, 15, 54, 34],\n",
    "                                       [10, 24, 19, 54, 30,  0,  0,  0],\n",
    "                                       [54, 15,  0, 12, 12,  0,  0, 30],\n",
    "                                       [ 0,  0, 24, 15, 24, 19, 10,  0],\n",
    "                                       [ 0,  0,  0,  0, 34, 10, 12,  0],\n",
    "                                       [19,  0, 15,  0,  0, 12,  0, 22],\n",
    "                                       [15, 19,  0, 19,  0, 54,  0, 24],\n",
    "                                       [ 0, 22, 30,  0,  0,  0, 34,  0]])"
   ]
  },
  {
   "cell_type": "code",
   "execution_count": 7,
   "id": "ec56ebc0-d79a-4988-a6d7-e4088340e469",
   "metadata": {},
   "outputs": [
    {
     "data": {
      "text/plain": [
       "(23,\n",
       " [10, 10, 10, 10, 10, 9, 10, 4, 4, 5, 5, 5, 3, 2, 2, 3, 1, 1, 2, 1, 1, 1, 1],\n",
       " array([[1, 0, 7, 1, 4, 6, 0, 0],\n",
       "        [2, 1, 3, 0, 1, 6, 0, 2],\n",
       "        [2, 7, 0, 1, 0, 6, 0, 0],\n",
       "        [2, 0, 7, 1, 3, 4, 7, 6],\n",
       "        [2, 0, 1, 1, 4, 6, 0, 5],\n",
       "        [5, 6, 1, 6, 1, 3, 7, 2],\n",
       "        [5, 2, 5, 3, 3, 0, 7, 0],\n",
       "        [6, 1, 3, 1, 3, 6, 0, 6],\n",
       "        [2, 7, 0, 2, 4, 5, 4, 0],\n",
       "        [0, 2, 3, 1, 2, 3, 0, 5],\n",
       "        [6, 1, 3, 6, 1, 6, 3, 2],\n",
       "        [2, 1, 7, 2, 4, 5, 4, 6],\n",
       "        [0, 6, 0, 2, 2, 0, 0, 5],\n",
       "        [6, 7, 0, 1, 1, 0, 3, 2],\n",
       "        [2, 6, 5, 3, 4, 3, 0, 6],\n",
       "        [2, 7, 7, 6, 1, 6, 7, 2],\n",
       "        [0, 6, 0, 1, 1, 3, 3, 5],\n",
       "        [6, 6, 5, 3, 2, 5, 4, 2],\n",
       "        [0, 6, 0, 1, 2, 3, 3, 5],\n",
       "        [0, 7, 5, 3, 4, 5, 4, 6],\n",
       "        [6, 6, 7, 6, 4, 6, 7, 6],\n",
       "        [6, 7, 5, 3, 2, 5, 4, 5],\n",
       "        [6, 7, 7, 6, 4, 6, 7, 6]], dtype=int64))"
      ]
     },
     "execution_count": 7,
     "metadata": {},
     "output_type": "execute_result"
    }
   ],
   "source": [
    "SER_1(test_PBN_matrix_5_permuted)"
   ]
  },
  {
   "cell_type": "markdown",
   "id": "7a225886-69d8-4706-9b19-ecdf9ad98be4",
   "metadata": {},
   "source": [
    "#### [4] Second Synthetic PBN Matrix"
   ]
  },
  {
   "cell_type": "code",
   "execution_count": 8,
   "id": "acb906e0-f2f0-4a63-ae57-2c75c13a6416",
   "metadata": {},
   "outputs": [],
   "source": [
    "test_PBN_matrix_6_permuted = np.array([[ 0,  0,  0, 49,  0, 43,  0, 49],\n",
    "                                       [ 0, 30, 12,  0, 30,  0, 25,  0],\n",
    "                                       [25,  0,  0, 15,  0, 22, 12, 15],\n",
    "                                       [ 0,  0, 10, 24, 19,  0, 30,  0],\n",
    "                                       [30, 43, 15,  0, 24, 15,  0,  0],\n",
    "                                       [43,  0, 49,  0,  0,  0, 19, 24],\n",
    "                                       [ 0, 22,  0, 22, 12, 30,  0, 12],\n",
    "                                       [12, 15, 24,  0, 25,  0, 24, 10]])"
   ]
  },
  {
   "cell_type": "code",
   "execution_count": 9,
   "id": "db7c73b7-4bbc-43a2-9be4-b1c90c3b2468",
   "metadata": {},
   "outputs": [
    {
     "data": {
      "text/plain": [
       "(23,\n",
       " [10, 10, 12, 12, 8, 8, 8, 7, 5, 5, 4, 3, 4, 2, 2, 3, 1, 1, 1, 1, 1, 1, 1],\n",
       " array([[5, 4, 3, 0, 1, 0, 3, 0],\n",
       "        [5, 4, 5, 0, 7, 0, 1, 7],\n",
       "        [7, 1, 5, 0, 4, 6, 7, 0],\n",
       "        [4, 4, 1, 3, 1, 0, 3, 0],\n",
       "        [2, 6, 5, 6, 1, 2, 5, 5],\n",
       "        [5, 1, 7, 0, 3, 6, 3, 5],\n",
       "        [4, 7, 5, 2, 7, 4, 1, 5],\n",
       "        [2, 7, 7, 6, 4, 2, 2, 0],\n",
       "        [5, 6, 4, 3, 4, 0, 7, 2],\n",
       "        [2, 4, 5, 0, 6, 6, 2, 6],\n",
       "        [4, 1, 4, 0, 3, 2, 5, 2],\n",
       "        [5, 6, 7, 2, 3, 2, 1, 0],\n",
       "        [5, 1, 4, 2, 6, 4, 5, 6],\n",
       "        [4, 1, 5, 3, 7, 0, 7, 2],\n",
       "        [2, 4, 4, 6, 7, 6, 7, 0],\n",
       "        [2, 6, 7, 3, 3, 0, 1, 2],\n",
       "        [4, 4, 5, 6, 3, 4, 5, 0],\n",
       "        [4, 4, 5, 6, 6, 0, 7, 6],\n",
       "        [5, 6, 7, 6, 7, 6, 1, 0],\n",
       "        [4, 4, 5, 3, 6, 4, 5, 0],\n",
       "        [4, 6, 7, 6, 7, 6, 7, 6],\n",
       "        [5, 4, 5, 3, 6, 4, 5, 2],\n",
       "        [5, 6, 7, 6, 7, 6, 7, 6]], dtype=int64))"
      ]
     },
     "execution_count": 9,
     "metadata": {},
     "output_type": "execute_result"
    }
   ],
   "source": [
    "SER_1(test_PBN_matrix_6_permuted)"
   ]
  },
  {
   "cell_type": "markdown",
   "id": "986a705b-2459-456b-9588-7fea193a081e",
   "metadata": {},
   "source": [
    "#### [5] Third Synthetic PBN Matrix"
   ]
  },
  {
   "cell_type": "code",
   "execution_count": 10,
   "id": "9c669ba4-8d03-4654-8656-ffb46db2532a",
   "metadata": {},
   "outputs": [],
   "source": [
    "test_PBN_matrix_7_permuted = np.array([[ 26,   0,   0,   0,  59,   0,  49,   0,  29,   0,   0,   0,   0,   9,   0,  46],\n",
    "                                       [  0,   0,  39,  17,   0,   0,   0,  49,  49,   0,   0,   0,   0,  98,  54,  17],\n",
    "                                       [  0,   0,  26,  49,   0,   0,   0,   9,   0,   0,   0,  59,   9,   0,   0,   0],\n",
    "                                       [  0,   0,   0,   0,   0,   9,  54,   0,   0,   0,   0,   0,  39,   0,  49,  26],\n",
    "                                       [ 49,   0,   9,   0,   0,  29,   0,   0,   0,   0, 108,  63,   0,  17,  59,   0],\n",
    "                                       [  0,   0,   0,  26,   0,   0,   0,  17,  39,  29,   0,   0,   0,   0,   0,  88],\n",
    "                                       [ 17,  63,  88,   0,   0,   0,   0,  98,   0,   9,  37,   0,  88,   0,   0,  49],\n",
    "                                       [  0,   0,   0,   0,  49,   0,   0,   0,  17,  37,   9,  29,  63,  49,  39,   0],\n",
    "                                       [ 98,   0,   0,   0,  46, 108,  26,   0,   0,   0,   0,   9,   0,  63,   9,   0],\n",
    "                                       [  0,  29,   0,   0,  17,   0,  29,   0,  46,   0,  26,   0,   0,   0,  26,   0],\n",
    "                                       [ 29, 108,   0,  88,   0,  39,   0,   0,   0,   0,  39,   0,   0,  29,   0,   0],\n",
    "                                       [  0,  39,   0,  39,   0,   0,   0,   0,  26,  26,  29,  39,   0,   0,   0,   0],\n",
    "                                       [  0,   0,   0,   0,  29,   0,  98,  29,   0,  39,   0,   0,   0,   0,   0,   0],\n",
    "                                       [ 46,   0,  49,  37,  39,  26,   9,   0,   0, 108,  17,   0,  49,   0,  29,   0],\n",
    "                                       [  0,   9,  54,   9,   0,  54,   0,  37,   0,  17,   0,  49,  17,   0,   0,  39],\n",
    "                                       [  0,  17,   0,   0,  26,   0,   0,  26,  59,   0,   0,  17,   0,   0,   0,   0]])\n"
   ]
  },
  {
   "cell_type": "code",
   "execution_count": 11,
   "id": "58c488b7-c62b-43f4-bdb9-5cc33dcbbc2b",
   "metadata": {},
   "outputs": [
    {
     "data": {
      "text/plain": [
       "(47,\n",
       " [9,\n",
       "  9,\n",
       "  9,\n",
       "  9,\n",
       "  9,\n",
       "  9,\n",
       "  9,\n",
       "  9,\n",
       "  9,\n",
       "  9,\n",
       "  9,\n",
       "  9,\n",
       "  17,\n",
       "  11,\n",
       "  11,\n",
       "  13,\n",
       "  10,\n",
       "  10,\n",
       "  8,\n",
       "  8,\n",
       "  8,\n",
       "  6,\n",
       "  7,\n",
       "  6,\n",
       "  3,\n",
       "  5,\n",
       "  4,\n",
       "  4,\n",
       "  3,\n",
       "  3,\n",
       "  2,\n",
       "  3,\n",
       "  1,\n",
       "  1,\n",
       "  1,\n",
       "  1,\n",
       "  1,\n",
       "  1,\n",
       "  1,\n",
       "  1,\n",
       "  1,\n",
       "  1,\n",
       "  1,\n",
       "  1,\n",
       "  1,\n",
       "  1,\n",
       "  1],\n",
       " array([[ 8, 14,  6, 10,  0,  8, 12,  6, 15, 13,  4,  4,  6,  1,  4,  5],\n",
       "        [ 8, 10,  4, 10,  0,  8, 12,  6, 15, 13,  4,  2,  6,  1,  1,  5],\n",
       "        [ 8, 10,  6, 14,  7,  8, 12,  6,  1, 13,  4,  4,  6,  1,  4,  5],\n",
       "        [ 8, 10,  6, 10,  8,  3, 12,  6,  9, 13,  4,  2,  7,  1,  3,  5],\n",
       "        [ 8, 10,  6, 10,  0,  8, 13,  6, 15, 13,  4, 14,  6,  8,  1,  5],\n",
       "        [ 8, 10, 14, 10,  7,  8, 12,  2,  1, 13,  4,  4,  7,  1,  4,  6],\n",
       "        [ 4,  6,  6,  2, 13,  8,  3,  6,  5,  6,  4,  2,  6,  8,  3,  0],\n",
       "        [13, 10, 13, 10,  8,  8, 12,  1,  9, 13,  7, 14, 13,  1,  7,  5],\n",
       "        [ 8,  6, 14,  2,  0, 14,  0,  6, 15, 13,  4,  8,  7,  7,  1,  6],\n",
       "        [ 4, 10,  6, 11,  7,  8,  3,  1,  1, 12, 10, 11,  2,  8,  4, 14],\n",
       "        [13,  6, 13, 13, 13, 14, 12, 14,  5,  7,  6,  4,  6,  0,  3,  0],\n",
       "        [ 8, 10,  1, 10, 12, 10,  0,  6,  0, 13,  4,  2, 13,  1,  8,  5],\n",
       "        [ 6, 11, 14,  2,  8,  8,  3,  1,  9, 12, 10, 14,  3,  7,  7,  6],\n",
       "        [ 4,  6,  6, 11,  8, 14, 12, 12, 11,  5, 11, 11,  7,  8, 13, 14],\n",
       "        [10, 10, 13, 13, 15, 10,  0, 14,  9,  7,  6,  7,  6,  1,  1,  0],\n",
       "        [13,  9,  1,  5,  0,  4,  9,  6, 15, 12,  4,  4, 13, 10,  9,  3],\n",
       "        [ 0,  6,  2, 10,  0, 13,  8, 15,  1, 13,  9,  2,  7,  8,  4,  5],\n",
       "        [ 8, 10,  6, 11,  7, 14, 12, 12, 15, 11, 11, 11,  6,  1,  3, 14],\n",
       "        [ 4, 11, 13,  1, 13,  8,  0, 12,  5,  5,  6,  7,  3,  7, 13,  0],\n",
       "        [10, 15, 14, 13, 12, 10,  3,  5,  0,  7, 11, 15, 13,  4,  1,  1],\n",
       "        [ 0,  9,  1, 10,  9,  4,  8, 14,  7, 13, 13,  4, 14, 10,  1,  5],\n",
       "        [ 8,  6,  2,  2, 15, 13,  9, 15, 11, 14,  9,  4,  7,  7,  4,  6],\n",
       "        [13, 10,  6, 10, 13, 14, 12,  1,  5, 11,  4, 14,  3,  8,  7,  3],\n",
       "        [ 4, 11,  6,  5,  7,  8,  0,  6,  0, 14, 10,  2,  6,  1,  9,  0],\n",
       "        [ 8,  6, 13,  1, 12, 10,  3, 15,  1,  5,  9,  7, 13,  4,  3,  0],\n",
       "        [10, 15, 14, 11,  9,  8,  9,  5,  1,  7,  6, 11,  7,  7, 13,  1],\n",
       "        [ 0, 15,  2, 13, 12, 13,  3, 14,  7, 11, 13, 15, 14,  1,  3, 14],\n",
       "        [ 0,  9,  1,  2, 15,  4,  8,  1, 11, 13,  4,  2,  3,  8,  4,  6],\n",
       "        [13, 10, 13,  5,  7, 10, 12,  1,  0,  5,  9,  7,  6, 10,  9,  5],\n",
       "        [ 8, 11,  2,  1,  7, 14,  0,  6,  5, 11, 10, 14, 13,  4,  7,  3],\n",
       "        [ 4,  6, 13, 13, 13, 13,  9, 15,  7, 11, 13, 15, 14, 10,  3, 14],\n",
       "        [10, 10,  2,  2, 12, 10,  3, 14, 11, 13,  6,  7,  6,  1, 13,  1],\n",
       "        [13, 11, 14,  2, 15, 14,  8, 15,  1, 14,  9, 11,  7,  7,  9,  5],\n",
       "        [ 4,  6,  1,  5,  9,  4,  3,  5,  0,  5, 10, 14, 13,  8,  3,  6],\n",
       "        [ 8,  9, 14, 11, 13, 13, 12,  6,  1,  7,  6,  2,  3,  4,  4,  3],\n",
       "        [13, 11,  1,  1, 15, 14,  0, 15,  5, 14,  4,  7,  7,  7,  7,  5],\n",
       "        [ 4,  6, 13,  5,  9,  4,  8,  5,  7,  5,  9, 11,  6,  8,  9,  6],\n",
       "        [ 8,  9, 14, 11, 13, 13,  9,  6,  0,  7, 10, 14, 13,  1,  3, 14],\n",
       "        [13, 11,  1, 13, 15, 14, 12, 15,  0, 14, 13, 15, 14, 10,  4,  3],\n",
       "        [ 4,  6, 13,  1,  9,  4,  0,  5,  1,  5,  4,  2,  3,  4,  3,  5],\n",
       "        [ 4,  9, 14,  5, 12, 10,  8,  6,  5,  7,  9, 11,  7,  7,  7,  6],\n",
       "        [ 8,  6,  1, 11, 13, 13,  9, 14,  7, 13, 10, 14, 13,  8,  9, 14],\n",
       "        [ 8, 10, 13, 13, 15, 14, 12, 15, 11, 14, 13, 15, 14, 10, 13,  1],\n",
       "        [10,  9, 14,  1,  9,  4,  0,  5,  1,  5,  4,  2,  3,  4,  4,  3],\n",
       "        [10, 11,  1,  5, 12, 10,  8,  6,  5,  7,  9, 11,  7,  7,  7,  5],\n",
       "        [13, 10, 13, 11, 13, 13,  9, 14,  7, 13, 10, 14, 13,  8,  9,  6],\n",
       "        [13, 11, 14, 13, 15, 14, 12, 15, 11, 14, 13, 15, 14, 10, 13, 14]],\n",
       "       dtype=int64))"
      ]
     },
     "execution_count": 11,
     "metadata": {},
     "output_type": "execute_result"
    }
   ],
   "source": [
    "SER_1(test_PBN_matrix_7_permuted)"
   ]
  },
  {
   "cell_type": "markdown",
   "id": "218bff8e-64e0-4c82-913e-03262246dd56",
   "metadata": {},
   "source": [
    "#### [6] Small Synthetic PBN Matrix"
   ]
  },
  {
   "cell_type": "code",
   "execution_count": 12,
   "id": "1021cd99-2583-4096-9837-103b5d2fa350",
   "metadata": {},
   "outputs": [
    {
     "data": {
      "text/plain": [
       "(7,\n",
       " [1, 2, 2, 2, 1, 1, 1],\n",
       " array([[0, 0, 0, 2],\n",
       "        [2, 2, 0, 2],\n",
       "        [1, 0, 1, 2],\n",
       "        [1, 3, 0, 2],\n",
       "        [2, 3, 3, 2],\n",
       "        [2, 0, 0, 2],\n",
       "        [2, 0, 3, 2]], dtype=int64))"
      ]
     },
     "execution_count": 12,
     "metadata": {},
     "output_type": "execute_result"
    }
   ],
   "source": [
    "test_PBN_matrix_2 = np.array([[1, 5, 6, 0], \n",
    "                              [4, 0, 2, 0], \n",
    "                              [5, 2, 0, 10], \n",
    "                              [0, 3, 2, 0]])\n",
    "SER_1(test_PBN_matrix_2)"
   ]
  },
  {
   "cell_type": "markdown",
   "id": "8eabb1ef-894a-41dc-8a73-0eb591977559",
   "metadata": {},
   "source": [
    "# Testing SER 1 on the three PBN matrices from the MOMP paper."
   ]
  },
  {
   "cell_type": "markdown",
   "id": "c8fb98f5-83db-4d5e-b6a1-2b735ce1c67a",
   "metadata": {},
   "source": [
    "### 1. First PBN matrix $P_1$"
   ]
  },
  {
   "cell_type": "code",
   "execution_count": 13,
   "id": "ec5b3c99-e140-4b0f-b89a-ee4cfacffb9d",
   "metadata": {},
   "outputs": [
    {
     "data": {
      "text/plain": [
       "(7,\n",
       " [1, 1, 2, 1, 1, 2, 2],\n",
       " array([[0, 3, 2, 3],\n",
       "        [3, 0, 2, 0],\n",
       "        [1, 1, 2, 2],\n",
       "        [3, 1, 0, 3],\n",
       "        [3, 3, 0, 3],\n",
       "        [3, 0, 1, 2],\n",
       "        [3, 3, 2, 3]], dtype=int64))"
      ]
     },
     "execution_count": 13,
     "metadata": {},
     "output_type": "execute_result"
    }
   ],
   "source": [
    "MOMP_PBN_P1 = np.array([[1, 3, 2, 1], \n",
    "                        [2, 3, 2, 0], \n",
    "                        [0, 0, 6, 4], \n",
    "                        [7, 4, 0, 5]])\n",
    "SER_1(MOMP_PBN_P1)"
   ]
  },
  {
   "cell_type": "markdown",
   "id": "7291cda2-35df-4312-85b0-f3b42b534d3b",
   "metadata": {},
   "source": [
    "### 2. Second PBN matrix $P_2$"
   ]
  },
  {
   "cell_type": "code",
   "execution_count": 14,
   "id": "329d98af-2eb7-422e-a9b5-39984166242f",
   "metadata": {},
   "outputs": [
    {
     "data": {
      "text/plain": [
       "(9,\n",
       " [1, 1, 1, 1, 2, 1, 1, 1, 1],\n",
       " array([[0, 3, 2, 3, 7, 7, 6, 7],\n",
       "        [3, 0, 2, 0, 7, 4, 6, 6],\n",
       "        [3, 1, 2, 2, 4, 5, 6, 7],\n",
       "        [3, 3, 2, 3, 7, 7, 6, 4],\n",
       "        [1, 0, 0, 2, 7, 4, 4, 6],\n",
       "        [3, 1, 1, 2, 5, 5, 5, 7],\n",
       "        [3, 1, 2, 3, 7, 7, 6, 7],\n",
       "        [3, 3, 1, 3, 5, 5, 5, 6],\n",
       "        [3, 3, 2, 3, 7, 7, 6, 7]], dtype=int64))"
      ]
     },
     "execution_count": 14,
     "metadata": {},
     "output_type": "execute_result"
    }
   ],
   "source": [
    "MOMP_PBN_P2 = np.array([[1, 3, 2, 1, 0, 0, 0, 0], \n",
    "                        [2, 3, 2, 0, 0, 0, 0, 0], \n",
    "                        [0, 0, 6, 4, 0, 0, 0, 0], \n",
    "                        [7, 4, 0, 5, 0, 0, 0, 0],\n",
    "                        [0, 0, 0, 0, 1, 3, 2, 1],\n",
    "                        [0, 0, 0, 0, 2, 3, 2, 0],\n",
    "                        [0, 0, 0, 0, 0, 0, 6, 4],\n",
    "                        [0, 0, 0, 0, 7, 4, 0, 5]])\n",
    "SER_1(MOMP_PBN_P2)"
   ]
  },
  {
   "cell_type": "markdown",
   "id": "b2d62fd7-fc4f-4f84-b2c0-c96d0586c375",
   "metadata": {},
   "source": [
    "### 3. Third PBN matrix $P_3$"
   ]
  },
  {
   "cell_type": "code",
   "execution_count": 15,
   "id": "063c0bc6-4460-4f14-864d-d4391938a6ff",
   "metadata": {},
   "outputs": [
    {
     "data": {
      "text/plain": [
       "(20,\n",
       " [4, 6, 8, 8, 10, 12, 7, 9, 6, 7, 4, 4, 4, 2, 4, 1, 1, 1, 1, 1],\n",
       " array([[0, 1, 2, 1, 6, 0, 2, 7],\n",
       "        [0, 5, 2, 1, 6, 7, 2, 1],\n",
       "        [0, 2, 2, 1, 6, 5, 2, 7],\n",
       "        [0, 1, 4, 1, 2, 3, 2, 7],\n",
       "        [0, 5, 0, 2, 5, 7, 2, 5],\n",
       "        [5, 1, 2, 7, 1, 5, 1, 7],\n",
       "        [0, 1, 4, 1, 6, 7, 2, 5],\n",
       "        [5, 3, 5, 1, 2, 5, 2, 7],\n",
       "        [0, 3, 4, 2, 5, 1, 1, 5],\n",
       "        [1, 4, 5, 7, 6, 1, 1, 5],\n",
       "        [0, 5, 5, 2, 5, 4, 2, 7],\n",
       "        [0, 5, 2, 1, 2, 7, 2, 7],\n",
       "        [5, 4, 4, 1, 6, 4, 1, 5],\n",
       "        [1, 5, 2, 7, 6, 7, 2, 7],\n",
       "        [5, 5, 4, 2, 5, 4, 2, 5],\n",
       "        [1, 5, 2, 7, 2, 7, 1, 7],\n",
       "        [1, 4, 4, 7, 2, 7, 1, 7],\n",
       "        [1, 4, 2, 2, 2, 7, 1, 7],\n",
       "        [1, 4, 2, 7, 2, 4, 1, 5],\n",
       "        [1, 4, 2, 7, 5, 7, 2, 7]], dtype=int64))"
      ]
     },
     "execution_count": 15,
     "metadata": {},
     "output_type": "execute_result"
    }
   ],
   "source": [
    "MOMP_PBN_P3 = np.array([[57,  0, 10,  0,  0,  4,  0,  0], \n",
    "                        [14, 31,  0, 50, 12, 13, 33,  6], \n",
    "                        [ 0,  8, 40, 25, 25,  0, 67,  0], \n",
    "                        [ 0, 15,  0,  0,  0,  8,  0,  0],\n",
    "                        [ 0, 15, 30,  0,  0, 13,  0,  0],\n",
    "                        [29, 31, 20,  0, 25, 29,  0, 39],\n",
    "                        [ 0,  0,  0,  0, 38,  0,  0,  0],\n",
    "                        [ 0,  0,  0, 25,  0, 33,  0, 55]])\n",
    "SER_1(MOMP_PBN_P3)"
   ]
  },
  {
   "cell_type": "markdown",
   "id": "70451778-8683-4971-bde5-485ccb870835",
   "metadata": {},
   "source": [
    "# Testing SER 1 on the PBN matrices from the projection-based gradient descent method (PBGDM) paper."
   ]
  },
  {
   "cell_type": "markdown",
   "id": "a63768b2-d00f-4371-b538-2fd6aff326df",
   "metadata": {},
   "source": [
    "### 1. First PBN matrix $P_1$"
   ]
  },
  {
   "cell_type": "code",
   "execution_count": 16,
   "id": "e2f6128b-4912-4b2a-959c-2091ce9b0466",
   "metadata": {},
   "outputs": [
    {
     "data": {
      "text/plain": [
       "(5,\n",
       " [1, 3, 2, 2, 2],\n",
       " array([[0, 1, 0, 0],\n",
       "        [3, 0, 2, 0],\n",
       "        [3, 1, 2, 3],\n",
       "        [3, 1, 0, 0],\n",
       "        [3, 1, 0, 3]], dtype=int64))"
      ]
     },
     "execution_count": 16,
     "metadata": {},
     "output_type": "execute_result"
    }
   ],
   "source": [
    "PBGDM_PBN_P1 = np.array([[1, 3, 5, 6], \n",
    "                         [0, 7, 0, 0], \n",
    "                         [0, 0, 5, 0], \n",
    "                         [9, 0, 0, 4]])\n",
    "SER_1(PBGDM_PBN_P1)"
   ]
  },
  {
   "cell_type": "markdown",
   "id": "ffc23005-24e2-4ee2-9c41-56bf33690fe3",
   "metadata": {},
   "source": [
    "### 2. Second PBN matrix $P_3$"
   ]
  },
  {
   "cell_type": "code",
   "execution_count": 17,
   "id": "f2b88f0d-3932-4326-b6de-1e0cac11d9f6",
   "metadata": {},
   "outputs": [
    {
     "data": {
      "text/plain": [
       "(4,\n",
       " [2, 2, 3, 3],\n",
       " array([[0, 6, 6, 0, 2, 6, 4, 7],\n",
       "        [0, 6, 6, 1, 2, 7, 5, 7],\n",
       "        [0, 6, 6, 4, 2, 6, 4, 7],\n",
       "        [0, 6, 6, 5, 2, 7, 5, 7]], dtype=int64))"
      ]
     },
     "execution_count": 17,
     "metadata": {},
     "output_type": "execute_result"
    }
   ],
   "source": [
    "PBGDM_PBN_P3 = np.array([[10,  0,  0, 2,  0, 0, 0,  0], \n",
    "                         [ 0,  0,  0, 2,  0, 0, 0,  0], \n",
    "                         [ 0,  0,  0, 0, 10, 0, 0,  0], \n",
    "                         [ 0,  0,  0, 0,  0, 0, 0,  0],\n",
    "                         [ 0,  0,  0, 3,  0, 0, 5,  0],\n",
    "                         [ 0,  0,  0, 3,  0, 0, 5,  0],\n",
    "                         [ 0, 10, 10, 0,  0, 5, 0,  0],\n",
    "                         [ 0,  0,  0, 0,  0, 5, 0, 10]])\n",
    "SER_1(PBGDM_PBN_P3)"
   ]
  },
  {
   "cell_type": "markdown",
   "id": "1c438627-e71b-4f00-831b-72a4208b1eb7",
   "metadata": {},
   "source": [
    "### 3. Third PBN matrix $P_4(d)$, where $d = 0.01, 0.02, 0.03, 0.04$."
   ]
  },
  {
   "cell_type": "code",
   "execution_count": 18,
   "id": "aa464058-2096-40e2-86da-0d4d5f00dbf2",
   "metadata": {},
   "outputs": [
    {
     "data": {
      "text/plain": [
       "(11,\n",
       " [1, 1, 1, 1, 1, 20, 20, 27, 1, 1, 26],\n",
       " array([[3, 6, 6, 4, 2, 6, 4, 7],\n",
       "        [0, 3, 6, 5, 2, 7, 5, 7],\n",
       "        [0, 6, 3, 4, 2, 6, 4, 7],\n",
       "        [0, 6, 6, 5, 3, 7, 5, 7],\n",
       "        [0, 6, 6, 4, 2, 6, 4, 3],\n",
       "        [0, 6, 6, 0, 2, 7, 5, 7],\n",
       "        [0, 6, 6, 1, 2, 6, 4, 7],\n",
       "        [0, 6, 6, 4, 2, 7, 5, 7],\n",
       "        [0, 6, 6, 5, 2, 7, 4, 7],\n",
       "        [0, 6, 6, 5, 2, 6, 5, 7],\n",
       "        [0, 6, 6, 5, 2, 6, 4, 7]], dtype=int64))"
      ]
     },
     "execution_count": 18,
     "metadata": {},
     "output_type": "execute_result"
    }
   ],
   "source": [
    "d = 1\n",
    "PBGDM_PBN_P4_d1 = np.array([[100 - d,       0,       0, 20,       0,  0,  0,       0], \n",
    "                            [      0,       0,       0, 20,       0,  0,  0,       0], \n",
    "                            [      0,       0,       0,  0, 100 - d,  0,  0,       0], \n",
    "                            [      d,       d,       d,  0,       d,  0,  0,       d],\n",
    "                            [      0,       0,       0, 30,       0,  0, 50,       0],\n",
    "                            [      0,       0,       0, 30,       0,  0, 50,       0],\n",
    "                            [      0, 100 - d, 100 - d,  0,       0, 50,  0,       0],\n",
    "                            [      0,       0,       0,  0,       0, 50,  0, 100 - d]])\n",
    "SER_1(PBGDM_PBN_P4_d1)"
   ]
  },
  {
   "cell_type": "code",
   "execution_count": 19,
   "id": "5b65a504-34d1-4fbc-9d3a-6619de2f512e",
   "metadata": {},
   "outputs": [
    {
     "data": {
      "text/plain": [
       "(11,\n",
       " [1, 1, 1, 1, 1, 10, 10, 12, 1, 1, 11],\n",
       " array([[3, 6, 6, 4, 2, 6, 4, 7],\n",
       "        [0, 3, 6, 5, 2, 7, 5, 7],\n",
       "        [0, 6, 3, 4, 2, 6, 4, 7],\n",
       "        [0, 6, 6, 5, 3, 7, 5, 7],\n",
       "        [0, 6, 6, 4, 2, 6, 4, 3],\n",
       "        [0, 6, 6, 0, 2, 7, 5, 7],\n",
       "        [0, 6, 6, 1, 2, 6, 4, 7],\n",
       "        [0, 6, 6, 4, 2, 7, 5, 7],\n",
       "        [0, 6, 6, 5, 2, 7, 4, 7],\n",
       "        [0, 6, 6, 5, 2, 6, 5, 7],\n",
       "        [0, 6, 6, 5, 2, 6, 4, 7]], dtype=int64))"
      ]
     },
     "execution_count": 19,
     "metadata": {},
     "output_type": "execute_result"
    }
   ],
   "source": [
    "d = 1\n",
    "PBGDM_PBN_P4_d2 = np.array([[50 - d,      0,      0, 10,      0,  0,  0,      0], \n",
    "                            [     0,      0,      0, 10,      0,  0,  0,      0], \n",
    "                            [     0,      0,      0,  0, 50 - d,  0,  0,      0], \n",
    "                            [     d,      d,      d,  0,      d,  0,  0,      d],\n",
    "                            [     0,      0,      0, 15,      0,  0, 25,      0],\n",
    "                            [     0,      0,      0, 15,      0,  0, 25,      0],\n",
    "                            [     0, 50 - d, 50 - d,  0,      0, 25,  0,      0],\n",
    "                            [     0,      0,      0,  0,      0, 25,  0, 50 - d]])\n",
    "SER_1(PBGDM_PBN_P4_d2)"
   ]
  },
  {
   "cell_type": "code",
   "execution_count": 20,
   "id": "c547054c-b2ef-4db1-8c93-8fc34827fe58",
   "metadata": {},
   "outputs": [
    {
     "data": {
      "text/plain": [
       "(11,\n",
       " [3, 3, 3, 3, 3, 20, 20, 21, 3, 3, 18],\n",
       " array([[3, 6, 6, 4, 2, 6, 4, 7],\n",
       "        [0, 3, 6, 5, 2, 7, 5, 7],\n",
       "        [0, 6, 3, 4, 2, 6, 4, 7],\n",
       "        [0, 6, 6, 5, 3, 7, 5, 7],\n",
       "        [0, 6, 6, 4, 2, 6, 4, 3],\n",
       "        [0, 6, 6, 0, 2, 7, 5, 7],\n",
       "        [0, 6, 6, 1, 2, 6, 4, 7],\n",
       "        [0, 6, 6, 4, 2, 7, 5, 7],\n",
       "        [0, 6, 6, 5, 2, 7, 4, 7],\n",
       "        [0, 6, 6, 5, 2, 6, 5, 7],\n",
       "        [0, 6, 6, 5, 2, 6, 4, 7]], dtype=int64))"
      ]
     },
     "execution_count": 20,
     "metadata": {},
     "output_type": "execute_result"
    }
   ],
   "source": [
    "d = 3\n",
    "PBGDM_PBN_P4_d3 = np.array([[100 - d,       0,       0, 20,       0,  0,  0,       0], \n",
    "                            [      0,       0,       0, 20,       0,  0,  0,       0], \n",
    "                            [      0,       0,       0,  0, 100 - d,  0,  0,       0], \n",
    "                            [      d,       d,       d,  0,       d,  0,  0,       d],\n",
    "                            [      0,       0,       0, 30,       0,  0, 50,       0],\n",
    "                            [      0,       0,       0, 30,       0,  0, 50,       0],\n",
    "                            [      0, 100 - d, 100 - d,  0,       0, 50,  0,       0],\n",
    "                            [      0,       0,       0,  0,       0, 50,  0, 100 - d]])\n",
    "SER_1(PBGDM_PBN_P4_d3)"
   ]
  },
  {
   "cell_type": "code",
   "execution_count": 21,
   "id": "6d993956-04ee-4701-af50-8c164e2260bc",
   "metadata": {},
   "outputs": [
    {
     "data": {
      "text/plain": [
       "(11,\n",
       " [2, 2, 2, 2, 2, 9, 10, 9, 2, 3, 7],\n",
       " array([[3, 6, 6, 4, 2, 6, 4, 7],\n",
       "        [0, 3, 6, 5, 2, 7, 5, 7],\n",
       "        [0, 6, 3, 4, 2, 6, 4, 7],\n",
       "        [0, 6, 6, 5, 3, 7, 5, 7],\n",
       "        [0, 6, 6, 4, 2, 6, 4, 3],\n",
       "        [0, 6, 6, 4, 2, 7, 5, 7],\n",
       "        [0, 6, 6, 0, 2, 6, 4, 7],\n",
       "        [0, 6, 6, 5, 2, 6, 5, 7],\n",
       "        [0, 6, 6, 5, 2, 7, 4, 7],\n",
       "        [0, 6, 6, 1, 2, 7, 5, 7],\n",
       "        [0, 6, 6, 1, 2, 7, 4, 7]], dtype=int64))"
      ]
     },
     "execution_count": 21,
     "metadata": {},
     "output_type": "execute_result"
    }
   ],
   "source": [
    "d = 2\n",
    "PBGDM_PBN_P4_d4 = np.array([[50 - d,      0,      0, 10,      0,  0,  0,      0], \n",
    "                            [     0,      0,      0, 10,      0,  0,  0,      0], \n",
    "                            [     0,      0,      0,  0, 50 - d,  0,  0,      0], \n",
    "                            [     d,      d,      d,  0,      d,  0,  0,      d],\n",
    "                            [     0,      0,      0, 15,      0,  0, 25,      0],\n",
    "                            [     0,      0,      0, 15,      0,  0, 25,      0],\n",
    "                            [     0, 50 - d, 50 - d,  0,      0, 25,  0,      0],\n",
    "                            [     0,      0,      0,  0,      0, 25,  0, 50 - d]])\n",
    "SER_1(PBGDM_PBN_P4_d4)"
   ]
  },
  {
   "cell_type": "markdown",
   "id": "2d43d758-6925-49bd-a6cc-372e637690a5",
   "metadata": {},
   "source": [
    "### 4. Fourth PBN matrix $P_6(d)$, where $d = 0.01, 0.02, 0.03, 0.04$."
   ]
  },
  {
   "cell_type": "code",
   "execution_count": 22,
   "id": "f6368b44-5ca7-4b23-9272-a5c65389ac7c",
   "metadata": {},
   "outputs": [
    {
     "data": {
      "text/plain": [
       "(16,\n",
       " [1, 1, 1, 1, 1, 1, 1, 1, 1, 1, 20, 5, 20, 5, 20, 20],\n",
       " array([[ 3,  6,  6,  4,  2,  6,  4,  7,  8, 14, 14, 12, 10, 14, 12, 15],\n",
       "        [ 0,  3,  6,  5,  2,  7,  5,  7,  8, 14, 14, 13, 10, 15, 13, 15],\n",
       "        [ 0,  6,  3,  4,  2,  6,  4,  7,  8, 14, 14, 12, 10, 14, 12, 15],\n",
       "        [ 0,  6,  6,  5,  3,  7,  5,  7,  8, 14, 14, 13, 10, 15, 13, 15],\n",
       "        [ 0,  6,  6,  4,  2,  6,  4,  3,  8, 14, 14, 12, 10, 14, 12, 15],\n",
       "        [ 0,  6,  6,  5,  2,  7,  5,  7, 11, 14, 14, 13, 10, 15, 13, 15],\n",
       "        [ 0,  6,  6,  4,  2,  6,  4,  7,  8, 11, 14, 12, 10, 14, 12, 15],\n",
       "        [ 0,  6,  6,  5,  2,  7,  5,  7,  8, 14, 11, 13, 10, 15, 13, 15],\n",
       "        [ 0,  6,  6,  4,  2,  6,  4,  7,  8, 14, 14, 12, 11, 14, 12, 15],\n",
       "        [ 0,  6,  6,  5,  2,  7,  5,  7,  8, 14, 14, 13, 10, 15, 13, 11],\n",
       "        [ 0,  6,  6,  0,  2,  6,  4,  7,  8, 14, 14, 12, 10, 14, 12, 15],\n",
       "        [ 0,  6,  6,  4,  2,  7,  5,  7,  8, 14, 14, 12, 10, 15, 13, 15],\n",
       "        [ 0,  6,  6,  1,  2,  7,  5,  7,  8, 14, 14, 13, 10, 15, 13, 15],\n",
       "        [ 0,  6,  6,  5,  2,  6,  4,  7,  8, 14, 14, 13, 10, 14, 12, 15],\n",
       "        [ 0,  6,  6,  4,  2,  6,  4,  7,  8, 14, 14,  8, 10, 14, 12, 15],\n",
       "        [ 0,  6,  6,  5,  2,  7,  5,  7,  8, 14, 14,  9, 10, 15, 13, 15]],\n",
       "       dtype=int64))"
      ]
     },
     "execution_count": 22,
     "metadata": {},
     "output_type": "execute_result"
    }
   ],
   "source": [
    "PBGDM_PBN_P6_d1 = np.zeros((16, 16), dtype=int)\n",
    "PBGDM_PBN_P6_d1[0:8, 0:8] = PBGDM_PBN_P4_d1\n",
    "PBGDM_PBN_P6_d1[8:16, 8:16] = PBGDM_PBN_P4_d1\n",
    "\n",
    "SER_1(PBGDM_PBN_P6_d1)"
   ]
  },
  {
   "cell_type": "code",
   "execution_count": 23,
   "id": "2a7ab4b3-795a-4497-b542-331e2743944e",
   "metadata": {},
   "outputs": [
    {
     "data": {
      "text/plain": [
       "(14,\n",
       " [1, 1, 1, 1, 1, 1, 1, 1, 1, 1, 10, 10, 10, 10],\n",
       " array([[ 3,  6,  6,  4,  2,  6,  4,  7,  8, 14, 14, 12, 10, 14, 12, 15],\n",
       "        [ 0,  3,  6,  5,  2,  7,  5,  7,  8, 14, 14, 13, 10, 15, 13, 15],\n",
       "        [ 0,  6,  3,  4,  2,  6,  4,  7,  8, 14, 14, 12, 10, 14, 12, 15],\n",
       "        [ 0,  6,  6,  5,  3,  7,  5,  7,  8, 14, 14, 13, 10, 15, 13, 15],\n",
       "        [ 0,  6,  6,  4,  2,  6,  4,  3,  8, 14, 14, 12, 10, 14, 12, 15],\n",
       "        [ 0,  6,  6,  5,  2,  7,  5,  7, 11, 14, 14, 13, 10, 15, 13, 15],\n",
       "        [ 0,  6,  6,  4,  2,  6,  4,  7,  8, 11, 14, 12, 10, 14, 12, 15],\n",
       "        [ 0,  6,  6,  5,  2,  7,  5,  7,  8, 14, 11, 13, 10, 15, 13, 15],\n",
       "        [ 0,  6,  6,  4,  2,  6,  4,  7,  8, 14, 14, 12, 11, 14, 12, 15],\n",
       "        [ 0,  6,  6,  5,  2,  7,  5,  7,  8, 14, 14, 13, 10, 15, 13, 11],\n",
       "        [ 0,  6,  6,  0,  2,  6,  4,  7,  8, 14, 14,  8, 10, 14, 12, 15],\n",
       "        [ 0,  6,  6,  1,  2,  7,  5,  7,  8, 14, 14,  9, 10, 15, 13, 15],\n",
       "        [ 0,  6,  6,  4,  2,  6,  4,  7,  8, 14, 14, 12, 10, 14, 12, 15],\n",
       "        [ 0,  6,  6,  5,  2,  7,  5,  7,  8, 14, 14, 13, 10, 15, 13, 15]],\n",
       "       dtype=int64))"
      ]
     },
     "execution_count": 23,
     "metadata": {},
     "output_type": "execute_result"
    }
   ],
   "source": [
    "PBGDM_PBN_P6_d2 = np.zeros((16, 16), dtype=int)\n",
    "PBGDM_PBN_P6_d2[0:8, 0:8] = PBGDM_PBN_P4_d2\n",
    "PBGDM_PBN_P6_d2[8:16, 8:16] = PBGDM_PBN_P4_d2\n",
    "\n",
    "SER_1(PBGDM_PBN_P6_d2)"
   ]
  },
  {
   "cell_type": "code",
   "execution_count": 24,
   "id": "5c2203aa-d3a9-43fd-a016-0f6cd3bc4009",
   "metadata": {},
   "outputs": [
    {
     "data": {
      "text/plain": [
       "(16,\n",
       " [3, 3, 3, 3, 3, 3, 3, 3, 3, 3, 17, 1, 17, 1, 17, 17],\n",
       " array([[ 3,  6,  6,  4,  2,  6,  4,  7,  8, 14, 14, 12, 10, 14, 12, 15],\n",
       "        [ 0,  3,  6,  5,  2,  7,  5,  7,  8, 14, 14, 13, 10, 15, 13, 15],\n",
       "        [ 0,  6,  3,  4,  2,  6,  4,  7,  8, 14, 14, 12, 10, 14, 12, 15],\n",
       "        [ 0,  6,  6,  5,  3,  7,  5,  7,  8, 14, 14, 13, 10, 15, 13, 15],\n",
       "        [ 0,  6,  6,  4,  2,  6,  4,  3,  8, 14, 14, 12, 10, 14, 12, 15],\n",
       "        [ 0,  6,  6,  5,  2,  7,  5,  7, 11, 14, 14, 13, 10, 15, 13, 15],\n",
       "        [ 0,  6,  6,  4,  2,  6,  4,  7,  8, 11, 14, 12, 10, 14, 12, 15],\n",
       "        [ 0,  6,  6,  5,  2,  7,  5,  7,  8, 14, 11, 13, 10, 15, 13, 15],\n",
       "        [ 0,  6,  6,  0,  2,  6,  4,  7,  8, 14, 14,  8, 11, 14, 12, 15],\n",
       "        [ 0,  6,  6,  1,  2,  7,  5,  7,  8, 14, 14,  9, 10, 15, 13, 11],\n",
       "        [ 0,  6,  6,  0,  2,  6,  4,  7,  8, 14, 14, 12, 10, 14, 12, 15],\n",
       "        [ 0,  6,  6,  4,  2,  7,  5,  7,  8, 14, 14, 12, 10, 15, 13, 15],\n",
       "        [ 0,  6,  6,  1,  2,  7,  5,  7,  8, 14, 14, 13, 10, 15, 13, 15],\n",
       "        [ 0,  6,  6,  5,  2,  6,  4,  7,  8, 14, 14, 13, 10, 14, 12, 15],\n",
       "        [ 0,  6,  6,  4,  2,  6,  4,  7,  8, 14, 14,  8, 10, 14, 12, 15],\n",
       "        [ 0,  6,  6,  5,  2,  7,  5,  7,  8, 14, 14,  9, 10, 15, 13, 15]],\n",
       "       dtype=int64))"
      ]
     },
     "execution_count": 24,
     "metadata": {},
     "output_type": "execute_result"
    }
   ],
   "source": [
    "PBGDM_PBN_P6_d3 = np.zeros((16, 16), dtype=int)\n",
    "PBGDM_PBN_P6_d3[0:8, 0:8] = PBGDM_PBN_P4_d3\n",
    "PBGDM_PBN_P6_d3[8:16, 8:16] = PBGDM_PBN_P4_d3\n",
    "\n",
    "SER_1(PBGDM_PBN_P6_d3)"
   ]
  },
  {
   "cell_type": "code",
   "execution_count": 25,
   "id": "eaa70ea9-7f3d-4255-84b0-759f33f00ed7",
   "metadata": {},
   "outputs": [
    {
     "data": {
      "text/plain": [
       "(16,\n",
       " [2, 2, 2, 2, 2, 2, 2, 2, 2, 2, 7, 1, 7, 1, 7, 7],\n",
       " array([[ 3,  6,  6,  4,  2,  6,  4,  7,  8, 14, 14, 12, 10, 14, 12, 15],\n",
       "        [ 0,  3,  6,  5,  2,  7,  5,  7,  8, 14, 14, 13, 10, 15, 13, 15],\n",
       "        [ 0,  6,  3,  4,  2,  6,  4,  7,  8, 14, 14, 12, 10, 14, 12, 15],\n",
       "        [ 0,  6,  6,  5,  3,  7,  5,  7,  8, 14, 14, 13, 10, 15, 13, 15],\n",
       "        [ 0,  6,  6,  4,  2,  6,  4,  3,  8, 14, 14, 12, 10, 14, 12, 15],\n",
       "        [ 0,  6,  6,  5,  2,  7,  5,  7, 11, 14, 14, 13, 10, 15, 13, 15],\n",
       "        [ 0,  6,  6,  0,  2,  6,  4,  7,  8, 11, 14,  8, 10, 14, 12, 15],\n",
       "        [ 0,  6,  6,  1,  2,  7,  5,  7,  8, 14, 11,  9, 10, 15, 13, 15],\n",
       "        [ 0,  6,  6,  4,  2,  6,  4,  7,  8, 14, 14, 12, 11, 14, 12, 15],\n",
       "        [ 0,  6,  6,  5,  2,  7,  5,  7,  8, 14, 14, 13, 10, 15, 13, 11],\n",
       "        [ 0,  6,  6,  4,  2,  6,  4,  7,  8, 14, 14,  8, 10, 14, 12, 15],\n",
       "        [ 0,  6,  6,  0,  2,  7,  5,  7,  8, 14, 14,  8, 10, 15, 13, 15],\n",
       "        [ 0,  6,  6,  0,  2,  7,  5,  7,  8, 14, 14,  9, 10, 15, 13, 15],\n",
       "        [ 0,  6,  6,  1,  2,  6,  4,  7,  8, 14, 14,  9, 10, 14, 12, 15],\n",
       "        [ 0,  6,  6,  1,  2,  6,  4,  7,  8, 14, 14, 12, 10, 14, 12, 15],\n",
       "        [ 0,  6,  6,  5,  2,  7,  5,  7,  8, 14, 14, 13, 10, 15, 13, 15]],\n",
       "       dtype=int64))"
      ]
     },
     "execution_count": 25,
     "metadata": {},
     "output_type": "execute_result"
    }
   ],
   "source": [
    "PBGDM_PBN_P6_d4 = np.zeros((16, 16), dtype=int)\n",
    "PBGDM_PBN_P6_d4[0:8, 0:8] = PBGDM_PBN_P4_d4\n",
    "PBGDM_PBN_P6_d4[8:16, 8:16] = PBGDM_PBN_P4_d4\n",
    "\n",
    "SER_1(PBGDM_PBN_P6_d4)"
   ]
  }
 ],
 "metadata": {
  "kernelspec": {
   "display_name": "Python 3 (ipykernel)",
   "language": "python",
   "name": "python3"
  },
  "language_info": {
   "codemirror_mode": {
    "name": "ipython",
    "version": 3
   },
   "file_extension": ".py",
   "mimetype": "text/x-python",
   "name": "python",
   "nbconvert_exporter": "python",
   "pygments_lexer": "ipython3",
   "version": "3.9.12"
  }
 },
 "nbformat": 4,
 "nbformat_minor": 5
}
