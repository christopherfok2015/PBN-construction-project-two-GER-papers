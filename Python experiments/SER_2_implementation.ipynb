{
 "cells": [
  {
   "cell_type": "markdown",
   "id": "4769f089-085e-49ec-ab9c-4f2d6306a2e7",
   "metadata": {},
   "source": [
    "# Simple Entry Removal Algorithm 2 (SER 2)"
   ]
  },
  {
   "cell_type": "code",
   "execution_count": 1,
   "id": "9a38818b-da7c-4f4f-a2a7-c8c40d96669d",
   "metadata": {},
   "outputs": [],
   "source": [
    "import numpy as np"
   ]
  },
  {
   "cell_type": "code",
   "execution_count": 2,
   "id": "2fd61a4c-01fb-487b-9506-44c8976a5298",
   "metadata": {},
   "outputs": [],
   "source": [
    "# This function is used in the SER 2 function.\n",
    "# residue_matrix_R is a np.ndarray.\n",
    "# chosen_entry_pos_each_col is a 1-by-PBN_col_sum np.ndarray.\n",
    "# PBN_col_num is the number of columns present in residue_matrix_R\n",
    "\n",
    "def choose_coefficient(residue_matrix_R, chosen_entry_pos_each_col, PBN_col_num):\n",
    "    col_counter = 0\n",
    "    chosen_entry_xi = residue_matrix_R[chosen_entry_pos_each_col[0, col_counter], col_counter]\n",
    "    \n",
    "    for col_counter in range(PBN_col_num):\n",
    "        current_entry = residue_matrix_R[chosen_entry_pos_each_col[0, col_counter], col_counter]\n",
    "        if current_entry < chosen_entry_xi:\n",
    "            chosen_entry_xi = current_entry\n",
    "    \n",
    "    return chosen_entry_xi"
   ]
  },
  {
   "cell_type": "markdown",
   "id": "a587944a-39ee-4a9f-bdb0-891235c17893",
   "metadata": {},
   "source": [
    "### Testing the function choose_coefficient"
   ]
  },
  {
   "cell_type": "code",
   "execution_count": 4,
   "id": "de67caa0-226d-46fe-9c99-d63003c7c7ce",
   "metadata": {},
   "outputs": [
    {
     "data": {
      "text/plain": [
       "0.8"
      ]
     },
     "execution_count": 4,
     "metadata": {},
     "output_type": "execute_result"
    }
   ],
   "source": [
    "test1 = np.array([[0.2, 0.9], \n",
    "                  [0.8, 0.1]])\n",
    "choose_coefficient(test1, np.argmax(test1, axis=0, keepdims=True), 2)"
   ]
  },
  {
   "cell_type": "code",
   "execution_count": 5,
   "id": "5d638540-a2b8-455b-95a7-b4da08f918a9",
   "metadata": {},
   "outputs": [
    {
     "data": {
      "text/plain": [
       "45"
      ]
     },
     "execution_count": 5,
     "metadata": {},
     "output_type": "execute_result"
    }
   ],
   "source": [
    "test2 = np.array([[12, 45, 75,  3], \n",
    "                  [45,  4,  3, 61], \n",
    "                  [ 5,  5,  5, 67]])\n",
    "choose_coefficient(test2, np.argmax(test2, axis=0, keepdims=True), 4)"
   ]
  },
  {
   "cell_type": "code",
   "execution_count": 6,
   "id": "a431175c-4be2-4c30-ad67-c90af0a21adc",
   "metadata": {},
   "outputs": [
    {
     "data": {
      "text/plain": [
       "5"
      ]
     },
     "execution_count": 6,
     "metadata": {},
     "output_type": "execute_result"
    }
   ],
   "source": [
    "test3 = np.array([[1, 5, 6,  0], \n",
    "                  [4, 0, 2,  0], \n",
    "                  [5, 2, 0, 10], \n",
    "                  [0, 3, 2,  0]])\n",
    "choose_coefficient(test3, np.argmax(test3, axis=0, keepdims=True), 4)"
   ]
  },
  {
   "cell_type": "markdown",
   "id": "0f829162-00f3-48a3-b1b3-3f8b58f1b8bc",
   "metadata": {},
   "source": [
    "### The SER 2 function"
   ]
  },
  {
   "cell_type": "code",
   "execution_count": 3,
   "id": "2e79c6c1-2483-4b09-9c49-201e697c1c2f",
   "metadata": {},
   "outputs": [],
   "source": [
    "def SER_2(PBN_matrix_P):  # input: 2^n-by-2^n ndarray consisting of integers.\n",
    "    PBN_row_num = PBN_matrix_P.shape[0]\n",
    "    PBN_col_num = PBN_matrix_P.shape[1]\n",
    "    coefficient_list_xi = []  # the coefficients of BN matrices to be output\n",
    "    # the BN matrices to be output\n",
    "    BN_matrices_list_Ai = np.array([[-1] * PBN_col_num])  # the first row of BN_matrices_list_Ai will be\n",
    "                                                          # replaced in the first iteration of pseudocode\n",
    "                                                          # steps 1 to 4.\n",
    "                                                          \n",
    "    residue_matrix_R = PBN_matrix_P.copy()\n",
    "    k = 1  # counts the number of iterations of pseudocode Steps 1 to 4\n",
    "\n",
    "    chosen_entry_pos_each_col = np.argmax(residue_matrix_R, axis=0, keepdims=True)\n",
    "    chosen_entry_xi = choose_coefficient(residue_matrix_R, chosen_entry_pos_each_col, PBN_col_num)\n",
    "    \n",
    "    coefficient_list_xi.append(chosen_entry_xi)\n",
    "    BN_matrices_list_Ai = chosen_entry_pos_each_col\n",
    "    \n",
    "    for col_counter in range(PBN_col_num):\n",
    "        row_to_deduct = chosen_entry_pos_each_col[0, col_counter]\n",
    "        residue_matrix_R[row_to_deduct, col_counter] -= chosen_entry_xi\n",
    "    \n",
    "    zero_PBN_matrix = np.zeros((PBN_row_num, PBN_col_num), dtype=int)\n",
    "    \n",
    "    while (not np.array_equal(residue_matrix_R, zero_PBN_matrix)):\n",
    "        k += 1\n",
    "        chosen_entry_pos_each_col = np.argmax(residue_matrix_R, axis=0, keepdims=True)\n",
    "        chosen_entry_xi = choose_coefficient(residue_matrix_R, chosen_entry_pos_each_col, PBN_col_num)\n",
    "    \n",
    "        coefficient_list_xi.append(chosen_entry_xi)\n",
    "        BN_matrices_list_Ai = np.append(BN_matrices_list_Ai, chosen_entry_pos_each_col, axis=0)\n",
    "        \n",
    "        for col_counter in range(PBN_col_num):\n",
    "            row_to_deduct = chosen_entry_pos_each_col[0, col_counter]\n",
    "            residue_matrix_R[row_to_deduct, col_counter] -= chosen_entry_xi\n",
    "    \n",
    "    return k, coefficient_list_xi, BN_matrices_list_Ai"
   ]
  },
  {
   "cell_type": "markdown",
   "id": "70310dd5-f448-4ffc-8815-47c9654afab8",
   "metadata": {},
   "source": [
    "### (2022-12-17) First time testing if the SER 2 implementation is bug-free"
   ]
  },
  {
   "cell_type": "markdown",
   "id": "db7bae93-09cd-4bc3-a49e-942b30bf2b77",
   "metadata": {},
   "source": [
    "#### Test 1\n",
    "Result: function output matches with the correct output."
   ]
  },
  {
   "cell_type": "code",
   "execution_count": 14,
   "id": "0f26c720-db17-46fd-8b5e-468c69ecfff2",
   "metadata": {},
   "outputs": [
    {
     "data": {
      "text/plain": [
       "(3,\n",
       " [7, 2, 1],\n",
       " array([[1, 0],\n",
       "        [0, 1],\n",
       "        [1, 1]], dtype=int64))"
      ]
     },
     "execution_count": 14,
     "metadata": {},
     "output_type": "execute_result"
    }
   ],
   "source": [
    "test_PBN_matrix_1 = np.array([[2, 7], \n",
    "                              [8, 3]])\n",
    "\n",
    "SER_2(test_PBN_matrix_1)"
   ]
  },
  {
   "cell_type": "markdown",
   "id": "07130dd2-c4d4-4590-b437-dada89167fb9",
   "metadata": {},
   "source": [
    "#### Test 2 (Small Example PBN Matrix Mentioned in the GER paper Section 2.2)\n",
    "Result: function output matches with the correct output."
   ]
  },
  {
   "cell_type": "code",
   "execution_count": 10,
   "id": "9eb57523-568c-40d4-bbbe-5a6ce9faf6cb",
   "metadata": {},
   "outputs": [
    {
     "data": {
      "text/plain": [
       "(4,\n",
       " [5, 2, 2, 1],\n",
       " array([[2, 0, 0, 2],\n",
       "        [1, 3, 1, 2],\n",
       "        [1, 2, 3, 2],\n",
       "        [0, 3, 0, 2]], dtype=int64))"
      ]
     },
     "execution_count": 10,
     "metadata": {},
     "output_type": "execute_result"
    }
   ],
   "source": [
    "test_PBN_matrix_2 = np.array([[1, 5, 6, 0], \n",
    "                              [4, 0, 2, 0], \n",
    "                              [5, 2, 0, 10], \n",
    "                              [0, 3, 2, 0]])\n",
    "SER_2(test_PBN_matrix_2)"
   ]
  },
  {
   "cell_type": "markdown",
   "id": "6dcfc5cc-feb5-4bb3-989b-b741aec22192",
   "metadata": {},
   "source": [
    "### Outputs of SER 2 on different small PBN matrices"
   ]
  },
  {
   "cell_type": "markdown",
   "id": "751d3456-d496-4fbb-a44e-c6c681ec0be2",
   "metadata": {},
   "source": [
    "#### The following function is used to permute the entries in each column of the three PBN matrices used to break SER 2."
   ]
  },
  {
   "cell_type": "code",
   "execution_count": 6,
   "id": "e54a848d-1552-4ed3-9056-8d7c9ce21ee0",
   "metadata": {},
   "outputs": [],
   "source": [
    "def permute_entries_in_each_col(input_PBN_matrix):\n",
    "    num_of_rows, num_of_cols = input_PBN_matrix.shape\n",
    "    permuted_PBN_matrix = np.zeros(input_PBN_matrix.shape, dtype=int)\n",
    "    \n",
    "    for col_counter in range(num_of_cols):\n",
    "        rearranged_row_indices = np.random.permutation(num_of_rows)\n",
    "        for row_counter in range(num_of_rows):\n",
    "            permuted_PBN_matrix[row_counter, col_counter] = \\\n",
    "            input_PBN_matrix[rearranged_row_indices[row_counter], col_counter]\n",
    "    \n",
    "    return permuted_PBN_matrix"
   ]
  },
  {
   "cell_type": "markdown",
   "id": "b9a4deb5-349b-412f-9427-414204c0f921",
   "metadata": {},
   "source": [
    "#### The following function is used to permute the columns of the three PBN matrices used to break SER 2."
   ]
  },
  {
   "cell_type": "code",
   "execution_count": 7,
   "id": "b77e446b-cfab-4367-9ae6-f7d609a97d24",
   "metadata": {},
   "outputs": [],
   "source": [
    "def permute_the_cols(input_PBN_matrix):\n",
    "    num_of_rows, num_of_cols = input_PBN_matrix.shape\n",
    "    permuted_PBN_matrix = np.zeros(input_PBN_matrix.shape, dtype=int)\n",
    "    rearranged_col_indices = np.random.permutation(num_of_cols)\n",
    "    \n",
    "    for col_counter in range(num_of_cols):\n",
    "        permuted_PBN_matrix[:, col_counter] = input_PBN_matrix[:, rearranged_col_indices[col_counter]]\n",
    "    \n",
    "    return permuted_PBN_matrix"
   ]
  },
  {
   "cell_type": "markdown",
   "id": "7c692f06-3980-489f-9dff-baf6597c23bc",
   "metadata": {},
   "source": [
    "#### [1] PBN Matrix from Default Data"
   ]
  },
  {
   "cell_type": "code",
   "execution_count": 11,
   "id": "69ed17bf-a268-4602-94a7-4234c160ca40",
   "metadata": {},
   "outputs": [
    {
     "data": {
      "text/plain": [
       "(11,\n",
       " [31, 25, 13, 10, 8, 4, 4, 2, 1, 1, 1],\n",
       " array([[0, 4, 2, 4, 3, 7, 2, 7],\n",
       "        [5, 5, 6, 2, 2, 5, 2, 5],\n",
       "        [0, 1, 5, 7, 5, 4, 4, 7],\n",
       "        [4, 6, 0, 4, 4, 6, 4, 5],\n",
       "        [0, 2, 2, 7, 5, 1, 2, 7],\n",
       "        [0, 5, 5, 4, 3, 0, 4, 4],\n",
       "        [4, 6, 6, 4, 5, 5, 4, 5],\n",
       "        [5, 1, 5, 7, 3, 6, 2, 7],\n",
       "        [5, 5, 2, 7, 4, 7, 4, 4],\n",
       "        [0, 5, 5, 4, 3, 6, 2, 4],\n",
       "        [5, 6, 6, 7, 4, 7, 4, 7]], dtype=int64))"
      ]
     },
     "execution_count": 11,
     "metadata": {},
     "output_type": "execute_result"
    }
   ],
   "source": [
    "test_PBN_matrix_3 = np.array([[57,  0, 10,  0,  0,  4,  0,  0], \n",
    "                              [ 0, 15,  0,  0,  0,  8,  0,  0], \n",
    "                              [ 0,  8, 40, 25, 25,  0, 67,  0], \n",
    "                              [ 0,  0,  0,  0, 38,  0,  0,  0],\n",
    "                              [14, 31,  0, 50, 12, 13, 33,  6],\n",
    "                              [29, 31, 20,  0, 25, 29,  0, 39],\n",
    "                              [ 0, 15, 30,  0,  0, 13,  0,  0],\n",
    "                              [ 0,  0,  0, 25,  0, 33,  0, 55]])\n",
    "SER_2(test_PBN_matrix_3)"
   ]
  },
  {
   "cell_type": "markdown",
   "id": "7425bedd-18fb-472d-ae3b-1e315735c890",
   "metadata": {},
   "source": [
    "#### [2] Nursing Home PBN Matrix"
   ]
  },
  {
   "cell_type": "code",
   "execution_count": 13,
   "id": "92daef7a-4663-448a-ae3b-733cffde9fda",
   "metadata": {},
   "outputs": [
    {
     "data": {
      "text/plain": [
       "(7,\n",
       " [3, 2, 1, 1, 1, 1, 1],\n",
       " array([[ 1,  0,  0,  4,  0,  0,  0,  0,  0,  0,  0,  0,  0, 12,  4, 12],\n",
       "        [ 1,  0,  0,  4,  0,  4,  0,  4,  0,  4, 12,  4,  0,  4,  0,  1],\n",
       "        [ 1,  0,  0,  4,  0,  0,  0,  4,  0,  0,  4,  8,  0,  0,  8, 12],\n",
       "        [ 1,  1,  0,  4,  4,  4,  0,  0,  1,  9,  9,  8,  0,  0, 12,  1],\n",
       "        [ 2,  2,  0,  0,  0,  0,  4,  4,  2,  0,  4,  0,  0,  4,  4,  4],\n",
       "        [ 1,  3,  1,  4,  4,  4,  0,  0,  8,  4,  9,  4,  0, 12,  8,  8],\n",
       "        [ 2,  4,  4,  5,  8,  5,  4,  4,  9,  9, 12,  8,  0, 13, 12, 12]],\n",
       "       dtype=int64))"
      ]
     },
     "execution_count": 13,
     "metadata": {},
     "output_type": "execute_result"
    }
   ],
   "source": [
    "test_PBN_matrix_4 = np.array([[0, 6, 8, 1, 7, 5, 8, 5, 6, 5, 3, 4, 10, 2, 2, 0], \n",
    "                              [8, 1, 1, 0, 0, 0, 0, 0, 1, 0, 0, 0,  0, 0, 0, 3], \n",
    "                              [2, 1, 0, 0, 0, 0, 0, 0, 1, 0, 0, 0,  0, 0, 0, 0], \n",
    "                              [0, 1, 0, 0, 0, 0, 0, 0, 0, 0, 0, 0,  0, 0, 0, 0],\n",
    "                              [0, 1, 1, 8, 2, 4, 2, 5, 0, 3, 2, 3,  0, 3, 4, 1],\n",
    "                              [0, 0, 0, 1, 0, 1, 0, 0, 0, 0, 0, 0,  0, 0, 0, 0],\n",
    "                              [0, 0, 0, 0, 0, 0, 0, 0, 0, 0, 0, 0,  0, 0, 0, 0],\n",
    "                              [0, 0, 0, 0, 0, 0, 0, 0, 0, 0, 0, 0,  0, 0, 0, 0],\n",
    "                              [0, 0, 0, 0, 1, 0, 0, 0, 1, 0, 0, 3,  0, 0, 2, 1],\n",
    "                              [0, 0, 0, 0, 0, 0, 0, 0, 1, 2, 2, 0,  0, 0, 0, 0],\n",
    "                              [0, 0, 0, 0, 0, 0, 0, 0, 0, 0, 0, 0,  0, 0, 0, 0],\n",
    "                              [0, 0, 0, 0, 0, 0, 0, 0, 0, 0, 0, 0,  0, 0, 0, 0],\n",
    "                              [0, 0, 0, 0, 0, 0, 0, 0, 0, 0, 3, 0,  0, 4, 2, 5],\n",
    "                              [0, 0, 0, 0, 0, 0, 0, 0, 0, 0, 0, 0,  0, 1, 0, 0],\n",
    "                              [0, 0, 0, 0, 0, 0, 0, 0, 0, 0, 0, 0,  0, 0, 0, 0],\n",
    "                              [0, 0, 0, 0, 0, 0, 0, 0, 0, 0, 0, 0,  0, 0, 0, 0]\n",
    "                             ])\n",
    "SER_2(test_PBN_matrix_4)"
   ]
  },
  {
   "cell_type": "markdown",
   "id": "38dff0a6-f207-4e8a-ae2c-898d695b2636",
   "metadata": {},
   "source": [
    "#### [3] First PBN matrix to break SER 2"
   ]
  },
  {
   "cell_type": "markdown",
   "id": "4099dcc6-81c1-4a45-aa63-07c15d85080b",
   "metadata": {},
   "source": [
    "Remark: the sum of the entries in each column of this matrix equals 110."
   ]
  },
  {
   "cell_type": "markdown",
   "id": "7301697e-413b-4571-aef8-2910791e9811",
   "metadata": {},
   "source": [
    "##### Execute SER 2 before permuting the PBN matrix."
   ]
  },
  {
   "cell_type": "code",
   "execution_count": 5,
   "id": "70247d58-8f81-42da-88ee-7ad1ac9ea1b6",
   "metadata": {},
   "outputs": [
    {
     "data": {
      "text/plain": [
       "array([[10, 10, 10, 10, 10, 22, 22, 22],\n",
       "       [12, 12, 12, 12, 12,  0,  0,  0],\n",
       "       [34, 34, 15, 15, 15, 15, 15, 34],\n",
       "       [ 0,  0, 19, 19, 19, 19, 19,  0],\n",
       "       [24, 54, 54, 54, 54, 24, 24, 24],\n",
       "       [30,  0,  0,  0,  0, 30, 30, 30],\n",
       "       [ 0,  0,  0,  0,  0,  0,  0,  0],\n",
       "       [ 0,  0,  0,  0,  0,  0,  0,  0]])"
      ]
     },
     "execution_count": 5,
     "metadata": {},
     "output_type": "execute_result"
    }
   ],
   "source": [
    "x1 = 10\n",
    "x2 = 12\n",
    "x3 = 15\n",
    "x4 = 19\n",
    "x5 = 24\n",
    "x6 = 30\n",
    "\n",
    "test_PBN_matrix_5 = np.array([[   x1,    x1,    x1,    x1,    x1, x1+x2, x1+x2, x1+x2], \n",
    "                              [   x2,    x2,    x2,    x2,    x2,     0,     0,     0], \n",
    "                              [x3+x4, x3+x4,    x3,    x3,    x3,    x3,    x3, x3+x4], \n",
    "                              [    0,     0,    x4,    x4,    x4,    x4,    x4,     0],\n",
    "                              [   x5, x5+x6, x5+x6, x5+x6, x5+x6,    x5,    x5,    x5],\n",
    "                              [   x6,     0,     0,     0,     0,    x6,    x6,    x6],\n",
    "                              [    0,     0,     0,     0,     0,     0,     0,     0],\n",
    "                              [    0,     0,     0,     0,     0,     0,     0,     0]])\n",
    "\n",
    "test_PBN_matrix_5"
   ]
  },
  {
   "cell_type": "code",
   "execution_count": 9,
   "id": "4060147b-d4bc-4c0a-a618-843d32140d6b",
   "metadata": {},
   "outputs": [
    {
     "data": {
      "text/plain": [
       "(10,\n",
       " [30, 24, 19, 12, 10, 6, 4, 3, 1, 1],\n",
       " array([[2, 4, 4, 4, 4, 5, 5, 2],\n",
       "        [5, 2, 4, 4, 4, 4, 4, 5],\n",
       "        [4, 4, 3, 3, 3, 0, 0, 4],\n",
       "        [1, 1, 2, 2, 2, 3, 3, 0],\n",
       "        [0, 0, 1, 1, 1, 2, 2, 0],\n",
       "        [5, 2, 0, 0, 0, 3, 3, 5],\n",
       "        [4, 4, 0, 0, 0, 2, 2, 4],\n",
       "        [2, 2, 2, 2, 2, 0, 0, 2],\n",
       "        [2, 2, 1, 1, 1, 2, 2, 2],\n",
       "        [4, 4, 1, 1, 1, 3, 3, 4]], dtype=int64))"
      ]
     },
     "execution_count": 9,
     "metadata": {},
     "output_type": "execute_result"
    }
   ],
   "source": [
    "SER_2(test_PBN_matrix_5)"
   ]
  },
  {
   "cell_type": "markdown",
   "id": "74a1c6ca-1cba-4848-936c-bfacaeb446b1",
   "metadata": {},
   "source": [
    "##### Let's permute the entries in the PBN matrix."
   ]
  },
  {
   "cell_type": "code",
   "execution_count": 10,
   "id": "b0be42ad-597a-4562-8e16-b244f5439624",
   "metadata": {},
   "outputs": [],
   "source": [
    "# test_PBN_matrix_5_permuted = permute_the_cols(permute_entries_in_each_col(test_PBN_matrix_5))\n",
    "test_PBN_matrix_5_permuted = np.array([[12, 30, 22, 10, 10, 15, 54, 34],\n",
    "                                       [10, 24, 19, 54, 30,  0,  0,  0],\n",
    "                                       [54, 15,  0, 12, 12,  0,  0, 30],\n",
    "                                       [ 0,  0, 24, 15, 24, 19, 10,  0],\n",
    "                                       [ 0,  0,  0,  0, 34, 10, 12,  0],\n",
    "                                       [19,  0, 15,  0,  0, 12,  0, 22],\n",
    "                                       [15, 19,  0, 19,  0, 54,  0, 24],\n",
    "                                       [ 0, 22, 30,  0,  0,  0, 34,  0]])"
   ]
  },
  {
   "cell_type": "markdown",
   "id": "c36ffea5-5126-4325-9993-6911dd5c0dc3",
   "metadata": {},
   "source": [
    "##### Execute SER 2 on the permuted PBN matrix."
   ]
  },
  {
   "cell_type": "code",
   "execution_count": 13,
   "id": "ca52c65d-59c7-4655-8b0d-3c95ee684f60",
   "metadata": {},
   "outputs": [
    {
     "data": {
      "text/plain": [
       "(10,\n",
       " [30, 24, 19, 12, 10, 6, 4, 3, 1, 1],\n",
       " array([[2, 0, 7, 1, 4, 6, 0, 0],\n",
       "        [2, 1, 3, 1, 1, 6, 7, 2],\n",
       "        [5, 7, 0, 6, 3, 3, 0, 6],\n",
       "        [6, 6, 1, 3, 2, 0, 4, 5],\n",
       "        [0, 2, 5, 2, 0, 5, 3, 5],\n",
       "        [1, 6, 1, 0, 1, 4, 7, 2],\n",
       "        [1, 2, 5, 0, 3, 4, 0, 6],\n",
       "        [6, 7, 0, 3, 4, 0, 7, 0],\n",
       "        [0, 2, 1, 2, 3, 5, 0, 0],\n",
       "        [0, 6, 5, 2, 4, 5, 7, 6]], dtype=int64))"
      ]
     },
     "execution_count": 13,
     "metadata": {},
     "output_type": "execute_result"
    }
   ],
   "source": [
    "SER_2(test_PBN_matrix_5_permuted)"
   ]
  },
  {
   "cell_type": "markdown",
   "id": "aca163a4-78ff-4b41-8547-15e85db2cec7",
   "metadata": {},
   "source": [
    "#### [4] Second PBN matrix to break SER 2"
   ]
  },
  {
   "cell_type": "markdown",
   "id": "36f71bbb-d874-4075-a915-078c3fcad395",
   "metadata": {},
   "source": [
    "Remark: the sum of the entries in each column of this matrix equals 110."
   ]
  },
  {
   "cell_type": "markdown",
   "id": "5b2f2cf6-e98a-4e6e-81be-3a8a9382ca33",
   "metadata": {},
   "source": [
    "##### Execute SER 2 before permuting the PBN matrix."
   ]
  },
  {
   "cell_type": "code",
   "execution_count": 14,
   "id": "584f6220-53cb-4e9b-ac23-49fcbffc0665",
   "metadata": {},
   "outputs": [
    {
     "data": {
      "text/plain": [
       "array([[10, 10, 22, 22, 22, 25, 25, 25],\n",
       "       [12, 12, 15, 15, 15, 12, 12, 12],\n",
       "       [15, 15,  0,  0,  0,  0,  0,  0],\n",
       "       [49, 49, 49, 43, 43, 43, 19, 19],\n",
       "       [24, 24, 24, 30, 30, 30, 24, 24],\n",
       "       [ 0,  0,  0,  0,  0,  0, 30, 30],\n",
       "       [ 0,  0,  0,  0,  0,  0,  0,  0],\n",
       "       [ 0,  0,  0,  0,  0,  0,  0,  0]])"
      ]
     },
     "execution_count": 14,
     "metadata": {},
     "output_type": "execute_result"
    }
   ],
   "source": [
    "x1 = 10\n",
    "x2 = 12\n",
    "x3 = 15\n",
    "x4 = 19\n",
    "x5 = 24\n",
    "x6 = 30\n",
    "\n",
    "test_PBN_matrix_6 = np.array([[   x1,    x1, x1+x2, x1+x2, x1+x2, x1+x3, x1+x3, x1+x3], \n",
    "                              [   x2,    x2,    x3,    x3,    x3,    x2,    x2,    x2], \n",
    "                              [   x3,    x3,     0,     0,     0,     0,     0,     0], \n",
    "                              [x4+x6, x4+x6, x4+x6, x4+x5, x4+x5, x4+x5,    x4,    x4],\n",
    "                              [   x5,    x5,    x5,    x6,    x6,    x6,    x5,    x5],\n",
    "                              [    0,     0,     0,     0,     0,     0,    x6,    x6],\n",
    "                              [    0,     0,     0,     0,     0,     0,     0,     0],\n",
    "                              [    0,     0,     0,     0,     0,     0,     0,     0]])\n",
    "\n",
    "test_PBN_matrix_6"
   ]
  },
  {
   "cell_type": "code",
   "execution_count": 16,
   "id": "a93df235-b4b4-4236-bf4f-d4f25f6595d5",
   "metadata": {},
   "outputs": [
    {
     "data": {
      "text/plain": [
       "(9,\n",
       " [30, 24, 19, 13, 12, 6, 3, 2, 1],\n",
       " array([[3, 3, 3, 3, 3, 3, 5, 5],\n",
       "        [4, 4, 4, 4, 4, 4, 0, 0],\n",
       "        [3, 3, 0, 0, 0, 0, 4, 4],\n",
       "        [2, 2, 3, 1, 1, 3, 3, 3],\n",
       "        [1, 1, 1, 3, 3, 1, 1, 1],\n",
       "        [0, 0, 3, 4, 4, 0, 3, 3],\n",
       "        [0, 0, 0, 0, 0, 4, 4, 4],\n",
       "        [2, 2, 1, 1, 1, 4, 4, 4],\n",
       "        [0, 0, 1, 3, 3, 4, 0, 0]], dtype=int64))"
      ]
     },
     "execution_count": 16,
     "metadata": {},
     "output_type": "execute_result"
    }
   ],
   "source": [
    "SER_2(test_PBN_matrix_6)"
   ]
  },
  {
   "cell_type": "markdown",
   "id": "ea089161-2435-4c0b-b000-ba7fc255dc92",
   "metadata": {},
   "source": [
    "##### Let's permute the entries in the PBN matrix."
   ]
  },
  {
   "cell_type": "code",
   "execution_count": 18,
   "id": "10be2da0-f87d-4618-a90f-c5dc91b490a2",
   "metadata": {},
   "outputs": [],
   "source": [
    "# test_PBN_matrix_6_permuted = permute_the_cols(permute_entries_in_each_col(test_PBN_matrix_6))\n",
    "test_PBN_matrix_6_permuted = np.array([[ 0,  0,  0, 49,  0, 43,  0, 49],\n",
    "                                       [ 0, 30, 12,  0, 30,  0, 25,  0],\n",
    "                                       [25,  0,  0, 15,  0, 22, 12, 15],\n",
    "                                       [ 0,  0, 10, 24, 19,  0, 30,  0],\n",
    "                                       [30, 43, 15,  0, 24, 15,  0,  0],\n",
    "                                       [43,  0, 49,  0,  0,  0, 19, 24],\n",
    "                                       [ 0, 22,  0, 22, 12, 30,  0, 12],\n",
    "                                       [12, 15, 24,  0, 25,  0, 24, 10]])"
   ]
  },
  {
   "cell_type": "markdown",
   "id": "bc793050-45c4-4376-9489-f873bcbe76b2",
   "metadata": {},
   "source": [
    "##### Execute SER 2 on the permuted PBN matrix."
   ]
  },
  {
   "cell_type": "code",
   "execution_count": 20,
   "id": "10709264-3328-4ec0-a73e-e6d55321c1b3",
   "metadata": {},
   "outputs": [
    {
     "data": {
      "text/plain": [
       "(9,\n",
       " [30, 24, 19, 13, 12, 6, 3, 2, 1],\n",
       " array([[5, 4, 5, 0, 1, 0, 3, 0],\n",
       "        [4, 1, 7, 3, 7, 6, 1, 5],\n",
       "        [2, 6, 5, 6, 4, 2, 7, 0],\n",
       "        [5, 7, 4, 0, 3, 4, 5, 2],\n",
       "        [7, 4, 1, 2, 6, 0, 2, 6],\n",
       "        [2, 1, 3, 0, 3, 6, 5, 7],\n",
       "        [4, 6, 3, 2, 4, 2, 7, 7],\n",
       "        [4, 7, 4, 6, 4, 4, 7, 2],\n",
       "        [4, 4, 3, 6, 7, 0, 1, 7]], dtype=int64))"
      ]
     },
     "execution_count": 20,
     "metadata": {},
     "output_type": "execute_result"
    }
   ],
   "source": [
    "SER_2(test_PBN_matrix_6_permuted)"
   ]
  },
  {
   "cell_type": "markdown",
   "id": "0c0f6131-5a4c-4ea3-b53e-38d7f9cdd7f2",
   "metadata": {},
   "source": [
    "#### [5] Third PBN matrix to break SER 2"
   ]
  },
  {
   "cell_type": "markdown",
   "id": "bfdc49b0-4788-447e-aa3d-246dbf3a8690",
   "metadata": {},
   "source": [
    "Remark: the sum of the entries in each column of this matrix equals 265."
   ]
  },
  {
   "cell_type": "markdown",
   "id": "e857b5b2-5d32-46c8-a78e-c55937f066de",
   "metadata": {},
   "source": [
    "##### Execute SER 2 before permuting the PBN matrix."
   ]
  },
  {
   "cell_type": "code",
   "execution_count": 21,
   "id": "d07ee231-baa2-45ec-81e9-306eda213b01",
   "metadata": {},
   "outputs": [
    {
     "data": {
      "text/plain": [
       "array([[ 37,  37,  37,  37,  63,  63,  63,  63,  54,  54,  54,  54,  46,\n",
       "         46,  46,  46],\n",
       "       [ 26,  26,  26,  26,  17,  17,  17,  17,  26,  26,  26,  26,  26,\n",
       "         26,  26,  26],\n",
       "       [ 17,  17,  17,  17,   9,   9,   9,   9,   9,   9,   9,   9,  17,\n",
       "         17,  17,  17],\n",
       "       [  9,   9,   9,   9,   0,   0,   0,   0,   0,   0,   0,   0,   0,\n",
       "          0,   0,   0],\n",
       "       [  0,   0,   0,   0,   0,   0,   0,   0,   0,   0,   0,   0,   0,\n",
       "          0,   0,   0],\n",
       "       [  0,   0,   0,   0,   0,   0,   0,   0,   0,   0,   0,   0,   0,\n",
       "          0,   0,   0],\n",
       "       [108, 108,  98,  88,  98,  88, 108,  59,  98,  88, 108,  59,  98,\n",
       "         88,  59,  59],\n",
       "       [  0,   0,  49,  49,  49,  49,   0,  49,  49,  49,   0,  49,  49,\n",
       "         49,  49,  49],\n",
       "       [ 39,  39,   0,  39,   0,  39,  39,  39,   0,  39,  39,  39,   0,\n",
       "         39,  39,  39],\n",
       "       [ 29,  29,  29,   0,  29,   0,  29,  29,  29,   0,  29,  29,  29,\n",
       "          0,  29,  29],\n",
       "       [  0,   0,   0,   0,   0,   0,   0,   0,   0,   0,   0,   0,   0,\n",
       "          0,   0,   0],\n",
       "       [  0,   0,   0,   0,   0,   0,   0,   0,   0,   0,   0,   0,   0,\n",
       "          0,   0,   0],\n",
       "       [  0,   0,   0,   0,   0,   0,   0,   0,   0,   0,   0,   0,   0,\n",
       "          0,   0,   0],\n",
       "       [  0,   0,   0,   0,   0,   0,   0,   0,   0,   0,   0,   0,   0,\n",
       "          0,   0,   0],\n",
       "       [  0,   0,   0,   0,   0,   0,   0,   0,   0,   0,   0,   0,   0,\n",
       "          0,   0,   0],\n",
       "       [  0,   0,   0,   0,   0,   0,   0,   0,   0,   0,   0,   0,   0,\n",
       "          0,   0,   0]])"
      ]
     },
     "execution_count": 21,
     "metadata": {},
     "output_type": "execute_result"
    }
   ],
   "source": [
    "x1 = 37\n",
    "x2 = 26\n",
    "x3 = 17\n",
    "x4 = 9\n",
    "x5 = 59\n",
    "x6 = 49\n",
    "x7 = 39\n",
    "x8 = 29\n",
    "\n",
    "test_PBN_matrix_7 = np.array([[   x1,    x1,    x1,    x1, x1+x2, x1+x2, x1+x2, x1+x2, x1+x3, x1+x3, x1+x3, x1+x3, x1+x4, x1+x4, x1+x4, x1+x4], \n",
    "                              [   x2,    x2,    x2,    x2,    x3,    x3,    x3,    x3,    x2,    x2,    x2,    x2,    x2,    x2,    x2,    x2], \n",
    "                              [   x3,    x3,    x3,    x3,    x4,    x4,    x4,    x4,    x4,    x4,    x4,    x4,    x3,    x3,    x3,    x3], \n",
    "                              [   x4,    x4,    x4,    x4,     0,     0,     0,     0,     0,     0,     0,     0,     0,     0,     0,     0],\n",
    "                              [    0,     0,     0,     0,     0,     0,     0,     0,     0,     0,     0,     0,     0,     0,     0,     0],\n",
    "                              [    0,     0,     0,     0,     0,     0,     0,     0,     0,     0,     0,     0,     0,     0,     0,     0],\n",
    "                              [x5+x6, x5+x6, x5+x7, x5+x8, x5+x7, x5+x8, x5+x6,    x5, x5+x7, x5+x8, x5+x6,    x5, x5+x7, x5+x8,    x5,    x5],\n",
    "                              [    0,     0,    x6,    x6,    x6,    x6,     0,    x6,    x6,    x6,     0,    x6,    x6,    x6,    x6,    x6],\n",
    "                              [   x7,    x7,     0,    x7,     0,    x7,    x7,    x7,     0,    x7,    x7,    x7,     0,    x7,    x7,    x7],\n",
    "                              [   x8,    x8,    x8,     0,    x8,     0,    x8,    x8,    x8,     0,    x8,    x8,    x8,     0,    x8,    x8],\n",
    "                              [    0,     0,     0,     0,     0,     0,     0,     0,     0,     0,     0,     0,     0,     0,     0,     0],\n",
    "                              [    0,     0,     0,     0,     0,     0,     0,     0,     0,     0,     0,     0,     0,     0,     0,     0],\n",
    "                              [    0,     0,     0,     0,     0,     0,     0,     0,     0,     0,     0,     0,     0,     0,     0,     0],\n",
    "                              [    0,     0,     0,     0,     0,     0,     0,     0,     0,     0,     0,     0,     0,     0,     0,     0],\n",
    "                              [    0,     0,     0,     0,     0,     0,     0,     0,     0,     0,     0,     0,     0,     0,     0,     0],\n",
    "                              [    0,     0,     0,     0,     0,     0,     0,     0,     0,     0,     0,     0,     0,     0,     0,     0],\n",
    "                             ])\n",
    "test_PBN_matrix_7"
   ]
  },
  {
   "cell_type": "code",
   "execution_count": 23,
   "id": "f1da6ba5-dac7-42bf-ab8d-eae1634303c3",
   "metadata": {},
   "outputs": [
    {
     "data": {
      "text/plain": [
       "(13,\n",
       " [59, 49, 39, 37, 29, 17, 10, 9, 7, 4, 2, 2, 1],\n",
       " array([[6, 6, 6, 6, 6, 6, 6, 0, 6, 6, 6, 6, 6, 6, 6, 6],\n",
       "        [6, 6, 7, 7, 0, 0, 0, 6, 0, 0, 0, 0, 7, 7, 7, 7],\n",
       "        [8, 8, 6, 8, 7, 7, 6, 7, 7, 7, 6, 7, 0, 0, 0, 0],\n",
       "        [0, 0, 0, 0, 6, 8, 8, 8, 6, 8, 8, 8, 6, 8, 8, 8],\n",
       "        [9, 9, 9, 6, 9, 6, 9, 9, 9, 6, 9, 9, 9, 6, 9, 9],\n",
       "        [1, 1, 1, 1, 1, 1, 1, 1, 1, 1, 1, 1, 1, 1, 1, 1],\n",
       "        [2, 2, 2, 2, 0, 0, 0, 6, 7, 7, 6, 7, 2, 2, 2, 2],\n",
       "        [1, 1, 1, 1, 7, 7, 6, 7, 1, 1, 1, 1, 1, 1, 1, 1],\n",
       "        [3, 3, 3, 3, 2, 2, 2, 2, 2, 2, 2, 2, 0, 0, 0, 0],\n",
       "        [2, 2, 2, 2, 0, 0, 0, 0, 0, 0, 0, 0, 2, 2, 2, 2],\n",
       "        [2, 2, 2, 2, 2, 2, 2, 2, 2, 2, 2, 2, 2, 2, 2, 2],\n",
       "        [3, 3, 3, 3, 6, 8, 8, 8, 6, 8, 8, 8, 6, 8, 8, 8],\n",
       "        [2, 2, 2, 2, 7, 7, 6, 7, 0, 0, 0, 0, 2, 2, 2, 2]], dtype=int64))"
      ]
     },
     "execution_count": 23,
     "metadata": {},
     "output_type": "execute_result"
    }
   ],
   "source": [
    "SER_2(test_PBN_matrix_7)"
   ]
  },
  {
   "cell_type": "markdown",
   "id": "b6420006-097b-4652-8125-aa76fe894c2e",
   "metadata": {},
   "source": [
    "##### Let's permute the entries in the PBN matrix."
   ]
  },
  {
   "cell_type": "code",
   "execution_count": 24,
   "id": "9597693f-bd4f-42a5-b3b0-26b59dbcb2fb",
   "metadata": {},
   "outputs": [],
   "source": [
    "# test_PBN_matrix_7_permuted = permute_the_cols(permute_entries_in_each_col(test_PBN_matrix_7))\n",
    "test_PBN_matrix_7_permuted = np.array([[ 26,   0,   0,   0,  59,   0,  49,   0,  29,   0,   0,   0,   0,   9,   0,  46],\n",
    "                                       [  0,   0,  39,  17,   0,   0,   0,  49,  49,   0,   0,   0,   0,  98,  54,  17],\n",
    "                                       [  0,   0,  26,  49,   0,   0,   0,   9,   0,   0,   0,  59,   9,   0,   0,   0],\n",
    "                                       [  0,   0,   0,   0,   0,   9,  54,   0,   0,   0,   0,   0,  39,   0,  49,  26],\n",
    "                                       [ 49,   0,   9,   0,   0,  29,   0,   0,   0,   0, 108,  63,   0,  17,  59,   0],\n",
    "                                       [  0,   0,   0,  26,   0,   0,   0,  17,  39,  29,   0,   0,   0,   0,   0,  88],\n",
    "                                       [ 17,  63,  88,   0,   0,   0,   0,  98,   0,   9,  37,   0,  88,   0,   0,  49],\n",
    "                                       [  0,   0,   0,   0,  49,   0,   0,   0,  17,  37,   9,  29,  63,  49,  39,   0],\n",
    "                                       [ 98,   0,   0,   0,  46, 108,  26,   0,   0,   0,   0,   9,   0,  63,   9,   0],\n",
    "                                       [  0,  29,   0,   0,  17,   0,  29,   0,  46,   0,  26,   0,   0,   0,  26,   0],\n",
    "                                       [ 29, 108,   0,  88,   0,  39,   0,   0,   0,   0,  39,   0,   0,  29,   0,   0],\n",
    "                                       [  0,  39,   0,  39,   0,   0,   0,   0,  26,  26,  29,  39,   0,   0,   0,   0],\n",
    "                                       [  0,   0,   0,   0,  29,   0,  98,  29,   0,  39,   0,   0,   0,   0,   0,   0],\n",
    "                                       [ 46,   0,  49,  37,  39,  26,   9,   0,   0, 108,  17,   0,  49,   0,  29,   0],\n",
    "                                       [  0,   9,  54,   9,   0,  54,   0,  37,   0,  17,   0,  49,  17,   0,   0,  39],\n",
    "                                       [  0,  17,   0,   0,  26,   0,   0,  26,  59,   0,   0,  17,   0,   0,   0,   0]])\n"
   ]
  },
  {
   "cell_type": "markdown",
   "id": "d5aaa65d-8a27-4cae-92eb-1c89376f0113",
   "metadata": {},
   "source": [
    "##### Execute SER 2 on the permuted PBN matrix."
   ]
  },
  {
   "cell_type": "code",
   "execution_count": 26,
   "id": "54acd7ff-81cb-4ad4-9b88-044266fefd45",
   "metadata": {},
   "outputs": [
    {
     "data": {
      "text/plain": [
       "(13,\n",
       " [59, 49, 39, 37, 29, 17, 10, 9, 7, 4, 2, 2, 1],\n",
       " array([[ 8, 10,  6, 10,  0,  8, 12,  6, 15, 13,  4,  4,  6,  1,  4,  5],\n",
       "        [ 4,  6, 14,  2,  7, 14,  3,  1,  1, 13,  4,  2,  7,  8,  1,  6],\n",
       "        [13, 10, 13, 11,  8,  8,  0,  6,  9, 12, 10, 14, 13,  7,  3,  0],\n",
       "        [ 8, 11,  1, 13, 13, 10, 12, 14,  5,  7,  6, 11,  3,  1,  7, 14],\n",
       "        [10,  9,  6, 10, 12,  4,  9, 12,  0,  5, 11,  7,  6, 10, 13,  5],\n",
       "        [ 0, 15,  2,  5, 15, 13,  8, 15, 11, 11,  9, 15, 14,  4,  9,  3],\n",
       "        [ 6,  6, 13,  1,  9,  8,  0,  5,  7, 14, 13,  2,  7,  8,  3,  1],\n",
       "        [ 0, 10,  2,  5, 15,  3,  8,  2, 11,  6,  7, 14, 13,  7,  8,  3],\n",
       "        [ 6, 14,  4, 14,  8, 13, 13, 15,  7, 11,  9,  8,  2,  0,  9,  0],\n",
       "        [13,  6, 14,  1,  9, 14,  3,  5,  9, 14, 13,  4,  7,  8,  1,  1],\n",
       "        [13, 11,  1,  1,  9, 10, 12,  5,  9, 14, 13,  8,  2,  0,  7,  1],\n",
       "        [ 8, 14,  4, 14, 13, 13, 13, 15,  5, 11,  9, 11,  3,  1,  9, 14],\n",
       "        [13, 10, 14,  1,  9, 14,  3,  5,  9, 14, 13, 14, 13,  7,  1,  1]],\n",
       "       dtype=int64))"
      ]
     },
     "execution_count": 26,
     "metadata": {},
     "output_type": "execute_result"
    }
   ],
   "source": [
    "SER_2(test_PBN_matrix_7_permuted)"
   ]
  },
  {
   "cell_type": "markdown",
   "id": "c0cc2230-58b3-4871-acbb-52c6ffda09a8",
   "metadata": {},
   "source": [
    "#### [6] Small Example PBN Matrix Mentioned in the GER paper Section 2.2"
   ]
  },
  {
   "cell_type": "code",
   "execution_count": 5,
   "id": "ac863eba-88de-4331-a0f8-ae8dc866608d",
   "metadata": {},
   "outputs": [
    {
     "data": {
      "text/plain": [
       "(4,\n",
       " [5, 2, 2, 1],\n",
       " array([[2, 0, 0, 2],\n",
       "        [1, 3, 1, 2],\n",
       "        [1, 2, 3, 2],\n",
       "        [0, 3, 0, 2]], dtype=int64))"
      ]
     },
     "execution_count": 5,
     "metadata": {},
     "output_type": "execute_result"
    }
   ],
   "source": [
    "test_PBN_matrix_2 = np.array([[1, 5, 6, 0], \n",
    "                              [4, 0, 2, 0], \n",
    "                              [5, 2, 0, 10], \n",
    "                              [0, 3, 2, 0]])\n",
    "SER_2(test_PBN_matrix_2)"
   ]
  },
  {
   "cell_type": "markdown",
   "id": "0ba46fe5-832f-46b5-8d72-29f814cf9259",
   "metadata": {},
   "source": [
    "# Testing SER 2 on the three PBN matrices from the MOMP paper."
   ]
  },
  {
   "cell_type": "markdown",
   "id": "e5530a4b-945e-4572-b92a-e18279753cda",
   "metadata": {},
   "source": [
    "### 1. First PBN matrix $P_1$"
   ]
  },
  {
   "cell_type": "markdown",
   "id": "7e82a9a0-a63d-484e-adaa-12cee71f49f6",
   "metadata": {},
   "source": [
    "It can be proved that SER 2 finds the sparsest possible decomposition for $P_1$."
   ]
  },
  {
   "cell_type": "code",
   "execution_count": 4,
   "id": "64b995f9-6ff1-4434-ae58-0b5d5a2b6436",
   "metadata": {},
   "outputs": [
    {
     "data": {
      "text/plain": [
       "(5,\n",
       " [4, 2, 2, 1, 1],\n",
       " array([[3, 3, 2, 3],\n",
       "        [3, 0, 0, 2],\n",
       "        [1, 1, 1, 2],\n",
       "        [0, 0, 2, 0],\n",
       "        [3, 1, 2, 3]], dtype=int64))"
      ]
     },
     "execution_count": 4,
     "metadata": {},
     "output_type": "execute_result"
    }
   ],
   "source": [
    "MOMP_PBN_P1 = np.array([[1, 3, 2, 1], \n",
    "                        [2, 3, 2, 0], \n",
    "                        [0, 0, 6, 4], \n",
    "                        [7, 4, 0, 5]])\n",
    "SER_2(MOMP_PBN_P1)"
   ]
  },
  {
   "cell_type": "markdown",
   "id": "385d5db9-46ca-4e56-b27d-c0e0e04025f4",
   "metadata": {},
   "source": [
    "### 2. Second PBN matrix $P_2$"
   ]
  },
  {
   "cell_type": "markdown",
   "id": "3e3d2f28-4130-4027-bfc8-54a00314f385",
   "metadata": {},
   "source": [
    "It can be proved that SER 2 finds the sparsest possible decomposition for $P_2$."
   ]
  },
  {
   "cell_type": "code",
   "execution_count": 5,
   "id": "241fdd46-6dba-4771-a88b-c4b4fc863d8b",
   "metadata": {},
   "outputs": [
    {
     "data": {
      "text/plain": [
       "(5,\n",
       " [4, 2, 2, 1, 1],\n",
       " array([[3, 3, 2, 3, 7, 7, 6, 7],\n",
       "        [3, 0, 0, 2, 7, 4, 4, 6],\n",
       "        [1, 1, 1, 2, 5, 5, 5, 6],\n",
       "        [0, 0, 2, 0, 4, 4, 6, 4],\n",
       "        [3, 1, 2, 3, 7, 5, 6, 7]], dtype=int64))"
      ]
     },
     "execution_count": 5,
     "metadata": {},
     "output_type": "execute_result"
    }
   ],
   "source": [
    "MOMP_PBN_P2 = np.array([[1, 3, 2, 1, 0, 0, 0, 0], \n",
    "                        [2, 3, 2, 0, 0, 0, 0, 0], \n",
    "                        [0, 0, 6, 4, 0, 0, 0, 0], \n",
    "                        [7, 4, 0, 5, 0, 0, 0, 0],\n",
    "                        [0, 0, 0, 0, 1, 3, 2, 1],\n",
    "                        [0, 0, 0, 0, 2, 3, 2, 0],\n",
    "                        [0, 0, 0, 0, 0, 0, 6, 4],\n",
    "                        [0, 0, 0, 0, 7, 4, 0, 5]])\n",
    "SER_2(MOMP_PBN_P2)"
   ]
  },
  {
   "cell_type": "markdown",
   "id": "de54488d-90e1-40d6-b0f1-23701820a21c",
   "metadata": {},
   "source": [
    "### 3. Third PBN matrix $P_3$"
   ]
  },
  {
   "cell_type": "code",
   "execution_count": 7,
   "id": "c58c357a-75e7-41cb-baf0-fd9445735b0e",
   "metadata": {},
   "outputs": [
    {
     "data": {
      "text/plain": [
       "(11,\n",
       " [31, 25, 13, 10, 8, 4, 4, 2, 1, 1, 1],\n",
       " array([[0, 1, 2, 1, 6, 7, 2, 7],\n",
       "        [5, 5, 4, 2, 2, 5, 2, 5],\n",
       "        [0, 3, 5, 7, 5, 1, 1, 7],\n",
       "        [1, 4, 0, 1, 1, 4, 1, 5],\n",
       "        [0, 2, 2, 7, 5, 3, 2, 7],\n",
       "        [0, 5, 5, 1, 6, 0, 1, 1],\n",
       "        [1, 4, 4, 1, 5, 5, 1, 5],\n",
       "        [5, 3, 5, 7, 6, 4, 2, 7],\n",
       "        [5, 5, 2, 7, 1, 7, 1, 1],\n",
       "        [0, 4, 4, 1, 1, 4, 1, 1],\n",
       "        [5, 5, 5, 7, 6, 7, 2, 7]], dtype=int64))"
      ]
     },
     "execution_count": 7,
     "metadata": {},
     "output_type": "execute_result"
    }
   ],
   "source": [
    "MOMP_PBN_P3 = np.array([[57,  0, 10,  0,  0,  4,  0,  0], \n",
    "                        [14, 31,  0, 50, 12, 13, 33,  6], \n",
    "                        [ 0,  8, 40, 25, 25,  0, 67,  0], \n",
    "                        [ 0, 15,  0,  0,  0,  8,  0,  0],\n",
    "                        [ 0, 15, 30,  0,  0, 13,  0,  0],\n",
    "                        [29, 31, 20,  0, 25, 29,  0, 39],\n",
    "                        [ 0,  0,  0,  0, 38,  0,  0,  0],\n",
    "                        [ 0,  0,  0, 25,  0, 33,  0, 55]])\n",
    "SER_2(MOMP_PBN_P3)"
   ]
  },
  {
   "cell_type": "markdown",
   "id": "2d069127-e329-40f3-bd12-7538c6b981af",
   "metadata": {},
   "source": [
    "# Testing SER 2 on the PBN matrices from the projection-based gradient descent method (PBGDM) paper."
   ]
  },
  {
   "cell_type": "markdown",
   "id": "fcdfb4ad-7caa-4d94-8824-6c8ef192f8ce",
   "metadata": {},
   "source": [
    "### 1. First PBN matrix $P_1$"
   ]
  },
  {
   "cell_type": "markdown",
   "id": "4fbc4c6b-0137-48d1-b7c2-74eb9ddecd5a",
   "metadata": {},
   "source": [
    "It can be proved that SER 2 finds the sparsest possible decomposition for $P_1$."
   ]
  },
  {
   "cell_type": "code",
   "execution_count": 9,
   "id": "80bec316-7896-4128-a2de-339aded79c5a",
   "metadata": {},
   "outputs": [
    {
     "data": {
      "text/plain": [
       "(4,\n",
       " [5, 3, 1, 1],\n",
       " array([[3, 1, 0, 0],\n",
       "        [3, 0, 2, 3],\n",
       "        [0, 1, 2, 0],\n",
       "        [3, 1, 2, 3]], dtype=int64))"
      ]
     },
     "execution_count": 9,
     "metadata": {},
     "output_type": "execute_result"
    }
   ],
   "source": [
    "PBGDM_PBN_P1 = np.array([[1, 3, 5, 6], \n",
    "                         [0, 7, 0, 0], \n",
    "                         [0, 0, 5, 0], \n",
    "                         [9, 0, 0, 4]])\n",
    "SER_2(PBGDM_PBN_P1)"
   ]
  },
  {
   "cell_type": "markdown",
   "id": "d7b7172e-a2de-41ed-97b1-b79372e7d044",
   "metadata": {},
   "source": [
    "### 2. Second PBN matrix $P_3$"
   ]
  },
  {
   "cell_type": "markdown",
   "id": "79ea6ff8-a3bd-4802-b92e-fa504f174967",
   "metadata": {},
   "source": [
    "It can be proved that SER 2 finds the sparsest possible decomposition for $P_3$."
   ]
  },
  {
   "cell_type": "code",
   "execution_count": 10,
   "id": "519e9ea7-78e9-42af-ae57-334633a52da4",
   "metadata": {},
   "outputs": [
    {
     "data": {
      "text/plain": [
       "(4,\n",
       " [3, 3, 2, 2],\n",
       " array([[0, 6, 6, 4, 2, 6, 4, 7],\n",
       "        [0, 6, 6, 5, 2, 7, 5, 7],\n",
       "        [0, 6, 6, 0, 2, 6, 4, 7],\n",
       "        [0, 6, 6, 1, 2, 7, 5, 7]], dtype=int64))"
      ]
     },
     "execution_count": 10,
     "metadata": {},
     "output_type": "execute_result"
    }
   ],
   "source": [
    "PBGDM_PBN_P3 = np.array([[10,  0,  0, 2,  0, 0, 0,  0], \n",
    "                         [ 0,  0,  0, 2,  0, 0, 0,  0], \n",
    "                         [ 0,  0,  0, 0, 10, 0, 0,  0], \n",
    "                         [ 0,  0,  0, 0,  0, 0, 0,  0],\n",
    "                         [ 0,  0,  0, 3,  0, 0, 5,  0],\n",
    "                         [ 0,  0,  0, 3,  0, 0, 5,  0],\n",
    "                         [ 0, 10, 10, 0,  0, 5, 0,  0],\n",
    "                         [ 0,  0,  0, 0,  0, 5, 0, 10]])\n",
    "SER_2(PBGDM_PBN_P3)"
   ]
  },
  {
   "cell_type": "markdown",
   "id": "547b9fdc-c482-4ab7-a10f-3eb28f6e4390",
   "metadata": {},
   "source": [
    "### 3. Third PBN matrix $P_4(d)$, where $d = 0.01, 0.02, 0.03, 0.04$."
   ]
  },
  {
   "cell_type": "markdown",
   "id": "66b71e21-70da-47ae-8119-67cb5306ae02",
   "metadata": {},
   "source": [
    "It can be proved that SER 2 finds the sparsest possible decomposition for $P_4(0.01)$."
   ]
  },
  {
   "cell_type": "code",
   "execution_count": 11,
   "id": "052abdca-7201-475d-bd45-ee6516aa93e4",
   "metadata": {},
   "outputs": [
    {
     "data": {
      "text/plain": [
       "(5,\n",
       " [30, 30, 20, 19, 1],\n",
       " array([[0, 6, 6, 4, 2, 6, 4, 7],\n",
       "        [0, 6, 6, 5, 2, 7, 5, 7],\n",
       "        [0, 6, 6, 0, 2, 6, 4, 7],\n",
       "        [0, 6, 6, 1, 2, 7, 5, 7],\n",
       "        [3, 3, 3, 1, 3, 7, 5, 3]], dtype=int64))"
      ]
     },
     "execution_count": 11,
     "metadata": {},
     "output_type": "execute_result"
    }
   ],
   "source": [
    "d = 1\n",
    "PBGDM_PBN_P4_d1 = np.array([[100 - d,       0,       0, 20,       0,  0,  0,       0], \n",
    "                            [      0,       0,       0, 20,       0,  0,  0,       0], \n",
    "                            [      0,       0,       0,  0, 100 - d,  0,  0,       0], \n",
    "                            [      d,       d,       d,  0,       d,  0,  0,       d],\n",
    "                            [      0,       0,       0, 30,       0,  0, 50,       0],\n",
    "                            [      0,       0,       0, 30,       0,  0, 50,       0],\n",
    "                            [      0, 100 - d, 100 - d,  0,       0, 50,  0,       0],\n",
    "                            [      0,       0,       0,  0,       0, 50,  0, 100 - d]])\n",
    "SER_2(PBGDM_PBN_P4_d1)"
   ]
  },
  {
   "cell_type": "markdown",
   "id": "4f013dbc-5736-47aa-9a2f-2ea8b43474bf",
   "metadata": {},
   "source": [
    "It can be proved that SER 2 finds the sparsest possible decomposition for $P_4(0.02)$."
   ]
  },
  {
   "cell_type": "code",
   "execution_count": 12,
   "id": "f5f6a1e0-57ec-4b46-94a5-bf30968a020e",
   "metadata": {},
   "outputs": [
    {
     "data": {
      "text/plain": [
       "(5,\n",
       " [15, 15, 10, 9, 1],\n",
       " array([[0, 6, 6, 4, 2, 6, 4, 7],\n",
       "        [0, 6, 6, 5, 2, 7, 5, 7],\n",
       "        [0, 6, 6, 0, 2, 6, 4, 7],\n",
       "        [0, 6, 6, 1, 2, 7, 5, 7],\n",
       "        [3, 3, 3, 1, 3, 7, 5, 3]], dtype=int64))"
      ]
     },
     "execution_count": 12,
     "metadata": {},
     "output_type": "execute_result"
    }
   ],
   "source": [
    "d = 1\n",
    "PBGDM_PBN_P4_d2 = np.array([[50 - d,      0,      0, 10,      0,  0,  0,      0], \n",
    "                            [     0,      0,      0, 10,      0,  0,  0,      0], \n",
    "                            [     0,      0,      0,  0, 50 - d,  0,  0,      0], \n",
    "                            [     d,      d,      d,  0,      d,  0,  0,      d],\n",
    "                            [     0,      0,      0, 15,      0,  0, 25,      0],\n",
    "                            [     0,      0,      0, 15,      0,  0, 25,      0],\n",
    "                            [     0, 50 - d, 50 - d,  0,      0, 25,  0,      0],\n",
    "                            [     0,      0,      0,  0,      0, 25,  0, 50 - d]])\n",
    "SER_2(PBGDM_PBN_P4_d2)"
   ]
  },
  {
   "cell_type": "markdown",
   "id": "c6ec31d0-75b9-40fb-9fba-08fc6b8b8c88",
   "metadata": {},
   "source": [
    "It can be proved that SER 2 finds the sparsest possible decomposition for $P_4(0.03)$."
   ]
  },
  {
   "cell_type": "code",
   "execution_count": 13,
   "id": "5e0df004-b6ab-4e36-8535-8dd2fe279d47",
   "metadata": {},
   "outputs": [
    {
     "data": {
      "text/plain": [
       "(5,\n",
       " [30, 30, 20, 17, 3],\n",
       " array([[0, 6, 6, 4, 2, 6, 4, 7],\n",
       "        [0, 6, 6, 5, 2, 7, 5, 7],\n",
       "        [0, 6, 6, 0, 2, 6, 4, 7],\n",
       "        [0, 6, 6, 1, 2, 7, 5, 7],\n",
       "        [3, 3, 3, 1, 3, 7, 5, 3]], dtype=int64))"
      ]
     },
     "execution_count": 13,
     "metadata": {},
     "output_type": "execute_result"
    }
   ],
   "source": [
    "d = 3\n",
    "PBGDM_PBN_P4_d3 = np.array([[100 - d,       0,       0, 20,       0,  0,  0,       0], \n",
    "                            [      0,       0,       0, 20,       0,  0,  0,       0], \n",
    "                            [      0,       0,       0,  0, 100 - d,  0,  0,       0], \n",
    "                            [      d,       d,       d,  0,       d,  0,  0,       d],\n",
    "                            [      0,       0,       0, 30,       0,  0, 50,       0],\n",
    "                            [      0,       0,       0, 30,       0,  0, 50,       0],\n",
    "                            [      0, 100 - d, 100 - d,  0,       0, 50,  0,       0],\n",
    "                            [      0,       0,       0,  0,       0, 50,  0, 100 - d]])\n",
    "SER_2(PBGDM_PBN_P4_d3)"
   ]
  },
  {
   "cell_type": "markdown",
   "id": "a8f5b945-a6f9-411d-a949-59fd50e4969d",
   "metadata": {},
   "source": [
    "It can be proved that SER 2 finds the sparsest possible decomposition for $P_4(0.04)$."
   ]
  },
  {
   "cell_type": "code",
   "execution_count": 14,
   "id": "ad619246-58fa-4fa2-b4dc-d1a29502e70a",
   "metadata": {},
   "outputs": [
    {
     "data": {
      "text/plain": [
       "(5,\n",
       " [15, 15, 10, 8, 2],\n",
       " array([[0, 6, 6, 4, 2, 6, 4, 7],\n",
       "        [0, 6, 6, 5, 2, 7, 5, 7],\n",
       "        [0, 6, 6, 0, 2, 6, 4, 7],\n",
       "        [0, 6, 6, 1, 2, 7, 5, 7],\n",
       "        [3, 3, 3, 1, 3, 7, 5, 3]], dtype=int64))"
      ]
     },
     "execution_count": 14,
     "metadata": {},
     "output_type": "execute_result"
    }
   ],
   "source": [
    "d = 2\n",
    "PBGDM_PBN_P4_d4 = np.array([[50 - d,      0,      0, 10,      0,  0,  0,      0], \n",
    "                            [     0,      0,      0, 10,      0,  0,  0,      0], \n",
    "                            [     0,      0,      0,  0, 50 - d,  0,  0,      0], \n",
    "                            [     d,      d,      d,  0,      d,  0,  0,      d],\n",
    "                            [     0,      0,      0, 15,      0,  0, 25,      0],\n",
    "                            [     0,      0,      0, 15,      0,  0, 25,      0],\n",
    "                            [     0, 50 - d, 50 - d,  0,      0, 25,  0,      0],\n",
    "                            [     0,      0,      0,  0,      0, 25,  0, 50 - d]])\n",
    "SER_2(PBGDM_PBN_P4_d4)"
   ]
  },
  {
   "cell_type": "markdown",
   "id": "4e426853-b1f4-4787-81f5-adf652cc9a4d",
   "metadata": {},
   "source": [
    "### 4. Fourth PBN matrix $P_6(d)$, where $d = 0.01, 0.02, 0.03, 0.04$."
   ]
  },
  {
   "cell_type": "markdown",
   "id": "45fa825e-f3cb-476a-ab67-712e748f92f6",
   "metadata": {},
   "source": [
    "It can be proved that SER 2 finds the sparsest possible decomposition for $P_6(0.01)$."
   ]
  },
  {
   "cell_type": "code",
   "execution_count": 15,
   "id": "1d30bf5f-3318-4333-8d55-0847c79aeae9",
   "metadata": {},
   "outputs": [
    {
     "data": {
      "text/plain": [
       "(5,\n",
       " [30, 30, 20, 19, 1],\n",
       " array([[ 0,  6,  6,  4,  2,  6,  4,  7,  8, 14, 14, 12, 10, 14, 12, 15],\n",
       "        [ 0,  6,  6,  5,  2,  7,  5,  7,  8, 14, 14, 13, 10, 15, 13, 15],\n",
       "        [ 0,  6,  6,  0,  2,  6,  4,  7,  8, 14, 14,  8, 10, 14, 12, 15],\n",
       "        [ 0,  6,  6,  1,  2,  7,  5,  7,  8, 14, 14,  9, 10, 15, 13, 15],\n",
       "        [ 3,  3,  3,  1,  3,  7,  5,  3, 11, 11, 11,  9, 11, 15, 13, 11]],\n",
       "       dtype=int64))"
      ]
     },
     "execution_count": 15,
     "metadata": {},
     "output_type": "execute_result"
    }
   ],
   "source": [
    "PBGDM_PBN_P6_d1 = np.zeros((16, 16), dtype=int)\n",
    "PBGDM_PBN_P6_d1[0:8, 0:8] = PBGDM_PBN_P4_d1\n",
    "PBGDM_PBN_P6_d1[8:16, 8:16] = PBGDM_PBN_P4_d1\n",
    "\n",
    "SER_2(PBGDM_PBN_P6_d1)"
   ]
  },
  {
   "cell_type": "markdown",
   "id": "6dcac2c8-b361-41c7-95ed-fa34e683ccdb",
   "metadata": {},
   "source": [
    "It can be proved that SER 2 finds the sparsest possible decomposition for $P_6(0.02)$."
   ]
  },
  {
   "cell_type": "code",
   "execution_count": 16,
   "id": "a77de891-c02c-4412-a685-8085eb61ff6d",
   "metadata": {},
   "outputs": [
    {
     "data": {
      "text/plain": [
       "(5,\n",
       " [15, 15, 10, 9, 1],\n",
       " array([[ 0,  6,  6,  4,  2,  6,  4,  7,  8, 14, 14, 12, 10, 14, 12, 15],\n",
       "        [ 0,  6,  6,  5,  2,  7,  5,  7,  8, 14, 14, 13, 10, 15, 13, 15],\n",
       "        [ 0,  6,  6,  0,  2,  6,  4,  7,  8, 14, 14,  8, 10, 14, 12, 15],\n",
       "        [ 0,  6,  6,  1,  2,  7,  5,  7,  8, 14, 14,  9, 10, 15, 13, 15],\n",
       "        [ 3,  3,  3,  1,  3,  7,  5,  3, 11, 11, 11,  9, 11, 15, 13, 11]],\n",
       "       dtype=int64))"
      ]
     },
     "execution_count": 16,
     "metadata": {},
     "output_type": "execute_result"
    }
   ],
   "source": [
    "PBGDM_PBN_P6_d2 = np.zeros((16, 16), dtype=int)\n",
    "PBGDM_PBN_P6_d2[0:8, 0:8] = PBGDM_PBN_P4_d2\n",
    "PBGDM_PBN_P6_d2[8:16, 8:16] = PBGDM_PBN_P4_d2\n",
    "\n",
    "SER_2(PBGDM_PBN_P6_d2)"
   ]
  },
  {
   "cell_type": "markdown",
   "id": "ba21982a-6ae0-4230-a17d-cd068158a47e",
   "metadata": {},
   "source": [
    "It can be proved that SER 2 finds the sparsest possible decomposition for $P_6(0.03)$."
   ]
  },
  {
   "cell_type": "code",
   "execution_count": 17,
   "id": "953ebc36-a854-403e-833e-741e1e7392fb",
   "metadata": {},
   "outputs": [
    {
     "data": {
      "text/plain": [
       "(5,\n",
       " [30, 30, 20, 17, 3],\n",
       " array([[ 0,  6,  6,  4,  2,  6,  4,  7,  8, 14, 14, 12, 10, 14, 12, 15],\n",
       "        [ 0,  6,  6,  5,  2,  7,  5,  7,  8, 14, 14, 13, 10, 15, 13, 15],\n",
       "        [ 0,  6,  6,  0,  2,  6,  4,  7,  8, 14, 14,  8, 10, 14, 12, 15],\n",
       "        [ 0,  6,  6,  1,  2,  7,  5,  7,  8, 14, 14,  9, 10, 15, 13, 15],\n",
       "        [ 3,  3,  3,  1,  3,  7,  5,  3, 11, 11, 11,  9, 11, 15, 13, 11]],\n",
       "       dtype=int64))"
      ]
     },
     "execution_count": 17,
     "metadata": {},
     "output_type": "execute_result"
    }
   ],
   "source": [
    "PBGDM_PBN_P6_d3 = np.zeros((16, 16), dtype=int)\n",
    "PBGDM_PBN_P6_d3[0:8, 0:8] = PBGDM_PBN_P4_d3\n",
    "PBGDM_PBN_P6_d3[8:16, 8:16] = PBGDM_PBN_P4_d3\n",
    "\n",
    "SER_2(PBGDM_PBN_P6_d3)"
   ]
  },
  {
   "cell_type": "markdown",
   "id": "ca6c99de-84c7-46e3-9fa3-910a417d7b5f",
   "metadata": {},
   "source": [
    "It can be proved that SER 2 finds the sparsest possible decomposition for $P_6(0.04)$."
   ]
  },
  {
   "cell_type": "code",
   "execution_count": 18,
   "id": "47a6e0af-5055-4585-acae-cab238c06fb0",
   "metadata": {},
   "outputs": [
    {
     "data": {
      "text/plain": [
       "(5,\n",
       " [15, 15, 10, 8, 2],\n",
       " array([[ 0,  6,  6,  4,  2,  6,  4,  7,  8, 14, 14, 12, 10, 14, 12, 15],\n",
       "        [ 0,  6,  6,  5,  2,  7,  5,  7,  8, 14, 14, 13, 10, 15, 13, 15],\n",
       "        [ 0,  6,  6,  0,  2,  6,  4,  7,  8, 14, 14,  8, 10, 14, 12, 15],\n",
       "        [ 0,  6,  6,  1,  2,  7,  5,  7,  8, 14, 14,  9, 10, 15, 13, 15],\n",
       "        [ 3,  3,  3,  1,  3,  7,  5,  3, 11, 11, 11,  9, 11, 15, 13, 11]],\n",
       "       dtype=int64))"
      ]
     },
     "execution_count": 18,
     "metadata": {},
     "output_type": "execute_result"
    }
   ],
   "source": [
    "PBGDM_PBN_P6_d4 = np.zeros((16, 16), dtype=int)\n",
    "PBGDM_PBN_P6_d4[0:8, 0:8] = PBGDM_PBN_P4_d4\n",
    "PBGDM_PBN_P6_d4[8:16, 8:16] = PBGDM_PBN_P4_d4\n",
    "\n",
    "SER_2(PBGDM_PBN_P6_d4)"
   ]
  }
 ],
 "metadata": {
  "kernelspec": {
   "display_name": "Python 3 (ipykernel)",
   "language": "python",
   "name": "python3"
  },
  "language_info": {
   "codemirror_mode": {
    "name": "ipython",
    "version": 3
   },
   "file_extension": ".py",
   "mimetype": "text/x-python",
   "name": "python",
   "nbconvert_exporter": "python",
   "pygments_lexer": "ipython3",
   "version": "3.9.12"
  }
 },
 "nbformat": 4,
 "nbformat_minor": 5
}
